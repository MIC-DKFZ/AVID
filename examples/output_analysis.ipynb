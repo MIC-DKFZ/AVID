{
 "cells": [
  {
   "cell_type": "markdown",
   "id": "168e35c1-82d8-4a2a-a8b7-7e4d8e0d9670",
   "metadata": {},
   "source": [
    "# Analysis of AVID output files"
   ]
  },
  {
   "cell_type": "markdown",
   "id": "1f593d7c-8ead-4b1e-b27f-dc27b041e258",
   "metadata": {},
   "source": [
    "Any information of an AVID session can be accessed via the xml-style session files. However, the file itself is hard to read. Instead, we will look at how to analyze `.avid` files programmatically.\n",
    "\n",
    "## Loading\n",
    "First, we specify the file we want to open. Here we will use the `output/example.avid` from the basic example notebook.\n",
    "\n",
    "When loading the artefacts in this way, we can opt to use the argument `check_validity`. It determines if the loaded artefacts are checked for their validity (i.e. do the respective files exist?) and set to `invalid` if needed. This can be relevant when analyzing outputs that were produced on a different machine, e.g. when running a workflow on a high-perfomance cluster, and your current machine does not have access to the session data. In that case, you can avoid _every_ artefact being marked as invalid by setting the argument `check_validity = False`. This will read in the session as is, without checking/changing anything.\n",
    "In this case, it doesn't matter since we have access to all the files used in the example session."
   ]
  },
  {
   "cell_type": "code",
   "execution_count": 1,
   "id": "d6652491-c2b0-4ea6-9f9a-31bed0ca07e7",
   "metadata": {},
   "outputs": [],
   "source": [
    "from avid.common.artefact import ArtefactCollection\n",
    "import avid.common.artefact.fileHelper as fileHelper"
   ]
  },
  {
   "cell_type": "code",
   "execution_count": 2,
   "id": "185222a3-44fc-470a-bd32-3fe93a49b24c",
   "metadata": {},
   "outputs": [],
   "source": [
    "filepath = \"output/example.avid\"\n",
    "artefacts = ArtefactCollection(fileHelper.load_artefact_collection_from_xml(filepath, check_validity=False))"
   ]
  },
  {
   "cell_type": "code",
   "execution_count": 3,
   "id": "7c151716-6909-4afd-ae52-067f4cf0123f",
   "metadata": {},
   "outputs": [
    {
     "data": {
      "text/plain": [
       "ArtefactCollection(15 artefacts)"
      ]
     },
     "execution_count": 3,
     "metadata": {},
     "output_type": "execute_result"
    }
   ],
   "source": [
    "artefacts"
   ]
  },
  {
   "cell_type": "markdown",
   "id": "40213c10-0983-4ea1-a46b-3b3b18addef1",
   "metadata": {},
   "source": [
    "## Selecting specific artefacts\n",
    "Just like in an AVID workflow script, we can use _Selectors_ to filter for specific artefacts. For example, we can get all artefacts with a specific _actionTag_. Unlike in a workflow script, where we usually hand over _Selectors_ to various actions, here we use them directly on our collection of artefacts:"
   ]
  },
  {
   "cell_type": "code",
   "execution_count": 4,
   "id": "7ad70fe5-84d1-4e4c-b8ae-0d729413ee82",
   "metadata": {},
   "outputs": [],
   "source": [
    "from avid.selectors import ActionTagSelector, TimepointSelector"
   ]
  },
  {
   "cell_type": "code",
   "execution_count": 5,
   "id": "b611b3e0-709e-45da-b75e-d193bbd47562",
   "metadata": {},
   "outputs": [],
   "source": [
    "mr_selector = ActionTagSelector('MR')\n",
    "mr_artefacts = mr_selector.getSelection(artefacts)"
   ]
  },
  {
   "cell_type": "code",
   "execution_count": 6,
   "id": "7586b193-a8e8-4486-b10f-c8d1fcc8f01f",
   "metadata": {},
   "outputs": [
    {
     "data": {
      "text/plain": [
       "ArtefactCollection(6 artefacts)"
      ]
     },
     "execution_count": 6,
     "metadata": {},
     "output_type": "execute_result"
    }
   ],
   "source": [
    "mr_artefacts"
   ]
  },
  {
   "cell_type": "markdown",
   "id": "ed1e83e9-1f93-4b21-8588-7ee6915d1a50",
   "metadata": {},
   "source": [
    "These results can then be further filtered by subsequent selectors. As usual, selectors can also be combined to respect several conditions at once:"
   ]
  },
  {
   "cell_type": "code",
   "execution_count": 7,
   "id": "599cc520-a39e-4ad8-a336-7d40d04acd6e",
   "metadata": {},
   "outputs": [
    {
     "name": "stdout",
     "output_type": "stream",
     "text": [
      "Further filtering of mr_artefacts: ArtefactCollection(4 artefacts)\n",
      "Combined filtering of both selectors: ArtefactCollection(4 artefacts)\n",
      "Both methods yield the same result: True\n"
     ]
    }
   ],
   "source": [
    "tp1_selector = TimepointSelector('TP1')\n",
    "mr_artefacts_tp1 = tp1_selector.getSelection(mr_artefacts)\n",
    "print(f\"Further filtering of mr_artefacts: {mr_artefacts_tp1}\")\n",
    "\n",
    "mr_tp1_selector = mr_selector + tp1_selector\n",
    "mr_tp1_artefacts = mr_tp1_selector.getSelection(artefacts)\n",
    "print(f\"Combined filtering of both selectors: {mr_tp1_artefacts}\")\n",
    "\n",
    "print(f\"Both methods yield the same result: {mr_artefacts_tp1 == mr_tp1_artefacts}\")"
   ]
  },
  {
   "cell_type": "markdown",
   "id": "6eb913c1-383e-49f7-91e4-0202fb458145",
   "metadata": {},
   "source": [
    "Without looking into the details within these artefact collections, we can already gather some insights. For example, this code will give an overview what percentage of artefacts for the actionTag `MR` are invalid:"
   ]
  },
  {
   "cell_type": "code",
   "execution_count": 8,
   "id": "35101953-07b4-4f7c-a36f-7d77ad7a9e6c",
   "metadata": {},
   "outputs": [],
   "source": [
    "from avid.selectors import ActionTagSelector, ValiditySelector"
   ]
  },
  {
   "cell_type": "code",
   "execution_count": 9,
   "id": "e75214da-dce7-43ff-a146-861bdb228ebf",
   "metadata": {},
   "outputs": [
    {
     "name": "stdout",
     "output_type": "stream",
     "text": [
      "Valid MR artefacts: 6/6 (100%)\n"
     ]
    }
   ],
   "source": [
    "mr_selector = ActionTagSelector('MR')\n",
    "mr_artefacts = mr_selector.getSelection(artefacts)\n",
    "mr_count = len(mr_artefacts)\n",
    "\n",
    "valid_selector = ValiditySelector()\n",
    "valid_mr_artefacts = valid_selector.getSelection(mr_artefacts)\n",
    "valid_mr_count = len(valid_mr_artefacts)\n",
    "\n",
    "percentage = 100 * valid_mr_count / mr_count\n",
    "\n",
    "print(f\"Valid MR artefacts: {valid_mr_count}/{mr_count} ({percentage:2.0f}%)\")"
   ]
  },
  {
   "cell_type": "markdown",
   "id": "717fd520-7d71-437f-8a2a-99e9368ad18b",
   "metadata": {},
   "source": [
    "## Accessing artefact information\n",
    "If we are interested in the actual contents of the artefacts, we can simply iterate over the artefact collection. All the metadata is accessible via keywords."
   ]
  },
  {
   "cell_type": "code",
   "execution_count": 10,
   "id": "89ea2b41-e40e-4aad-b04d-db550901d0a0",
   "metadata": {},
   "outputs": [
    {
     "name": "stdout",
     "output_type": "stream",
     "text": [
      "Artefact({'case': 'pat1', 'caseInstance': None, 'timePoint': 'TP1', 'actionTag': 'MR', 'type': 'result', 'format': 'itk', 'url': '..\\\\data\\\\img\\\\pat1_TP1_MR.txt', 'objective': 'MR', 'result_sub_tag': None, 'result_sub_count': None, 'invalid': False, 'input_ids': None, 'action_class': None, 'action_instance_uid': None, 'id': 'bbe232b9-5740-11ec-85a6-e9d058c65a83', 'timestamp': '1638869608.3333993', 'execution_duration': None}, {})\n",
      "Artefact({'case': 'pat1', 'caseInstance': None, 'timePoint': 'TP2', 'actionTag': 'MR', 'type': 'result', 'format': 'itk', 'url': '..\\\\data\\\\img\\\\pat1_TP2_MR.txt', 'objective': 'MR', 'result_sub_tag': None, 'result_sub_count': None, 'invalid': False, 'input_ids': None, 'action_class': None, 'action_instance_uid': None, 'id': 'bbe232ba-5740-11ec-85a6-e9d058c65a83', 'timestamp': '1638869608.3335395', 'execution_duration': None}, {})\n",
      "Artefact({'case': 'pat2', 'caseInstance': None, 'timePoint': 'TP1', 'actionTag': 'MR', 'type': 'result', 'format': 'itk', 'url': '..\\\\data\\\\img\\\\pat2_TP1_MR1.txt', 'objective': 'MR1', 'result_sub_tag': None, 'result_sub_count': None, 'invalid': False, 'input_ids': None, 'action_class': None, 'action_instance_uid': None, 'id': 'bbe232bc-5740-11ec-85a6-e9d058c65a83', 'timestamp': '1638869608.3337827', 'execution_duration': None}, {})\n",
      "Artefact({'case': 'pat2', 'caseInstance': None, 'timePoint': 'TP1', 'actionTag': 'MR', 'type': 'result', 'format': 'itk', 'url': '..\\\\data\\\\img\\\\pat2_TP1_MR2.txt', 'objective': 'MR2', 'result_sub_tag': None, 'result_sub_count': None, 'invalid': False, 'input_ids': None, 'action_class': None, 'action_instance_uid': None, 'id': 'bbe232bd-5740-11ec-85a6-e9d058c65a83', 'timestamp': '1638869608.3339067', 'execution_duration': None}, {})\n",
      "Artefact({'case': 'pat2', 'caseInstance': None, 'timePoint': 'TP2', 'actionTag': 'MR', 'type': 'result', 'format': 'itk', 'url': '..\\\\data\\\\img\\\\pat2_TP2_MR1.txt', 'objective': 'MR1', 'result_sub_tag': None, 'result_sub_count': None, 'invalid': False, 'input_ids': None, 'action_class': None, 'action_instance_uid': None, 'id': 'bbe232bf-5740-11ec-85a6-e9d058c65a83', 'timestamp': '1638869608.3341768', 'execution_duration': None}, {})\n",
      "Artefact({'case': 'pat3', 'caseInstance': None, 'timePoint': 'TP1', 'actionTag': 'MR', 'type': 'result', 'format': 'itk', 'url': '..\\\\data\\\\img\\\\pat3_TP1_MR.txt', 'objective': 'MR', 'result_sub_tag': None, 'result_sub_count': None, 'invalid': False, 'input_ids': None, 'action_class': None, 'action_instance_uid': None, 'id': 'bbe232c0-5740-11ec-85a6-e9d058c65a83', 'timestamp': '1638869608.3343294', 'execution_duration': None}, {})\n"
     ]
    }
   ],
   "source": [
    "for artefact in mr_artefacts:\n",
    "    print(artefact)"
   ]
  },
  {
   "cell_type": "code",
   "execution_count": 11,
   "id": "88f2a3d0-5482-4584-bb2c-e0e55b867766",
   "metadata": {},
   "outputs": [
    {
     "name": "stdout",
     "output_type": "stream",
     "text": [
      "pat1:  ..\\data\\img\\pat1_TP1_MR.txt\n",
      "pat1:  ..\\data\\img\\pat1_TP2_MR.txt\n",
      "pat2:  ..\\data\\img\\pat2_TP1_MR1.txt\n",
      "pat2:  ..\\data\\img\\pat2_TP1_MR2.txt\n",
      "pat2:  ..\\data\\img\\pat2_TP2_MR1.txt\n",
      "pat3:  ..\\data\\img\\pat3_TP1_MR.txt\n"
     ]
    }
   ],
   "source": [
    "for artefact in mr_artefacts:\n",
    "    print(f\"{artefact['case']}:  {artefact['url']}\")"
   ]
  }
 ],
 "metadata": {
  "kernelspec": {
   "display_name": "avid_env_kernel",
   "language": "python",
   "name": "avid_env_kernel"
  },
  "language_info": {
   "codemirror_mode": {
    "name": "ipython",
    "version": 3
   },
   "file_extension": ".py",
   "mimetype": "text/x-python",
   "name": "python",
   "nbconvert_exporter": "python",
   "pygments_lexer": "ipython3",
   "version": "3.9.13"
  }
 },
 "nbformat": 4,
 "nbformat_minor": 5
}
