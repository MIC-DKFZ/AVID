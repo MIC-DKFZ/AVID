{
 "cells": [
  {
   "cell_type": "markdown",
   "id": "168e35c1-82d8-4a2a-a8b7-7e4d8e0d9670",
   "metadata": {},
   "source": [
    "# Analysis of AVID output files"
   ]
  },
  {
   "cell_type": "markdown",
   "id": "1f593d7c-8ead-4b1e-b27f-dc27b041e258",
   "metadata": {},
   "source": [
    "Any information of an AVID session can be accessed via the xml-style session files. However, the file itself is hard to read. Instead, we will look at how to analyze `.avid` files programmatically.  \n",
    "As an example we will be using the `output/introduction.avid` from the basic introduction notebook. If it doesn't exist yet, simply execute all cells in the basic introduction notebook."
   ]
  },
  {
   "cell_type": "markdown",
   "id": "d976a769-d18d-455d-ac86-be57f157cf93",
   "metadata": {},
   "source": [
    "# AVID Diagnostics Tool"
   ]
  },
  {
   "cell_type": "markdown",
   "id": "c21c0574-3c88-4ead-9208-db6888edbae8",
   "metadata": {},
   "source": [
    "The most direct way to get an overview is by using the **AVID Diagnostics Tool**, a script you can execute from the commandline. It loads an artefact collection and allows filtering by criteria such as validity, root status, or whether artefacts are used as sources.\n",
    "\n",
    "The call signature looks like this:  \n",
    "`aviddiag <artefactfile> [options]`  \n",
    "where \"artefactfile\" is the path to the artefact file to be analysed and \"options\" can be any combination of the following flags:\n",
    "- `-h`, `--help` Shows the help text\n",
    "- `--invalids` Selects only artefacts that are _invalid_.\n",
    "- `--roots` Selects only artefacts that have _no input artefacts/sources_ (root artefacts).\n",
    "- `--prime-invalids` Selects only _prime invalid artefacts_, i.e. invalid artefacts whose inputs are all valid or missing. This flag overrides --invalids.\n",
    "- `--sources` Selects only artefacts that are _inputs for other artefacts_.\n",
    "\n",
    "As output, the tool prints:\n",
    "- The path of the loaded file\n",
    "- The number of selected artefacts\n",
    "- A tabular overview with:\n",
    "    - Case\n",
    "    - Action Tag\n",
    "    - Timepoint\n",
    "    - Fail (i.e. invalid)\n",
    "    - URL\n",
    "\n",
    "\n",
    "An exemplary call could look like this:  \n",
    "(In a commandline with an active environment where AVID is installed, you would simply call `aviddiag output/introduction.avid --sources`)"
   ]
  },
  {
   "cell_type": "code",
   "execution_count": 1,
   "id": "484d6a8f-b89c-40fe-86f8-5fe0bfc95868",
   "metadata": {},
   "outputs": [
    {
     "name": "stdout",
     "output_type": "stream",
     "text": [
      "AVID diagnostics tool\n",
      "\n",
      "Artefacts loaded from: output/introduction.avid\n",
      "Number of selected artefacts: 8\n",
      "\n",
      "#    | Case                 | Action tag           | Timepoint  | Fail  | URL\n",
      "   0 | pat1                 | CT                   |          1 |     0 | data\\pat1\\CT_TP1.txt\n",
      "   1 | pat1                 | MR                   |          1 |     0 | data\\pat1\\MR_TP1.txt\n",
      "   2 | pat1                 | MR                   |          2 |     0 | data\\pat1\\MR_TP2.txt\n",
      "   3 | pat2                 | CT                   |          1 |     0 | data\\pat2\\CT_TP1.txt\n",
      "   4 | pat2                 | MR                   |          1 |     0 | data\\pat2\\MR_TP1.txt\n",
      "   5 | pat1                 | example1             |          1 |     0 | output\\introduction.avid_session\\example1\\result\\pat1\\write_filename.427d844d-93a3-11f0-885a-847b57957cf1.txt\n",
      "   6 | pat1                 | example1             |          1 |     0 | output\\introduction.avid_session\\example1\\result\\pat1\\write_filename.427e98e9-93a3-11f0-9df0-847b57957cf1.txt\n",
      "   7 | pat1                 | example1             |          2 |     0 | output\\introduction.avid_session\\example1\\result\\pat1\\write_filename.427e98ea-93a3-11f0-a046-847b57957cf1.txt\n"
     ]
    }
   ],
   "source": [
    "# making sure we use the \"aviddiag\" executable of this virtual environment\n",
    "import sys, pathlib\n",
    "venv_bin = pathlib.Path(sys.executable).parent\n",
    "aviddiag_executable = venv_bin / \"aviddiag\"\n",
    "\n",
    "!{aviddiag_executable} output/introduction.avid --sources"
   ]
  },
  {
   "cell_type": "markdown",
   "id": "d39026e4-432a-4129-9244-fcee40959f07",
   "metadata": {},
   "source": [
    "If we are interested in more detailed information, we can manually load the artefact file in Python and analyze its contents. For this, keep on reading."
   ]
  },
  {
   "cell_type": "markdown",
   "id": "7e49625d-306e-4675-8f31-18fef41418b4",
   "metadata": {},
   "source": [
    "# Analysis in Python"
   ]
  },
  {
   "cell_type": "markdown",
   "id": "5a9740a9-ee30-4182-8bd2-98c8f67822e1",
   "metadata": {},
   "source": [
    "## Loading\n",
    "First, we specify the file we want to open. We will again be using the `output/introduction.avid` from the basic introduction notebook.\n",
    "\n",
    "When loading the artefacts in this way, we can opt to use the argument `check_validity`. It determines if the loaded artefacts are checked for their validity (i.e. do the respective files exist?) and set to `invalid` if needed. This can be relevant when analyzing outputs that were produced on a different machine, e.g. when running a workflow on a high-perfomance cluster, and your current machine does not have access to the session data. In that case, you can avoid _every_ artefact being marked as invalid by setting the argument `check_validity = False`. This will read in the session as is, without checking/changing anything.\n",
    "In this case, it doesn't matter since we have access to all the files used in the example session."
   ]
  },
  {
   "cell_type": "code",
   "execution_count": 2,
   "id": "d6652491-c2b0-4ea6-9f9a-31bed0ca07e7",
   "metadata": {},
   "outputs": [],
   "source": [
    "from avid.common.artefact import ArtefactCollection\n",
    "import avid.common.artefact.fileHelper as fileHelper"
   ]
  },
  {
   "cell_type": "code",
   "execution_count": 3,
   "id": "185222a3-44fc-470a-bd32-3fe93a49b24c",
   "metadata": {},
   "outputs": [],
   "source": [
    "filepath = \"output/introduction.avid\"\n",
    "artefacts = ArtefactCollection(fileHelper.load_artefact_collection_from_xml(filepath, check_validity=False))"
   ]
  },
  {
   "cell_type": "code",
   "execution_count": 4,
   "id": "7c151716-6909-4afd-ae52-067f4cf0123f",
   "metadata": {},
   "outputs": [
    {
     "data": {
      "text/plain": [
       "ArtefactCollection(18 artefacts)"
      ]
     },
     "execution_count": 4,
     "metadata": {},
     "output_type": "execute_result"
    }
   ],
   "source": [
    "artefacts"
   ]
  },
  {
   "cell_type": "markdown",
   "id": "40213c10-0983-4ea1-a46b-3b3b18addef1",
   "metadata": {},
   "source": [
    "## Selecting specific artefacts\n",
    "Just like in an AVID workflow script, we can use _Selectors_ to filter for specific artefacts. For example, we can get all artefacts with a specific _actionTag_. Unlike in a workflow script, where we usually hand over _Selectors_ to various actions, here we use them directly on our collection of artefacts:"
   ]
  },
  {
   "cell_type": "code",
   "execution_count": 5,
   "id": "7ad70fe5-84d1-4e4c-b8ae-0d729413ee82",
   "metadata": {},
   "outputs": [],
   "source": [
    "from avid.selectors import ActionTagSelector, TimepointSelector"
   ]
  },
  {
   "cell_type": "code",
   "execution_count": 6,
   "id": "b611b3e0-709e-45da-b75e-d193bbd47562",
   "metadata": {},
   "outputs": [],
   "source": [
    "mr_selector = ActionTagSelector('MR')\n",
    "mr_artefacts = mr_selector.getSelection(artefacts)"
   ]
  },
  {
   "cell_type": "code",
   "execution_count": 7,
   "id": "7586b193-a8e8-4486-b10f-c8d1fcc8f01f",
   "metadata": {},
   "outputs": [
    {
     "data": {
      "text/plain": [
       "ArtefactCollection(3 artefacts)"
      ]
     },
     "execution_count": 7,
     "metadata": {},
     "output_type": "execute_result"
    }
   ],
   "source": [
    "mr_artefacts"
   ]
  },
  {
   "cell_type": "markdown",
   "id": "ed1e83e9-1f93-4b21-8588-7ee6915d1a50",
   "metadata": {},
   "source": [
    "These results can then be further filtered by subsequent selectors. As usual, selectors can also be combined to respect several conditions at once:"
   ]
  },
  {
   "cell_type": "code",
   "execution_count": 8,
   "id": "599cc520-a39e-4ad8-a336-7d40d04acd6e",
   "metadata": {},
   "outputs": [
    {
     "name": "stdout",
     "output_type": "stream",
     "text": [
      "Further filtering of mr_artefacts: ArtefactCollection(2 artefacts)\n",
      "Combined filtering of both selectors: ArtefactCollection(2 artefacts)\n",
      "Both methods yield the same result: True\n"
     ]
    }
   ],
   "source": [
    "tp1_selector = TimepointSelector(1)\n",
    "mr_artefacts_tp1 = tp1_selector.getSelection(mr_artefacts)\n",
    "print(f\"Further filtering of mr_artefacts: {mr_artefacts_tp1}\")\n",
    "\n",
    "mr_tp1_selector = mr_selector + tp1_selector\n",
    "mr_tp1_artefacts = mr_tp1_selector.getSelection(artefacts)\n",
    "print(f\"Combined filtering of both selectors: {mr_tp1_artefacts}\")\n",
    "\n",
    "print(f\"Both methods yield the same result: {mr_artefacts_tp1 == mr_tp1_artefacts}\")"
   ]
  },
  {
   "cell_type": "markdown",
   "id": "6eb913c1-383e-49f7-91e4-0202fb458145",
   "metadata": {},
   "source": [
    "Without looking into the details within these artefact collections, we can already gather some insights. For example, this code will give an overview what percentage of artefacts for the actionTag `MR` are invalid:"
   ]
  },
  {
   "cell_type": "code",
   "execution_count": 9,
   "id": "35101953-07b4-4f7c-a36f-7d77ad7a9e6c",
   "metadata": {},
   "outputs": [],
   "source": [
    "from avid.selectors import ActionTagSelector, ValiditySelector"
   ]
  },
  {
   "cell_type": "code",
   "execution_count": 10,
   "id": "e75214da-dce7-43ff-a146-861bdb228ebf",
   "metadata": {},
   "outputs": [
    {
     "name": "stdout",
     "output_type": "stream",
     "text": [
      "Valid MR artefacts: 3/3 (100%)\n"
     ]
    }
   ],
   "source": [
    "mr_selector = ActionTagSelector('MR')\n",
    "mr_artefacts = mr_selector.getSelection(artefacts)\n",
    "mr_count = len(mr_artefacts)\n",
    "\n",
    "valid_selector = ValiditySelector()\n",
    "valid_mr_artefacts = valid_selector.getSelection(mr_artefacts)\n",
    "valid_mr_count = len(valid_mr_artefacts)\n",
    "\n",
    "percentage = 100 * valid_mr_count / mr_count\n",
    "\n",
    "print(f\"Valid MR artefacts: {valid_mr_count}/{mr_count} ({percentage:2.0f}%)\")"
   ]
  },
  {
   "cell_type": "markdown",
   "id": "717fd520-7d71-437f-8a2a-99e9368ad18b",
   "metadata": {},
   "source": [
    "## Accessing artefact information\n",
    "If we are interested in the actual contents of the artefacts, we can simply iterate over the artefact collection. All the metadata is accessible via keywords."
   ]
  },
  {
   "cell_type": "code",
   "execution_count": 11,
   "id": "10a39712-1351-49fe-b655-963cdcefc8a8",
   "metadata": {},
   "outputs": [],
   "source": [
    "from avid.common.workflow.console_abstraction import Console\n",
    "console = Console()"
   ]
  },
  {
   "cell_type": "code",
   "execution_count": 12,
   "id": "89ea2b41-e40e-4aad-b04d-db550901d0a0",
   "metadata": {},
   "outputs": [
    {
     "data": {
      "text/html": [
       "<pre style=\"white-space:pre;overflow-x:auto;line-height:normal;font-family:Menlo,'DejaVu Sans Mono',consolas,'Courier New',monospace\"><span style=\"color: #800080; text-decoration-color: #800080; font-weight: bold\">Artefact</span><span style=\"font-weight: bold\">({</span><span style=\"color: #008000; text-decoration-color: #008000\">'case'</span>: <span style=\"color: #008000; text-decoration-color: #008000\">'pat1'</span>, <span style=\"color: #008000; text-decoration-color: #008000\">'caseInstance'</span>: <span style=\"color: #800080; text-decoration-color: #800080; font-style: italic\">None</span>, <span style=\"color: #008000; text-decoration-color: #008000\">'timePoint'</span>: <span style=\"color: #008080; text-decoration-color: #008080; font-weight: bold\">1</span>, <span style=\"color: #008000; text-decoration-color: #008000\">'actionTag'</span>: <span style=\"color: #008000; text-decoration-color: #008000\">'MR'</span>, <span style=\"color: #008000; text-decoration-color: #008000\">'type'</span>: <span style=\"color: #008000; text-decoration-color: #008000\">'result'</span>, <span style=\"color: #008000; text-decoration-color: #008000\">'format'</span>: \n",
       "<span style=\"color: #800080; text-decoration-color: #800080; font-style: italic\">None</span>, <span style=\"color: #008000; text-decoration-color: #008000\">'url'</span>: <span style=\"color: #008000; text-decoration-color: #008000\">'..\\\\data\\\\pat1\\\\MR_TP1.txt'</span>, <span style=\"color: #008000; text-decoration-color: #008000\">'objective'</span>: <span style=\"color: #800080; text-decoration-color: #800080; font-style: italic\">None</span>, <span style=\"color: #008000; text-decoration-color: #008000\">'result_sub_tag'</span>: <span style=\"color: #800080; text-decoration-color: #800080; font-style: italic\">None</span>, <span style=\"color: #008000; text-decoration-color: #008000\">'result_sub_count'</span>: <span style=\"color: #800080; text-decoration-color: #800080; font-style: italic\">None</span>, \n",
       "<span style=\"color: #008000; text-decoration-color: #008000\">'invalid'</span>: <span style=\"color: #ff0000; text-decoration-color: #ff0000; font-style: italic\">False</span>, <span style=\"color: #008000; text-decoration-color: #008000\">'input_ids'</span>: <span style=\"color: #800080; text-decoration-color: #800080; font-style: italic\">None</span>, <span style=\"color: #008000; text-decoration-color: #008000\">'action_class'</span>: <span style=\"color: #800080; text-decoration-color: #800080; font-style: italic\">None</span>, <span style=\"color: #008000; text-decoration-color: #008000\">'action_instance_uid'</span>: <span style=\"color: #800080; text-decoration-color: #800080; font-style: italic\">None</span>, <span style=\"color: #008000; text-decoration-color: #008000\">'id'</span>: \n",
       "<span style=\"color: #008000; text-decoration-color: #008000\">'3dda640e-93a3-11f0-b6fa-847b57957cf1'</span>, <span style=\"color: #008000; text-decoration-color: #008000\">'timestamp'</span>: <span style=\"color: #008000; text-decoration-color: #008000\">'1758098977.5160332'</span>, <span style=\"color: #008000; text-decoration-color: #008000\">'execution_duration'</span>: <span style=\"color: #800080; text-decoration-color: #800080; font-style: italic\">None</span><span style=\"font-weight: bold\">}</span>, <span style=\"font-weight: bold\">{})</span>\n",
       "</pre>\n"
      ],
      "text/plain": [
       "\u001b[1;35mArtefact\u001b[0m\u001b[1m(\u001b[0m\u001b[1m{\u001b[0m\u001b[32m'case'\u001b[0m: \u001b[32m'pat1'\u001b[0m, \u001b[32m'caseInstance'\u001b[0m: \u001b[3;35mNone\u001b[0m, \u001b[32m'timePoint'\u001b[0m: \u001b[1;36m1\u001b[0m, \u001b[32m'actionTag'\u001b[0m: \u001b[32m'MR'\u001b[0m, \u001b[32m'type'\u001b[0m: \u001b[32m'result'\u001b[0m, \u001b[32m'format'\u001b[0m: \n",
       "\u001b[3;35mNone\u001b[0m, \u001b[32m'url'\u001b[0m: \u001b[32m'..\\\\data\\\\pat1\\\\MR_TP1.txt'\u001b[0m, \u001b[32m'objective'\u001b[0m: \u001b[3;35mNone\u001b[0m, \u001b[32m'result_sub_tag'\u001b[0m: \u001b[3;35mNone\u001b[0m, \u001b[32m'result_sub_count'\u001b[0m: \u001b[3;35mNone\u001b[0m, \n",
       "\u001b[32m'invalid'\u001b[0m: \u001b[3;91mFalse\u001b[0m, \u001b[32m'input_ids'\u001b[0m: \u001b[3;35mNone\u001b[0m, \u001b[32m'action_class'\u001b[0m: \u001b[3;35mNone\u001b[0m, \u001b[32m'action_instance_uid'\u001b[0m: \u001b[3;35mNone\u001b[0m, \u001b[32m'id'\u001b[0m: \n",
       "\u001b[32m'3dda640e-93a3-11f0-b6fa-847b57957cf1'\u001b[0m, \u001b[32m'timestamp'\u001b[0m: \u001b[32m'1758098977.5160332'\u001b[0m, \u001b[32m'execution_duration'\u001b[0m: \u001b[3;35mNone\u001b[0m\u001b[1m}\u001b[0m, \u001b[1m{\u001b[0m\u001b[1m}\u001b[0m\u001b[1m)\u001b[0m\n"
      ]
     },
     "metadata": {},
     "output_type": "display_data"
    },
    {
     "data": {
      "text/html": [
       "<pre style=\"white-space:pre;overflow-x:auto;line-height:normal;font-family:Menlo,'DejaVu Sans Mono',consolas,'Courier New',monospace\"><span style=\"color: #800080; text-decoration-color: #800080; font-weight: bold\">Artefact</span><span style=\"font-weight: bold\">({</span><span style=\"color: #008000; text-decoration-color: #008000\">'case'</span>: <span style=\"color: #008000; text-decoration-color: #008000\">'pat1'</span>, <span style=\"color: #008000; text-decoration-color: #008000\">'caseInstance'</span>: <span style=\"color: #800080; text-decoration-color: #800080; font-style: italic\">None</span>, <span style=\"color: #008000; text-decoration-color: #008000\">'timePoint'</span>: <span style=\"color: #008080; text-decoration-color: #008080; font-weight: bold\">2</span>, <span style=\"color: #008000; text-decoration-color: #008000\">'actionTag'</span>: <span style=\"color: #008000; text-decoration-color: #008000\">'MR'</span>, <span style=\"color: #008000; text-decoration-color: #008000\">'type'</span>: <span style=\"color: #008000; text-decoration-color: #008000\">'result'</span>, <span style=\"color: #008000; text-decoration-color: #008000\">'format'</span>: \n",
       "<span style=\"color: #800080; text-decoration-color: #800080; font-style: italic\">None</span>, <span style=\"color: #008000; text-decoration-color: #008000\">'url'</span>: <span style=\"color: #008000; text-decoration-color: #008000\">'..\\\\data\\\\pat1\\\\MR_TP2.txt'</span>, <span style=\"color: #008000; text-decoration-color: #008000\">'objective'</span>: <span style=\"color: #800080; text-decoration-color: #800080; font-style: italic\">None</span>, <span style=\"color: #008000; text-decoration-color: #008000\">'result_sub_tag'</span>: <span style=\"color: #800080; text-decoration-color: #800080; font-style: italic\">None</span>, <span style=\"color: #008000; text-decoration-color: #008000\">'result_sub_count'</span>: <span style=\"color: #800080; text-decoration-color: #800080; font-style: italic\">None</span>, \n",
       "<span style=\"color: #008000; text-decoration-color: #008000\">'invalid'</span>: <span style=\"color: #ff0000; text-decoration-color: #ff0000; font-style: italic\">False</span>, <span style=\"color: #008000; text-decoration-color: #008000\">'input_ids'</span>: <span style=\"color: #800080; text-decoration-color: #800080; font-style: italic\">None</span>, <span style=\"color: #008000; text-decoration-color: #008000\">'action_class'</span>: <span style=\"color: #800080; text-decoration-color: #800080; font-style: italic\">None</span>, <span style=\"color: #008000; text-decoration-color: #008000\">'action_instance_uid'</span>: <span style=\"color: #800080; text-decoration-color: #800080; font-style: italic\">None</span>, <span style=\"color: #008000; text-decoration-color: #008000\">'id'</span>: \n",
       "<span style=\"color: #008000; text-decoration-color: #008000\">'3dda640f-93a3-11f0-8fb5-847b57957cf1'</span>, <span style=\"color: #008000; text-decoration-color: #008000\">'timestamp'</span>: <span style=\"color: #008000; text-decoration-color: #008000\">'1758098977.5160332'</span>, <span style=\"color: #008000; text-decoration-color: #008000\">'execution_duration'</span>: <span style=\"color: #800080; text-decoration-color: #800080; font-style: italic\">None</span><span style=\"font-weight: bold\">}</span>, <span style=\"font-weight: bold\">{})</span>\n",
       "</pre>\n"
      ],
      "text/plain": [
       "\u001b[1;35mArtefact\u001b[0m\u001b[1m(\u001b[0m\u001b[1m{\u001b[0m\u001b[32m'case'\u001b[0m: \u001b[32m'pat1'\u001b[0m, \u001b[32m'caseInstance'\u001b[0m: \u001b[3;35mNone\u001b[0m, \u001b[32m'timePoint'\u001b[0m: \u001b[1;36m2\u001b[0m, \u001b[32m'actionTag'\u001b[0m: \u001b[32m'MR'\u001b[0m, \u001b[32m'type'\u001b[0m: \u001b[32m'result'\u001b[0m, \u001b[32m'format'\u001b[0m: \n",
       "\u001b[3;35mNone\u001b[0m, \u001b[32m'url'\u001b[0m: \u001b[32m'..\\\\data\\\\pat1\\\\MR_TP2.txt'\u001b[0m, \u001b[32m'objective'\u001b[0m: \u001b[3;35mNone\u001b[0m, \u001b[32m'result_sub_tag'\u001b[0m: \u001b[3;35mNone\u001b[0m, \u001b[32m'result_sub_count'\u001b[0m: \u001b[3;35mNone\u001b[0m, \n",
       "\u001b[32m'invalid'\u001b[0m: \u001b[3;91mFalse\u001b[0m, \u001b[32m'input_ids'\u001b[0m: \u001b[3;35mNone\u001b[0m, \u001b[32m'action_class'\u001b[0m: \u001b[3;35mNone\u001b[0m, \u001b[32m'action_instance_uid'\u001b[0m: \u001b[3;35mNone\u001b[0m, \u001b[32m'id'\u001b[0m: \n",
       "\u001b[32m'3dda640f-93a3-11f0-8fb5-847b57957cf1'\u001b[0m, \u001b[32m'timestamp'\u001b[0m: \u001b[32m'1758098977.5160332'\u001b[0m, \u001b[32m'execution_duration'\u001b[0m: \u001b[3;35mNone\u001b[0m\u001b[1m}\u001b[0m, \u001b[1m{\u001b[0m\u001b[1m}\u001b[0m\u001b[1m)\u001b[0m\n"
      ]
     },
     "metadata": {},
     "output_type": "display_data"
    },
    {
     "data": {
      "text/html": [
       "<pre style=\"white-space:pre;overflow-x:auto;line-height:normal;font-family:Menlo,'DejaVu Sans Mono',consolas,'Courier New',monospace\"><span style=\"color: #800080; text-decoration-color: #800080; font-weight: bold\">Artefact</span><span style=\"font-weight: bold\">({</span><span style=\"color: #008000; text-decoration-color: #008000\">'case'</span>: <span style=\"color: #008000; text-decoration-color: #008000\">'pat2'</span>, <span style=\"color: #008000; text-decoration-color: #008000\">'caseInstance'</span>: <span style=\"color: #800080; text-decoration-color: #800080; font-style: italic\">None</span>, <span style=\"color: #008000; text-decoration-color: #008000\">'timePoint'</span>: <span style=\"color: #008080; text-decoration-color: #008080; font-weight: bold\">1</span>, <span style=\"color: #008000; text-decoration-color: #008000\">'actionTag'</span>: <span style=\"color: #008000; text-decoration-color: #008000\">'MR'</span>, <span style=\"color: #008000; text-decoration-color: #008000\">'type'</span>: <span style=\"color: #008000; text-decoration-color: #008000\">'result'</span>, <span style=\"color: #008000; text-decoration-color: #008000\">'format'</span>: \n",
       "<span style=\"color: #800080; text-decoration-color: #800080; font-style: italic\">None</span>, <span style=\"color: #008000; text-decoration-color: #008000\">'url'</span>: <span style=\"color: #008000; text-decoration-color: #008000\">'..\\\\data\\\\pat2\\\\MR_TP1.txt'</span>, <span style=\"color: #008000; text-decoration-color: #008000\">'objective'</span>: <span style=\"color: #800080; text-decoration-color: #800080; font-style: italic\">None</span>, <span style=\"color: #008000; text-decoration-color: #008000\">'result_sub_tag'</span>: <span style=\"color: #800080; text-decoration-color: #800080; font-style: italic\">None</span>, <span style=\"color: #008000; text-decoration-color: #008000\">'result_sub_count'</span>: <span style=\"color: #800080; text-decoration-color: #800080; font-style: italic\">None</span>, \n",
       "<span style=\"color: #008000; text-decoration-color: #008000\">'invalid'</span>: <span style=\"color: #ff0000; text-decoration-color: #ff0000; font-style: italic\">False</span>, <span style=\"color: #008000; text-decoration-color: #008000\">'input_ids'</span>: <span style=\"color: #800080; text-decoration-color: #800080; font-style: italic\">None</span>, <span style=\"color: #008000; text-decoration-color: #008000\">'action_class'</span>: <span style=\"color: #800080; text-decoration-color: #800080; font-style: italic\">None</span>, <span style=\"color: #008000; text-decoration-color: #008000\">'action_instance_uid'</span>: <span style=\"color: #800080; text-decoration-color: #800080; font-style: italic\">None</span>, <span style=\"color: #008000; text-decoration-color: #008000\">'id'</span>: \n",
       "<span style=\"color: #008000; text-decoration-color: #008000\">'3dda6411-93a3-11f0-a083-847b57957cf1'</span>, <span style=\"color: #008000; text-decoration-color: #008000\">'timestamp'</span>: <span style=\"color: #008000; text-decoration-color: #008000\">'1758098977.5160332'</span>, <span style=\"color: #008000; text-decoration-color: #008000\">'execution_duration'</span>: <span style=\"color: #800080; text-decoration-color: #800080; font-style: italic\">None</span><span style=\"font-weight: bold\">}</span>, <span style=\"font-weight: bold\">{})</span>\n",
       "</pre>\n"
      ],
      "text/plain": [
       "\u001b[1;35mArtefact\u001b[0m\u001b[1m(\u001b[0m\u001b[1m{\u001b[0m\u001b[32m'case'\u001b[0m: \u001b[32m'pat2'\u001b[0m, \u001b[32m'caseInstance'\u001b[0m: \u001b[3;35mNone\u001b[0m, \u001b[32m'timePoint'\u001b[0m: \u001b[1;36m1\u001b[0m, \u001b[32m'actionTag'\u001b[0m: \u001b[32m'MR'\u001b[0m, \u001b[32m'type'\u001b[0m: \u001b[32m'result'\u001b[0m, \u001b[32m'format'\u001b[0m: \n",
       "\u001b[3;35mNone\u001b[0m, \u001b[32m'url'\u001b[0m: \u001b[32m'..\\\\data\\\\pat2\\\\MR_TP1.txt'\u001b[0m, \u001b[32m'objective'\u001b[0m: \u001b[3;35mNone\u001b[0m, \u001b[32m'result_sub_tag'\u001b[0m: \u001b[3;35mNone\u001b[0m, \u001b[32m'result_sub_count'\u001b[0m: \u001b[3;35mNone\u001b[0m, \n",
       "\u001b[32m'invalid'\u001b[0m: \u001b[3;91mFalse\u001b[0m, \u001b[32m'input_ids'\u001b[0m: \u001b[3;35mNone\u001b[0m, \u001b[32m'action_class'\u001b[0m: \u001b[3;35mNone\u001b[0m, \u001b[32m'action_instance_uid'\u001b[0m: \u001b[3;35mNone\u001b[0m, \u001b[32m'id'\u001b[0m: \n",
       "\u001b[32m'3dda6411-93a3-11f0-a083-847b57957cf1'\u001b[0m, \u001b[32m'timestamp'\u001b[0m: \u001b[32m'1758098977.5160332'\u001b[0m, \u001b[32m'execution_duration'\u001b[0m: \u001b[3;35mNone\u001b[0m\u001b[1m}\u001b[0m, \u001b[1m{\u001b[0m\u001b[1m}\u001b[0m\u001b[1m)\u001b[0m\n"
      ]
     },
     "metadata": {},
     "output_type": "display_data"
    }
   ],
   "source": [
    "for artefact in mr_artefacts:\n",
    "    console.print(artefact)"
   ]
  },
  {
   "cell_type": "code",
   "execution_count": 13,
   "id": "88f2a3d0-5482-4584-bb2c-e0e55b867766",
   "metadata": {},
   "outputs": [
    {
     "name": "stdout",
     "output_type": "stream",
     "text": [
      "pat1:  ..\\data\\pat1\\MR_TP1.txt\n",
      "pat1:  ..\\data\\pat1\\MR_TP2.txt\n",
      "pat2:  ..\\data\\pat2\\MR_TP1.txt\n"
     ]
    }
   ],
   "source": [
    "for artefact in mr_artefacts:\n",
    "    print(f\"{artefact['case']}:  {artefact['url']}\")"
   ]
  }
 ],
 "metadata": {
  "kernelspec": {
   "display_name": "avid_env_kernel",
   "language": "python",
   "name": "avid_env_kernel"
  },
  "language_info": {
   "codemirror_mode": {
    "name": "ipython",
    "version": 3
   },
   "file_extension": ".py",
   "mimetype": "text/x-python",
   "name": "python",
   "nbconvert_exporter": "python",
   "pygments_lexer": "ipython3",
   "version": "3.9.13"
  }
 },
 "nbformat": 4,
 "nbformat_minor": 5
}
