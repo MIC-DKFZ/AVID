{
 "cells": [
  {
   "cell_type": "code",
   "execution_count": 42,
   "id": "fe611798-b89c-408d-b6c0-c6ee4fb1e6c2",
   "metadata": {},
   "outputs": [],
   "source": [
    "##########################################\n",
    "#Examples for different configurations:\n",
    "#\n",
    "# Assume example data set:\n",
    "# - Patient1\n",
    "#   - pat1_TP1_MR\n",
    "#   - pat1_TP2_MR\n",
    "#   - pat1_TP1_CT\n",
    "# - Patient2\n",
    "#   - pat2_TP1_MR1\n",
    "#   - pat2_TP1_MR2\n",
    "#   - pat2_TP2_MR1\n",
    "#   - pat2_TP1_CT\n",
    "#   - pat2_TP2_CT"
   ]
  },
  {
   "cell_type": "code",
   "execution_count": 43,
   "id": "aefdbbc7-fb1e-4436-93d7-41d8a88d504b",
   "metadata": {},
   "outputs": [],
   "source": [
    "###############################################################################\n",
    "# Imports\n",
    "###############################################################################\n",
    "import os\n",
    "\n",
    "import avid.common.workflow as workflow\n",
    "import avid.common.artefact.defaultProps as artefactProps\n",
    "\n",
    "from avid.selectors import ActionTagSelector as ATS\n",
    "from avid.actions.pythonAction import PythonNaryBatchAction as naryPythonAction, PythonNaryBatchActionV2\n",
    "\n",
    "from avid.linkers import CaseLinker, TimePointLinker, FractionLinker\n",
    "from avid.splitter import SingleSplitter, CaseSplitter, KeyValueSplitter"
   ]
  },
  {
   "cell_type": "code",
   "execution_count": 44,
   "id": "de4b305f-c98e-4bc7-a1da-281ffd1c607f",
   "metadata": {},
   "outputs": [],
   "source": [
    "###############################################################################\n",
    "# Define ActionTagSelectors\n",
    "###############################################################################\n",
    "mr_image_selector = ATS('MR')\n",
    "ct_image_selector = ATS('CT')\n",
    "mask_selector = ATS('Seg')"
   ]
  },
  {
   "cell_type": "code",
   "execution_count": 45,
   "id": "cffbd0f6-20d2-4b2c-a7d7-8bbb9028cc8f",
   "metadata": {},
   "outputs": [],
   "source": [
    "###############################################################################\n",
    "# Define callable\n",
    "###############################################################################\n",
    "def my_function(outputs, **kwargs):\n",
    "    '''\n",
    "        Simple print-callable that outputs the combinations of input artifacts.\n",
    "    '''\n",
    "    keys = kwargs.keys()\n",
    "    print_output = 'output: {'\n",
    "    \n",
    "    for i, key in enumerate(keys):\n",
    "        if i != 0:\n",
    "            print_output += ', '\n",
    "        print_output += '{}:{}'.format(key, [os.path.basename(mr) for mr in kwargs[key]])\n",
    "    print_output += '}'\n",
    "    \n",
    "    print(print_output)\n",
    "    with open(outputs[0], \"w\") as ofile:\n",
    "        ofile.write(str(kwargs))"
   ]
  },
  {
   "cell_type": "code",
   "execution_count": 46,
   "id": "6bce8264-41b6-4469-b515-887c7a9fa28c",
   "metadata": {},
   "outputs": [],
   "source": [
    "###############################################################################\n",
    "# Initialize session\n",
    "###############################################################################\n",
    "session =  workflow.initSession(bootstrapArtefacts=os.path.join(os.getcwd(),'output', 'example.avid'),\n",
    "                                sessionPath=os.path.join(os.getcwd(),'output', 'example'),\n",
    "                                expandPaths=True,\n",
    "                                debug=True)"
   ]
  },
  {
   "cell_type": "code",
   "execution_count": 47,
   "id": "fc4f19d6-0e4a-4464-b970-ec368ad232ef",
   "metadata": {},
   "outputs": [
    {
     "name": "stdout",
     "output_type": "stream",
     "text": [
      "2021-12-09 09:57:23,463 [INFO] Starting action: PythonNaryBatchActionV2_example_1 (UID: 70c950c6-4940-4857-a59b-b477af013f73) ...\n",
      "2021-12-09 09:57:23,465 [INFO] Starting action: my_function (UID: b9c9a545-5f64-4fed-b80b-15160e1ab4ee) ...\n",
      "output: {primaryInput:['pat1_TP1_MR.txt']}\n",
      "2021-12-09 09:57:23,470 [INFO] Finished action: my_function (UID: b9c9a545-5f64-4fed-b80b-15160e1ab4ee) -> SUCCESS\n",
      "2021-12-09 09:57:23,471 [INFO] Starting action: my_function (UID: dca42d61-7a53-4b2e-850d-bbacd4ddf4b2) ...\n",
      "output: {primaryInput:['pat1_TP2_MR.txt']}\n",
      "2021-12-09 09:57:23,476 [INFO] Finished action: my_function (UID: dca42d61-7a53-4b2e-850d-bbacd4ddf4b2) -> SUCCESS\n",
      "2021-12-09 09:57:23,477 [INFO] Starting action: my_function (UID: f8d0d7fe-4175-4168-b916-6bc1a75454ba) ...\n",
      "output: {primaryInput:['pat2_TP1_MR1.txt']}\n",
      "2021-12-09 09:57:23,480 [INFO] Finished action: my_function (UID: f8d0d7fe-4175-4168-b916-6bc1a75454ba) -> SUCCESS\n",
      "2021-12-09 09:57:23,481 [INFO] Starting action: my_function (UID: b471edfa-00c4-40c7-a56d-4771bc530086) ...\n",
      "output: {primaryInput:['pat2_TP1_MR2.txt']}\n",
      "2021-12-09 09:57:23,485 [INFO] Finished action: my_function (UID: b471edfa-00c4-40c7-a56d-4771bc530086) -> SUCCESS\n",
      "2021-12-09 09:57:23,485 [INFO] Starting action: my_function (UID: a3b0548a-56e3-4af3-bb46-f11682716a29) ...\n",
      "output: {primaryInput:['pat2_TP2_MR1.txt']}\n",
      "2021-12-09 09:57:23,489 [INFO] Finished action: my_function (UID: a3b0548a-56e3-4af3-bb46-f11682716a29) -> SUCCESS\n",
      "2021-12-09 09:57:23,489 [INFO] Starting action: my_function (UID: a09becb5-5b79-445c-9e5d-4c270ef742c9) ...\n",
      "output: {primaryInput:['pat3_TP1_MR.txt']}\n",
      "2021-12-09 09:57:23,493 [INFO] Finished action: my_function (UID: a09becb5-5b79-445c-9e5d-4c270ef742c9) -> SUCCESS\n",
      "2021-12-09 09:57:23,494 [INFO] Finished action: PythonNaryBatchActionV2_example_1 (UID: 70c950c6-4940-4857-a59b-b477af013f73) -> SUCCESS\n",
      "2021-12-09 09:57:23,494 [INFO] Successful actions: 1.\n",
      "2021-12-09 09:57:23,495 [INFO] Skipped actions: 0.\n",
      "2021-12-09 09:57:23,496 [INFO] Failed actions: 0.\n",
      "2021-12-09 09:57:23,498 [INFO] Session finished. Feed me more...\n"
     ]
    }
   ],
   "source": [
    "###############################################################################\n",
    "# Example 1: only select a specific modality (here MR) and make a call per image\n",
    "###############################################################################\n",
    "with session:\n",
    "    PythonNaryBatchActionV2(primaryInputSelector=mr_image_selector, \n",
    "                        actionTag=\"example_1\", \n",
    "                        generateCallable=my_function,\n",
    "                        passOnlyURLs=True).do()"
   ]
  },
  {
   "cell_type": "code",
   "execution_count": 48,
   "id": "b5e54e49-b51d-4f9e-b3e7-aadd7c8f1218",
   "metadata": {},
   "outputs": [
    {
     "name": "stdout",
     "output_type": "stream",
     "text": [
      "2021-12-09 09:57:23,509 [INFO] Starting action: PythonNaryBatchActionV2_example_2 (UID: d4df9f12-9211-438b-86d7-610ace6f2076) ...\n",
      "2021-12-09 09:57:23,512 [INFO] Starting action: my_function (UID: 2ece8f04-01fb-4cfb-a1dc-f6361bf8e782) ...\n",
      "output: {mr_images:['pat1_TP1_MR.txt']}\n",
      "2021-12-09 09:57:23,516 [INFO] Finished action: my_function (UID: 2ece8f04-01fb-4cfb-a1dc-f6361bf8e782) -> SUCCESS\n",
      "2021-12-09 09:57:23,517 [INFO] Starting action: my_function (UID: 6bfd3701-e637-4d55-a224-9fab724de41b) ...\n",
      "output: {mr_images:['pat1_TP2_MR.txt']}\n",
      "2021-12-09 09:57:23,521 [INFO] Finished action: my_function (UID: 6bfd3701-e637-4d55-a224-9fab724de41b) -> SUCCESS\n",
      "2021-12-09 09:57:23,522 [INFO] Starting action: my_function (UID: 46dd31b3-da1e-4a14-b2cc-b73b62d4bc94) ...\n",
      "output: {mr_images:['pat2_TP1_MR1.txt']}\n",
      "2021-12-09 09:57:23,525 [INFO] Finished action: my_function (UID: 46dd31b3-da1e-4a14-b2cc-b73b62d4bc94) -> SUCCESS\n",
      "2021-12-09 09:57:23,526 [INFO] Starting action: my_function (UID: f5827dd0-e429-469f-9ef4-916fc257490d) ...\n",
      "output: {mr_images:['pat2_TP1_MR2.txt']}\n",
      "2021-12-09 09:57:23,530 [INFO] Finished action: my_function (UID: f5827dd0-e429-469f-9ef4-916fc257490d) -> SUCCESS\n",
      "2021-12-09 09:57:23,531 [INFO] Starting action: my_function (UID: 58eb72f0-6a0d-4687-91c8-ee605b2485b4) ...\n",
      "output: {mr_images:['pat2_TP2_MR1.txt']}\n",
      "2021-12-09 09:57:23,534 [INFO] Finished action: my_function (UID: 58eb72f0-6a0d-4687-91c8-ee605b2485b4) -> SUCCESS\n",
      "2021-12-09 09:57:23,535 [INFO] Starting action: my_function (UID: f876a27a-a7e5-41b1-be96-3819ba2d1920) ...\n",
      "output: {mr_images:['pat3_TP1_MR.txt']}\n",
      "2021-12-09 09:57:23,539 [INFO] Finished action: my_function (UID: f876a27a-a7e5-41b1-be96-3819ba2d1920) -> SUCCESS\n",
      "2021-12-09 09:57:23,540 [INFO] Finished action: PythonNaryBatchActionV2_example_2 (UID: d4df9f12-9211-438b-86d7-610ace6f2076) -> SUCCESS\n",
      "2021-12-09 09:57:23,540 [INFO] Successful actions: 2.\n",
      "2021-12-09 09:57:23,541 [INFO] Skipped actions: 0.\n",
      "2021-12-09 09:57:23,542 [INFO] Failed actions: 0.\n",
      "2021-12-09 09:57:23,544 [INFO] Session finished. Feed me more...\n"
     ]
    }
   ],
   "source": [
    "###############################################################################\n",
    "#Example 2: like example 1 but choose another variable name\n",
    "###############################################################################\n",
    "with session:\n",
    "    PythonNaryBatchActionV2(primaryInputSelector=mr_image_selector,\n",
    "                        primaryAlias='mr_images',\n",
    "                        actionTag=\"example_2\", \n",
    "                        generateCallable=my_function, \n",
    "                        passOnlyURLs=True).do()"
   ]
  },
  {
   "cell_type": "code",
   "execution_count": 49,
   "id": "2c69d1dc-4b68-4cba-8293-75ddae90e077",
   "metadata": {},
   "outputs": [
    {
     "name": "stdout",
     "output_type": "stream",
     "text": [
      "2021-12-09 09:57:23,557 [INFO] Starting action: PythonNaryBatchActionV2_example_3 (UID: 27ef1e2d-dd0b-47d1-bd37-eb9ac10ffaa7) ...\n",
      "2021-12-09 09:57:23,559 [INFO] Starting action: my_function (UID: d1df84eb-e535-46d1-b83f-8cbdadedb15c) ...\n",
      "output: {mr_images:['pat1_TP1_MR.txt'], ct_images:['pat1_TP1_CT.txt']}\n",
      "2021-12-09 09:57:23,564 [INFO] Finished action: my_function (UID: d1df84eb-e535-46d1-b83f-8cbdadedb15c) -> SUCCESS\n",
      "2021-12-09 09:57:23,565 [INFO] Starting action: my_function (UID: 7a3a9985-ece3-42eb-9004-ea2b8f0caac6) ...\n",
      "output: {mr_images:['pat1_TP2_MR.txt'], ct_images:['pat1_TP1_CT.txt']}\n",
      "2021-12-09 09:57:23,570 [INFO] Finished action: my_function (UID: 7a3a9985-ece3-42eb-9004-ea2b8f0caac6) -> SUCCESS\n",
      "2021-12-09 09:57:23,571 [INFO] Starting action: my_function (UID: b441b692-9a47-4c46-b331-526abc098e48) ...\n",
      "output: {mr_images:['pat2_TP1_MR1.txt'], ct_images:['pat2_TP1_CT.txt']}\n",
      "2021-12-09 09:57:23,575 [INFO] Finished action: my_function (UID: b441b692-9a47-4c46-b331-526abc098e48) -> SUCCESS\n",
      "2021-12-09 09:57:23,575 [INFO] Starting action: my_function (UID: aa737bd5-0875-400c-a137-8e73c2bf399d) ...\n",
      "output: {mr_images:['pat2_TP1_MR1.txt'], ct_images:['pat2_TP2_CT.txt']}\n",
      "2021-12-09 09:57:23,579 [INFO] Finished action: my_function (UID: aa737bd5-0875-400c-a137-8e73c2bf399d) -> SUCCESS\n",
      "2021-12-09 09:57:23,580 [INFO] Starting action: my_function (UID: 2c581bb8-94a5-4b21-9614-79bba4b51396) ...\n",
      "output: {mr_images:['pat2_TP1_MR2.txt'], ct_images:['pat2_TP1_CT.txt']}\n",
      "2021-12-09 09:57:23,584 [INFO] Finished action: my_function (UID: 2c581bb8-94a5-4b21-9614-79bba4b51396) -> SUCCESS\n",
      "2021-12-09 09:57:23,585 [INFO] Starting action: my_function (UID: 035cc0a3-823d-4caa-a12d-17af3048d42c) ...\n",
      "output: {mr_images:['pat2_TP1_MR2.txt'], ct_images:['pat2_TP2_CT.txt']}\n",
      "2021-12-09 09:57:23,591 [INFO] Finished action: my_function (UID: 035cc0a3-823d-4caa-a12d-17af3048d42c) -> SUCCESS\n",
      "2021-12-09 09:57:23,592 [INFO] Starting action: my_function (UID: 611bb948-7e6d-4f0e-b57e-5fee308494f0) ...\n",
      "output: {mr_images:['pat2_TP2_MR1.txt'], ct_images:['pat2_TP1_CT.txt']}\n",
      "2021-12-09 09:57:23,596 [INFO] Finished action: my_function (UID: 611bb948-7e6d-4f0e-b57e-5fee308494f0) -> SUCCESS\n",
      "2021-12-09 09:57:23,597 [INFO] Starting action: my_function (UID: a9848d0c-f056-4ac6-a2b3-6144fc601ff5) ...\n",
      "output: {mr_images:['pat2_TP2_MR1.txt'], ct_images:['pat2_TP2_CT.txt']}\n",
      "2021-12-09 09:57:23,603 [INFO] Finished action: my_function (UID: a9848d0c-f056-4ac6-a2b3-6144fc601ff5) -> SUCCESS\n",
      "2021-12-09 09:57:23,605 [INFO] Finished action: PythonNaryBatchActionV2_example_3 (UID: 27ef1e2d-dd0b-47d1-bd37-eb9ac10ffaa7) -> SUCCESS\n",
      "2021-12-09 09:57:23,606 [INFO] Successful actions: 3.\n",
      "2021-12-09 09:57:23,607 [INFO] Skipped actions: 0.\n",
      "2021-12-09 09:57:23,608 [INFO] Failed actions: 0.\n",
      "2021-12-09 09:57:23,610 [INFO] Session finished. Feed me more...\n"
     ]
    }
   ],
   "source": [
    "###############################################################################\n",
    "#Example 3: select MR and CT images and call them pairwise (folding both sets per case)\n",
    "###############################################################################\n",
    "with session:\n",
    "    PythonNaryBatchActionV2(primaryInputSelector=mr_image_selector,\n",
    "                        primaryAlias='mr_images',\n",
    "                        additionalInputSelectors = {'ct_images': ct_image_selector},\n",
    "                        actionTag=\"example_3\",\n",
    "                        generateCallable=my_function,\n",
    "                        passOnlyURLs=True).do()"
   ]
  },
  {
   "cell_type": "code",
   "execution_count": 50,
   "id": "38f030d7-35a1-4dac-8744-995a643cca79",
   "metadata": {},
   "outputs": [
    {
     "name": "stdout",
     "output_type": "stream",
     "text": [
      "2021-12-09 09:57:23,620 [INFO] Starting action: PythonNaryBatchActionV2_example_3b (UID: 87e29be4-ed8c-45c6-b075-32443249821a) ...\n",
      "2021-12-09 09:57:23,623 [INFO] Starting action: my_function (UID: a314e0d7-e0ed-47b3-b41c-07e703dba563) ...\n",
      "output: {mr_images:['pat1_TP1_MR.txt'], additional:['pat1_TP1_CT.txt']}\n",
      "2021-12-09 09:57:23,628 [INFO] Finished action: my_function (UID: a314e0d7-e0ed-47b3-b41c-07e703dba563) -> SUCCESS\n",
      "2021-12-09 09:57:23,629 [INFO] Starting action: my_function (UID: 2e6f30ca-fe44-4c8a-82f7-3bb47e84b4ca) ...\n",
      "output: {mr_images:['pat2_TP1_MR1.txt'], additional:['pat2_TP1_CT.txt']}\n",
      "2021-12-09 09:57:23,635 [INFO] Finished action: my_function (UID: 2e6f30ca-fe44-4c8a-82f7-3bb47e84b4ca) -> SUCCESS\n",
      "2021-12-09 09:57:23,636 [INFO] Starting action: my_function (UID: 42a20343-d3ae-4b19-890f-fa970755079d) ...\n",
      "output: {mr_images:['pat2_TP1_MR2.txt'], additional:['pat2_TP1_CT.txt']}\n",
      "2021-12-09 09:57:23,640 [INFO] Finished action: my_function (UID: 42a20343-d3ae-4b19-890f-fa970755079d) -> SUCCESS\n",
      "2021-12-09 09:57:23,641 [INFO] Starting action: my_function (UID: adc7398d-aadb-4867-ae0a-9678c626539f) ...\n",
      "output: {mr_images:['pat2_TP2_MR1.txt'], additional:['pat2_TP2_CT.txt']}\n",
      "2021-12-09 09:57:23,645 [INFO] Finished action: my_function (UID: adc7398d-aadb-4867-ae0a-9678c626539f) -> SUCCESS\n",
      "2021-12-09 09:57:23,646 [INFO] Finished action: PythonNaryBatchActionV2_example_3b (UID: 87e29be4-ed8c-45c6-b075-32443249821a) -> SUCCESS\n",
      "2021-12-09 09:57:23,647 [INFO] Successful actions: 4.\n",
      "2021-12-09 09:57:23,648 [INFO] Skipped actions: 0.\n",
      "2021-12-09 09:57:23,649 [INFO] Failed actions: 0.\n",
      "2021-12-09 09:57:23,650 [INFO] Session finished. Feed me more...\n"
     ]
    }
   ],
   "source": [
    "###############################################################################\n",
    "#Example 3b:  select MR and CT images and call them pairwise (but only MRs and CTs of same patient and timepoint)\n",
    "###############################################################################\n",
    "with session:\n",
    "    splitProperties=[artefactProps.CASE]\n",
    "    PythonNaryBatchActionV2(primaryInputSelector=mr_image_selector,\n",
    "                            primaryAlias='mr_images',\n",
    "                            additionalInputSelectors = {'additional': ct_image_selector},\n",
    "                            linker={'additional': CaseLinker()+TimePointLinker()},\n",
    "                            actionTag=\"example_3b\",\n",
    "                            generateCallable=my_function,\n",
    "                            passOnlyURLs=True).do()"
   ]
  },
  {
   "cell_type": "code",
   "execution_count": 51,
   "outputs": [
    {
     "name": "stdout",
     "output_type": "stream",
     "text": [
      "2021-12-09 09:57:23,665 [INFO] Starting action: PythonNaryBatchActionV2_example_3b (UID: 799daa9a-5f07-4f55-994e-67aaa1872c5c) ...\n",
      "2021-12-09 09:57:23,666 [INFO] Starting action: my_function (UID: b3970b9f-d2b2-4ee1-9f16-c182a0da3084) ...\n",
      "output: {mr_images:['pat1_TP1_MR.txt', 'pat1_TP2_MR.txt'], additional:['pat1_TP1_CT.txt']}\n",
      "2021-12-09 09:57:23,671 [INFO] Finished action: my_function (UID: b3970b9f-d2b2-4ee1-9f16-c182a0da3084) -> SUCCESS\n",
      "2021-12-09 09:57:23,671 [INFO] Starting action: my_function (UID: 4e6a20d9-fcc0-467b-ad14-d4de5d461e94) ...\n",
      "output: {mr_images:['pat2_TP1_MR1.txt', 'pat2_TP1_MR2.txt', 'pat2_TP2_MR1.txt'], additional:['pat2_TP1_CT.txt', 'pat2_TP2_CT.txt']}\n",
      "2021-12-09 09:57:23,674 [INFO] Finished action: my_function (UID: 4e6a20d9-fcc0-467b-ad14-d4de5d461e94) -> SUCCESS\n",
      "2021-12-09 09:57:23,675 [INFO] Finished action: PythonNaryBatchActionV2_example_3b (UID: 799daa9a-5f07-4f55-994e-67aaa1872c5c) -> SUCCESS\n",
      "2021-12-09 09:57:23,676 [INFO] Successful actions: 4.\n",
      "2021-12-09 09:57:23,677 [INFO] Skipped actions: 0.\n",
      "2021-12-09 09:57:23,678 [INFO] Failed actions: 0.\n",
      "2021-12-09 09:57:23,679 [INFO] Session finished. Feed me more...\n"
     ]
    }
   ],
   "source": [
    "###############################################################################\n",
    "#Example 3c:  select MR and CT images and call them blockwise (but only MRs and CTs of same patient)\n",
    "###############################################################################\n",
    "with session:\n",
    "    splitProperties=[artefactProps.CASE]\n",
    "    PythonNaryBatchActionV2(primaryInputSelector=mr_image_selector,\n",
    "                        primaryAlias='mr_images',\n",
    "                        additionalInputSelectors = {'additional': ct_image_selector},\n",
    "                        linker={'additional': CaseLinker(allowOnlyFullLinkage=False)+TimePointLinker(allowOnlyFullLinkage=False)},\n",
    "                        splitter={'mr_images': KeyValueSplitter(*splitProperties), 'additional': CaseSplitter()},\n",
    "                        actionTag=\"example_3b\", \n",
    "                        generateCallable=my_function,\n",
    "                        passOnlyURLs=True).do()"
   ],
   "metadata": {
    "collapsed": false,
    "pycharm": {
     "name": "#%%\n"
    }
   }
  },
  {
   "cell_type": "code",
   "execution_count": 52,
   "id": "33b7c925-984e-40b5-9bed-e25664747c8d",
   "metadata": {},
   "outputs": [
    {
     "name": "stdout",
     "output_type": "stream",
     "text": [
      "2021-12-09 09:57:23,696 [INFO] Starting action: PythonNaryBatchActionV2_example_4 (UID: 3850eee4-600a-46b7-ab35-01df9f3f818a) ...\n",
      "2021-12-09 09:57:23,697 [INFO] Starting action: my_function (UID: f3d274f1-fb8c-4968-b269-22c15c5aa14c) ...\n",
      "output: {mr_images:['pat1_TP1_MR.txt', 'pat1_TP2_MR.txt'], additional:['pat1_TP1_Seg1.txt', 'pat1_TP1_Seg2.txt', 'pat1_TP2_Seg1.txt']}\n",
      "2021-12-09 09:57:23,702 [INFO] Finished action: my_function (UID: f3d274f1-fb8c-4968-b269-22c15c5aa14c) -> SUCCESS\n",
      "2021-12-09 09:57:23,703 [INFO] Starting action: my_function (UID: d0178539-d213-4e6a-9fa9-42e928b0c5ae) ...\n",
      "output: {mr_images:['pat2_TP1_MR1.txt', 'pat2_TP1_MR2.txt', 'pat2_TP2_MR1.txt'], additional:['pat2_TP1_Seg1.txt', 'pat2_TP2_Seg1.txt']}\n",
      "2021-12-09 09:57:23,707 [INFO] Finished action: my_function (UID: d0178539-d213-4e6a-9fa9-42e928b0c5ae) -> SUCCESS\n",
      "2021-12-09 09:57:23,708 [INFO] Starting action: my_function (UID: 5c5c1122-3ff9-4b33-8a0c-ec89159a304a) ...\n",
      "output: {mr_images:['pat3_TP1_MR.txt'], additional:['pat3_TP1_Seg1.txt']}\n",
      "2021-12-09 09:57:23,711 [INFO] Finished action: my_function (UID: 5c5c1122-3ff9-4b33-8a0c-ec89159a304a) -> SUCCESS\n",
      "2021-12-09 09:57:23,712 [INFO] Finished action: PythonNaryBatchActionV2_example_4 (UID: 3850eee4-600a-46b7-ab35-01df9f3f818a) -> SUCCESS\n",
      "2021-12-09 09:57:23,712 [INFO] Successful actions: 5.\n",
      "2021-12-09 09:57:23,713 [INFO] Skipped actions: 0.\n",
      "2021-12-09 09:57:23,714 [INFO] Failed actions: 0.\n",
      "2021-12-09 09:57:23,715 [INFO] Session finished. Feed me more...\n"
     ]
    }
   ],
   "source": [
    "###############################################################################\n",
    "#Example 4: select MR images and masks and call them block wise per case\n",
    "###############################################################################\n",
    "with session:\n",
    "    PythonNaryBatchActionV2(primaryInputSelector=mr_image_selector,\n",
    "                        primaryAlias='mr_images',\n",
    "                        additionalInputSelectors ={'additional': mask_selector},\n",
    "                        linker={'additional': CaseLinker(allowOnlyFullLinkage=False)+TimePointLinker(allowOnlyFullLinkage=False)},\n",
    "                        splitter={'mr_images': CaseSplitter(), 'additional': CaseSplitter()},\n",
    "                        actionTag=\"example_4\", \n",
    "                        generateCallable=my_function, \n",
    "                        passOnlyURLs=True).do()"
   ]
  },
  {
   "cell_type": "code",
   "execution_count": 52,
   "id": "5c7cc26d-12e9-454e-853f-fa6be0695f17",
   "metadata": {},
   "outputs": [],
   "source": []
  },
  {
   "cell_type": "code",
   "execution_count": 52,
   "id": "4abc0fd9-7a02-46ed-ba1c-8e95c27f6a44",
   "metadata": {},
   "outputs": [],
   "source": []
  },
  {
   "cell_type": "code",
   "execution_count": 52,
   "outputs": [],
   "source": [],
   "metadata": {
    "collapsed": false,
    "pycharm": {
     "name": "#%%\n"
    }
   }
  }
 ],
 "metadata": {
  "kernelspec": {
   "display_name": "Python 3",
   "language": "python",
   "name": "python3"
  },
  "language_info": {
   "codemirror_mode": {
    "name": "ipython",
    "version": 3
   },
   "file_extension": ".py",
   "mimetype": "text/x-python",
   "name": "python",
   "nbconvert_exporter": "python",
   "pygments_lexer": "ipython3",
   "version": "3.8.6"
  }
 },
 "nbformat": 4,
 "nbformat_minor": 5
}