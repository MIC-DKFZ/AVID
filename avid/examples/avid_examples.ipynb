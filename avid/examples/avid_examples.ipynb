{
 "cells": [
  {
   "cell_type": "code",
   "execution_count": 22,
   "id": "fe611798-b89c-408d-b6c0-c6ee4fb1e6c2",
   "metadata": {},
   "outputs": [],
   "source": [
    "##########################################\n",
    "#Examples for different configurations:\n",
    "#\n",
    "# Assume example data set:\n",
    "# - Patient1\n",
    "#   - pat1_TP1_MR\n",
    "#   - pat1_TP2_MR\n",
    "#   - pat1_TP1_CT\n",
    "# - Patient2\n",
    "#   - pat2_TP1_MR1\n",
    "#   - pat2_TP1_MR2\n",
    "#   - pat2_TP2_MR1\n",
    "#   - pat2_TP1_CT\n",
    "#   - pat2_TP2_CT"
   ]
  },
  {
   "cell_type": "code",
   "execution_count": 23,
   "id": "aefdbbc7-fb1e-4436-93d7-41d8a88d504b",
   "metadata": {},
   "outputs": [],
   "source": [
    "###############################################################################\n",
    "# Imports\n",
    "###############################################################################\n",
    "import os\n",
    "\n",
    "import avid.common.workflow as workflow\n",
    "import avid.common.artefact.defaultProps as artefactProps\n",
    "\n",
    "from avid.selectors import ActionTagSelector as ATS\n",
    "from avid.actions.pythonAction import PythonNaryBatchAction as naryPythonAction, PythonNaryBatchActionV2\n",
    "\n",
    "from avid.linkers import CaseLinker, TimePointLinker, FractionLinker\n",
    "from avid.splitter import SingleSplitter, CaseSplitter, KeyValueSplitter"
   ]
  },
  {
   "cell_type": "code",
   "execution_count": 24,
   "id": "de4b305f-c98e-4bc7-a1da-281ffd1c607f",
   "metadata": {},
   "outputs": [],
   "source": [
    "###############################################################################\n",
    "# Define ActionTagSelectors\n",
    "###############################################################################\n",
    "mr_image_selector = ATS('MR')\n",
    "ct_image_selector = ATS('CT')\n",
    "mask_selector = ATS('Seg')"
   ]
  },
  {
   "cell_type": "code",
   "execution_count": 25,
   "id": "cffbd0f6-20d2-4b2c-a7d7-8bbb9028cc8f",
   "metadata": {},
   "outputs": [],
   "source": [
    "###############################################################################\n",
    "# Define callable\n",
    "###############################################################################\n",
    "def my_function(outputs, **kwargs):\n",
    "    '''\n",
    "        Simple print-callable that outputs the combinations of input artifacts.\n",
    "    '''\n",
    "    keys = kwargs.keys()\n",
    "    print_output = 'output: {'\n",
    "    \n",
    "    for i, key in enumerate(keys):\n",
    "        if i != 0:\n",
    "            print_output += ', '\n",
    "        print_output += '{}:{}'.format(key, [os.path.basename(mr) for mr in kwargs[key]])\n",
    "    print_output += '}'\n",
    "    \n",
    "    print(print_output)\n",
    "    with open(outputs[0], \"w\") as ofile:\n",
    "        ofile.write(str(kwargs))"
   ]
  },
  {
   "cell_type": "code",
   "execution_count": 26,
   "id": "6bce8264-41b6-4469-b515-887c7a9fa28c",
   "metadata": {},
   "outputs": [],
   "source": [
    "###############################################################################\n",
    "# Initialize session\n",
    "###############################################################################\n",
    "session =  workflow.initSession(bootstrapArtefacts=os.path.join(os.getcwd(),'output', 'example.avid'),\n",
    "                                sessionPath=os.path.join(os.getcwd(),'output', 'example'),\n",
    "                                expandPaths=True,\n",
    "                                debug=True)"
   ]
  },
  {
   "cell_type": "code",
   "execution_count": 27,
   "id": "fc4f19d6-0e4a-4464-b970-ec368ad232ef",
   "metadata": {},
   "outputs": [
    {
     "name": "stdout",
     "output_type": "stream",
     "text": [
      "2021-12-08 20:26:14,334 [INFO] Starting action: PythonNaryBatchActionV2_example_1 (UID: 62b8ee06-47d9-44df-8c23-08107745f8d1) ...\n",
      "2021-12-08 20:26:14,336 [INFO] Starting action: my_function (UID: 09fc57d9-35c5-4239-9de5-02996007c0af) ...\n",
      "output: {primaryInput:['pat1_TP1_MR.txt']}\n",
      "2021-12-08 20:26:14,340 [INFO] Finished action: my_function (UID: 09fc57d9-35c5-4239-9de5-02996007c0af) -> SUCCESS\n",
      "2021-12-08 20:26:14,341 [INFO] Starting action: my_function (UID: 25b2c53e-ff9a-43a2-ab10-5408beb1f2d0) ...\n",
      "output: {primaryInput:['pat1_TP2_MR.txt']}\n",
      "2021-12-08 20:26:14,345 [INFO] Finished action: my_function (UID: 25b2c53e-ff9a-43a2-ab10-5408beb1f2d0) -> SUCCESS\n",
      "2021-12-08 20:26:14,345 [INFO] Starting action: my_function (UID: bac4c85b-3013-4151-81dc-279fbcf0aacd) ...\n",
      "output: {primaryInput:['pat2_TP1_MR1.txt']}\n",
      "2021-12-08 20:26:14,350 [INFO] Finished action: my_function (UID: bac4c85b-3013-4151-81dc-279fbcf0aacd) -> SUCCESS\n",
      "2021-12-08 20:26:14,351 [INFO] Starting action: my_function (UID: b897036a-e903-42e8-b9e9-1855257d20aa) ...\n",
      "output: {primaryInput:['pat2_TP1_MR2.txt']}\n",
      "2021-12-08 20:26:14,356 [INFO] Finished action: my_function (UID: b897036a-e903-42e8-b9e9-1855257d20aa) -> SUCCESS\n",
      "2021-12-08 20:26:14,357 [INFO] Starting action: my_function (UID: 3c2795e4-c349-4e28-80af-c4de060ca7f8) ...\n",
      "output: {primaryInput:['pat2_TP2_MR1.txt']}\n",
      "2021-12-08 20:26:14,361 [INFO] Finished action: my_function (UID: 3c2795e4-c349-4e28-80af-c4de060ca7f8) -> SUCCESS\n",
      "2021-12-08 20:26:14,361 [INFO] Starting action: my_function (UID: 9ef66042-bacd-4ee8-8ec1-ebc664deb2c8) ...\n",
      "output: {primaryInput:['pat3_TP1_MR.txt']}\n",
      "2021-12-08 20:26:14,366 [INFO] Finished action: my_function (UID: 9ef66042-bacd-4ee8-8ec1-ebc664deb2c8) -> SUCCESS\n",
      "2021-12-08 20:26:14,367 [INFO] Finished action: PythonNaryBatchActionV2_example_1 (UID: 62b8ee06-47d9-44df-8c23-08107745f8d1) -> SUCCESS\n",
      "2021-12-08 20:26:14,368 [INFO] Successful actions: 1.\n",
      "2021-12-08 20:26:14,370 [INFO] Skipped actions: 0.\n",
      "2021-12-08 20:26:14,371 [INFO] Failed actions: 0.\n",
      "2021-12-08 20:26:14,372 [INFO] Session finished. Feed me more...\n"
     ]
    }
   ],
   "source": [
    "###############################################################################\n",
    "# Example 1: only select a specific modality (here MR) and make a call per image\n",
    "###############################################################################\n",
    "with session:\n",
    "    PythonNaryBatchActionV2(primaryInputSelector=mr_image_selector, \n",
    "                        actionTag=\"example_1\", \n",
    "                        generateCallable=my_function,\n",
    "                        passOnlyURLs=True).do()"
   ]
  },
  {
   "cell_type": "code",
   "execution_count": 28,
   "id": "b5e54e49-b51d-4f9e-b3e7-aadd7c8f1218",
   "metadata": {},
   "outputs": [
    {
     "name": "stdout",
     "output_type": "stream",
     "text": [
      "2021-12-08 20:26:14,382 [INFO] Starting action: PythonNaryBatchActionV2_example_2 (UID: 59dc4f73-4a77-4260-b3da-2d2fec467a20) ...\n",
      "2021-12-08 20:26:14,384 [INFO] Starting action: my_function (UID: 3a3ddb4e-02bf-4372-af80-5f34b1761c97) ...\n",
      "output: {mr_images:['pat1_TP1_MR.txt']}\n",
      "2021-12-08 20:26:14,388 [INFO] Finished action: my_function (UID: 3a3ddb4e-02bf-4372-af80-5f34b1761c97) -> SUCCESS\n",
      "2021-12-08 20:26:14,389 [INFO] Starting action: my_function (UID: 3e3bc0a8-c30c-4f5d-bf75-ffb6bb828147) ...\n",
      "output: {mr_images:['pat1_TP2_MR.txt']}\n",
      "2021-12-08 20:26:14,394 [INFO] Finished action: my_function (UID: 3e3bc0a8-c30c-4f5d-bf75-ffb6bb828147) -> SUCCESS\n",
      "2021-12-08 20:26:14,394 [INFO] Starting action: my_function (UID: a3c213fc-dba2-4f66-b219-3620d67c9a39) ...\n",
      "output: {mr_images:['pat2_TP1_MR1.txt']}\n",
      "2021-12-08 20:26:14,398 [INFO] Finished action: my_function (UID: a3c213fc-dba2-4f66-b219-3620d67c9a39) -> SUCCESS\n",
      "2021-12-08 20:26:14,399 [INFO] Starting action: my_function (UID: dfa09e2a-7e3f-43f3-aa43-f3a040aa4158) ...\n",
      "output: {mr_images:['pat2_TP1_MR2.txt']}\n",
      "2021-12-08 20:26:14,403 [INFO] Finished action: my_function (UID: dfa09e2a-7e3f-43f3-aa43-f3a040aa4158) -> SUCCESS\n",
      "2021-12-08 20:26:14,404 [INFO] Starting action: my_function (UID: 9eb3fdb1-388f-44c6-ab7a-9cd52c3fb477) ...\n",
      "output: {mr_images:['pat2_TP2_MR1.txt']}\n",
      "2021-12-08 20:26:14,408 [INFO] Finished action: my_function (UID: 9eb3fdb1-388f-44c6-ab7a-9cd52c3fb477) -> SUCCESS\n",
      "2021-12-08 20:26:14,409 [INFO] Starting action: my_function (UID: 96086228-b447-4800-b01f-d91212f6cd15) ...\n",
      "output: {mr_images:['pat3_TP1_MR.txt']}\n",
      "2021-12-08 20:26:14,413 [INFO] Finished action: my_function (UID: 96086228-b447-4800-b01f-d91212f6cd15) -> SUCCESS\n",
      "2021-12-08 20:26:14,414 [INFO] Finished action: PythonNaryBatchActionV2_example_2 (UID: 59dc4f73-4a77-4260-b3da-2d2fec467a20) -> SUCCESS\n",
      "2021-12-08 20:26:14,415 [INFO] Successful actions: 2.\n",
      "2021-12-08 20:26:14,416 [INFO] Skipped actions: 0.\n",
      "2021-12-08 20:26:14,417 [INFO] Failed actions: 0.\n",
      "2021-12-08 20:26:14,419 [INFO] Session finished. Feed me more...\n"
     ]
    }
   ],
   "source": [
    "###############################################################################\n",
    "#Example 2: like example 1 but choose another variable name\n",
    "###############################################################################\n",
    "with session:\n",
    "    PythonNaryBatchActionV2(primaryInputSelector=mr_image_selector,\n",
    "                        primaryAlias='mr_images',\n",
    "                        actionTag=\"example_2\", \n",
    "                        generateCallable=my_function, \n",
    "                        passOnlyURLs=True).do()"
   ]
  },
  {
   "cell_type": "code",
   "execution_count": 35,
   "id": "2c69d1dc-4b68-4cba-8293-75ddae90e077",
   "metadata": {},
   "outputs": [
    {
     "name": "stdout",
     "output_type": "stream",
     "text": [
      "2021-12-08 20:32:02,256 [INFO] Starting action: PythonNaryBatchActionV2_example_3 (UID: cdc62e99-0025-4231-96c8-de90afe7dc37) ...\n",
      "2021-12-08 20:32:02,264 [INFO] Starting action: my_function (UID: 8b81250c-214b-433a-a9fa-f3550894adae) ...\n",
      "output: {mr_images:['pat1_TP1_MR.txt'], ct_images:['pat1_TP1_CT.txt']}\n",
      "2021-12-08 20:32:02,269 [INFO] Finished action: my_function (UID: 8b81250c-214b-433a-a9fa-f3550894adae) -> SUCCESS\n",
      "2021-12-08 20:32:02,270 [INFO] Starting action: my_function (UID: a285b877-04d3-49c9-a94e-02a25349fb1a) ...\n",
      "output: {mr_images:['pat1_TP2_MR.txt'], ct_images:['pat1_TP1_CT.txt']}\n",
      "2021-12-08 20:32:02,275 [INFO] Finished action: my_function (UID: a285b877-04d3-49c9-a94e-02a25349fb1a) -> SUCCESS\n",
      "2021-12-08 20:32:02,276 [INFO] Starting action: my_function (UID: f5864d44-a4b2-4221-a630-fd52a41985d6) ...\n",
      "output: {mr_images:['pat2_TP1_MR1.txt'], ct_images:['pat2_TP1_CT.txt']}\n",
      "2021-12-08 20:32:02,281 [INFO] Finished action: my_function (UID: f5864d44-a4b2-4221-a630-fd52a41985d6) -> SUCCESS\n",
      "2021-12-08 20:32:02,282 [INFO] Starting action: my_function (UID: 86fb0e39-9244-4689-b7b2-b9e810fa433d) ...\n",
      "output: {mr_images:['pat2_TP1_MR1.txt'], ct_images:['pat2_TP2_CT.txt']}\n",
      "2021-12-08 20:32:02,286 [INFO] Finished action: my_function (UID: 86fb0e39-9244-4689-b7b2-b9e810fa433d) -> SUCCESS\n",
      "2021-12-08 20:32:02,286 [INFO] Starting action: my_function (UID: 86aa23a0-514e-408c-b6cf-de3220da7ae1) ...\n",
      "output: {mr_images:['pat2_TP1_MR2.txt'], ct_images:['pat2_TP1_CT.txt']}\n",
      "2021-12-08 20:32:02,291 [INFO] Finished action: my_function (UID: 86aa23a0-514e-408c-b6cf-de3220da7ae1) -> SUCCESS\n",
      "2021-12-08 20:32:02,291 [INFO] Starting action: my_function (UID: 058fb290-1c88-4e5a-b378-0ab14d3dd719) ...\n",
      "output: {mr_images:['pat2_TP1_MR2.txt'], ct_images:['pat2_TP2_CT.txt']}\n",
      "2021-12-08 20:32:02,296 [INFO] Finished action: my_function (UID: 058fb290-1c88-4e5a-b378-0ab14d3dd719) -> SUCCESS\n",
      "2021-12-08 20:32:02,297 [INFO] Starting action: my_function (UID: 4723e8ea-0c5d-4318-be68-d9ccddcd3d7e) ...\n",
      "output: {mr_images:['pat2_TP2_MR1.txt'], ct_images:['pat2_TP1_CT.txt']}\n",
      "2021-12-08 20:32:02,302 [INFO] Finished action: my_function (UID: 4723e8ea-0c5d-4318-be68-d9ccddcd3d7e) -> SUCCESS\n",
      "2021-12-08 20:32:02,303 [INFO] Starting action: my_function (UID: 57eb5340-6238-45b6-9b9b-f8a0fe1972b2) ...\n",
      "output: {mr_images:['pat2_TP2_MR1.txt'], ct_images:['pat2_TP2_CT.txt']}\n",
      "2021-12-08 20:32:02,308 [INFO] Finished action: my_function (UID: 57eb5340-6238-45b6-9b9b-f8a0fe1972b2) -> SUCCESS\n",
      "2021-12-08 20:32:02,309 [INFO] Finished action: PythonNaryBatchActionV2_example_3 (UID: cdc62e99-0025-4231-96c8-de90afe7dc37) -> SUCCESS\n",
      "2021-12-08 20:32:02,310 [INFO] Successful actions: 5.\n",
      "2021-12-08 20:32:02,312 [INFO] Skipped actions: 0.\n",
      "2021-12-08 20:32:02,314 [INFO] Failed actions: 0.\n",
      "2021-12-08 20:32:02,315 [INFO] Session finished. Feed me more...\n"
     ]
    }
   ],
   "source": [
    "###############################################################################\n",
    "#Example 3: select MR and CT images and call them pairwise (folding both sets per case)\n",
    "###############################################################################\n",
    "with session:\n",
    "    PythonNaryBatchActionV2(primaryInputSelector=mr_image_selector,\n",
    "                        primaryAlias='mr_images',\n",
    "                        additionalInputSelectors = {'ct_images': ct_image_selector},\n",
    "                        actionTag=\"example_3\",\n",
    "                        generateCallable=my_function,\n",
    "                        passOnlyURLs=True).do().tagSelector"
   ]
  },
  {
   "cell_type": "code",
   "execution_count": 36,
   "id": "38f030d7-35a1-4dac-8744-995a643cca79",
   "metadata": {},
   "outputs": [
    {
     "name": "stdout",
     "output_type": "stream",
     "text": [
      "2021-12-08 20:35:20,471 [INFO] Starting action: PythonNaryBatchActionV2_example_3b (UID: 46ccf9a0-67ae-47bf-969e-4fd6862a7cff) ...\n",
      "2021-12-08 20:35:20,475 [INFO] Starting action: my_function (UID: 5394ad68-d304-491f-9e09-4ce328c37652) ...\n",
      "output: {mr_images:['pat1_TP1_MR.txt'], additional:['pat1_TP1_CT.txt']}\n",
      "2021-12-08 20:35:20,480 [INFO] Finished action: my_function (UID: 5394ad68-d304-491f-9e09-4ce328c37652) -> SUCCESS\n",
      "2021-12-08 20:35:20,482 [INFO] Starting action: my_function (UID: cd6686a9-18cf-4ee3-8518-88e5009f2377) ...\n",
      "output: {mr_images:['pat2_TP1_MR1.txt'], additional:['pat2_TP1_CT.txt']}\n",
      "2021-12-08 20:35:20,487 [INFO] Finished action: my_function (UID: cd6686a9-18cf-4ee3-8518-88e5009f2377) -> SUCCESS\n",
      "2021-12-08 20:35:20,488 [INFO] Starting action: my_function (UID: fe1e3119-b662-4a39-afb6-55c8377bd397) ...\n",
      "output: {mr_images:['pat2_TP1_MR2.txt'], additional:['pat2_TP1_CT.txt']}\n",
      "2021-12-08 20:35:20,493 [INFO] Finished action: my_function (UID: fe1e3119-b662-4a39-afb6-55c8377bd397) -> SUCCESS\n",
      "2021-12-08 20:35:20,493 [INFO] Starting action: my_function (UID: f7309f84-c387-4deb-b8d1-a7978928659b) ...\n",
      "output: {mr_images:['pat2_TP2_MR1.txt'], additional:['pat2_TP2_CT.txt']}\n",
      "2021-12-08 20:35:20,498 [INFO] Finished action: my_function (UID: f7309f84-c387-4deb-b8d1-a7978928659b) -> SUCCESS\n",
      "2021-12-08 20:35:20,499 [INFO] Finished action: PythonNaryBatchActionV2_example_3b (UID: 46ccf9a0-67ae-47bf-969e-4fd6862a7cff) -> SUCCESS\n",
      "2021-12-08 20:35:20,500 [INFO] Successful actions: 5.\n",
      "2021-12-08 20:35:20,501 [INFO] Skipped actions: 0.\n",
      "2021-12-08 20:35:20,502 [INFO] Failed actions: 0.\n",
      "2021-12-08 20:35:20,504 [INFO] Session finished. Feed me more...\n"
     ]
    }
   ],
   "source": [
    "###############################################################################\n",
    "#Example 3b:  select MR and CT images and call them pairwise (but only MRs and CTs of same patient and timepoint)\n",
    "###############################################################################\n",
    "with session:\n",
    "    splitProperties=[artefactProps.CASE]\n",
    "    PythonNaryBatchActionV2(primaryInputSelector=mr_image_selector,\n",
    "                            primaryAlias='mr_images',\n",
    "                            additionalInputSelectors = {'additional': ct_image_selector},\n",
    "                            linker={'additional': CaseLinker(allowOnlyFullLinkage=False)+TimePointLinker(allowOnlyFullLinkage=False)},\n",
    "                            actionTag=\"example_3b\",\n",
    "                            generateCallable=my_function,\n",
    "                            passOnlyURLs=True).do().tagSelector"
   ]
  },
  {
   "cell_type": "code",
   "execution_count": 37,
   "outputs": [
    {
     "name": "stdout",
     "output_type": "stream",
     "text": [
      "2021-12-08 20:37:13,009 [INFO] Starting action: PythonNaryBatchActionV2_example_3b (UID: 0475fc69-cf7e-442f-b0f2-64fbeb0bf43c) ...\n",
      "2021-12-08 20:37:13,011 [INFO] Starting action: my_function (UID: deb0ca36-20b3-4d1c-93fe-04545ca5145c) ...\n",
      "output: {mr_images:['pat1_TP1_MR.txt', 'pat1_TP2_MR.txt'], additional:['pat1_TP1_CT.txt']}\n",
      "2021-12-08 20:37:13,017 [INFO] Finished action: my_function (UID: deb0ca36-20b3-4d1c-93fe-04545ca5145c) -> SUCCESS\n",
      "2021-12-08 20:37:13,018 [INFO] Starting action: my_function (UID: edcc0983-30c0-4cd6-a320-a5940b9bd4f9) ...\n",
      "output: {mr_images:['pat2_TP1_MR1.txt', 'pat2_TP1_MR2.txt', 'pat2_TP2_MR1.txt'], additional:['pat2_TP1_CT.txt', 'pat2_TP2_CT.txt']}\n",
      "2021-12-08 20:37:13,024 [INFO] Finished action: my_function (UID: edcc0983-30c0-4cd6-a320-a5940b9bd4f9) -> SUCCESS\n",
      "2021-12-08 20:37:13,026 [INFO] Finished action: PythonNaryBatchActionV2_example_3b (UID: 0475fc69-cf7e-442f-b0f2-64fbeb0bf43c) -> SUCCESS\n",
      "2021-12-08 20:37:13,026 [INFO] Successful actions: 5.\n",
      "2021-12-08 20:37:13,028 [INFO] Skipped actions: 0.\n",
      "2021-12-08 20:37:13,029 [INFO] Failed actions: 0.\n",
      "2021-12-08 20:37:13,030 [INFO] Session finished. Feed me more...\n"
     ]
    }
   ],
   "source": [
    "###############################################################################\n",
    "#Example 3c:  select MR and CT images and call them blockwise (but only MRs and CTs of same patient)\n",
    "###############################################################################\n",
    "with session:\n",
    "    splitProperties=[artefactProps.CASE]\n",
    "    PythonNaryBatchActionV2(primaryInputSelector=mr_image_selector,\n",
    "                        primaryAlias='mr_images',\n",
    "                        additionalInputSelectors = {'additional': ct_image_selector},\n",
    "                        linker={'additional': CaseLinker(allowOnlyFullLinkage=False)+TimePointLinker(allowOnlyFullLinkage=False)},\n",
    "                        splitter={'mr_images': KeyValueSplitter(*splitProperties), 'additional': CaseSplitter()},\n",
    "                        actionTag=\"example_3b\", \n",
    "                        generateCallable=my_function,\n",
    "                        passOnlyURLs=True).do().tagSelector"
   ],
   "metadata": {
    "collapsed": false,
    "pycharm": {
     "name": "#%%\n"
    }
   }
  },
  {
   "cell_type": "code",
   "execution_count": 31,
   "id": "33b7c925-984e-40b5-9bed-e25664747c8d",
   "metadata": {},
   "outputs": [
    {
     "name": "stdout",
     "output_type": "stream",
     "text": [
      "2021-12-08 20:26:14,558 [INFO] Starting action: PythonNaryBatchActionV2_example_4 (UID: 2560162e-650a-4a63-9e08-d9bd415c822c) ...\n",
      "2021-12-08 20:26:14,560 [INFO] Starting action: my_function (UID: 1f8937f4-39c9-4b52-92b4-8e86f1a1968e) ...\n",
      "output: {mr_images:['pat1_TP1_MR.txt', 'pat1_TP2_MR.txt'], additional:['pat1_TP1_Seg1.txt', 'pat1_TP1_Seg2.txt', 'pat1_TP2_Seg1.txt']}\n",
      "2021-12-08 20:26:14,565 [INFO] Finished action: my_function (UID: 1f8937f4-39c9-4b52-92b4-8e86f1a1968e) -> SUCCESS\n",
      "2021-12-08 20:26:14,566 [INFO] Starting action: my_function (UID: 4cd0d2a8-ed6b-4081-bf0b-13456bdfdabf) ...\n",
      "output: {mr_images:['pat2_TP1_MR1.txt', 'pat2_TP1_MR2.txt', 'pat2_TP2_MR1.txt'], additional:['pat2_TP1_Seg1.txt', 'pat2_TP2_Seg1.txt']}\n",
      "2021-12-08 20:26:14,570 [INFO] Finished action: my_function (UID: 4cd0d2a8-ed6b-4081-bf0b-13456bdfdabf) -> SUCCESS\n",
      "2021-12-08 20:26:14,571 [INFO] Starting action: my_function (UID: 48dabd68-36ae-455a-8786-e6c2ecc2a0e5) ...\n",
      "output: {mr_images:['pat3_TP1_MR.txt'], additional:['pat3_TP1_Seg1.txt']}\n",
      "2021-12-08 20:26:14,575 [INFO] Finished action: my_function (UID: 48dabd68-36ae-455a-8786-e6c2ecc2a0e5) -> SUCCESS\n",
      "2021-12-08 20:26:14,576 [INFO] Finished action: PythonNaryBatchActionV2_example_4 (UID: 2560162e-650a-4a63-9e08-d9bd415c822c) -> SUCCESS\n",
      "2021-12-08 20:26:14,576 [INFO] Successful actions: 5.\n",
      "2021-12-08 20:26:14,577 [INFO] Skipped actions: 0.\n",
      "2021-12-08 20:26:14,578 [INFO] Failed actions: 0.\n",
      "2021-12-08 20:26:14,579 [INFO] Session finished. Feed me more...\n"
     ]
    }
   ],
   "source": [
    "###############################################################################\n",
    "#Example 4: select MR images and masks and call them casewise\n",
    "###############################################################################\n",
    "with session:\n",
    "    PythonNaryBatchActionV2(primaryInputSelector=mr_image_selector,\n",
    "                        primaryAlias='mr_images',\n",
    "                        additionalInputSelectors ={'additional': mask_selector},\n",
    "                        linker={'additional': CaseLinker(allowOnlyFullLinkage=False)+TimePointLinker(allowOnlyFullLinkage=False)},\n",
    "                        splitter={'mr_images': CaseSplitter(), 'additional': CaseSplitter()},\n",
    "                        actionTag=\"example_4\", \n",
    "                        generateCallable=my_function, \n",
    "                        passOnlyURLs=True).do().tagSelector"
   ]
  },
  {
   "cell_type": "code",
   "execution_count": 31,
   "id": "5c7cc26d-12e9-454e-853f-fa6be0695f17",
   "metadata": {},
   "outputs": [],
   "source": []
  },
  {
   "cell_type": "code",
   "execution_count": 31,
   "id": "4abc0fd9-7a02-46ed-ba1c-8e95c27f6a44",
   "metadata": {},
   "outputs": [],
   "source": []
  },
  {
   "cell_type": "code",
   "execution_count": null,
   "outputs": [],
   "source": [],
   "metadata": {
    "collapsed": false,
    "pycharm": {
     "name": "#%%\n"
    }
   }
  }
 ],
 "metadata": {
  "kernelspec": {
   "display_name": "Python 3",
   "language": "python",
   "name": "python3"
  },
  "language_info": {
   "codemirror_mode": {
    "name": "ipython",
    "version": 3
   },
   "file_extension": ".py",
   "mimetype": "text/x-python",
   "name": "python",
   "nbconvert_exporter": "python",
   "pygments_lexer": "ipython3",
   "version": "3.8.6"
  }
 },
 "nbformat": 4,
 "nbformat_minor": 5
}