{
 "cells": [
  {
   "cell_type": "code",
   "execution_count": 1,
   "id": "fe611798-b89c-408d-b6c0-c6ee4fb1e6c2",
   "metadata": {},
   "outputs": [],
   "source": [
    "##########################################\n",
    "#Examples for different configurations:\n",
    "#\n",
    "# Assume example data set:\n",
    "# - Patient1\n",
    "#   - pat1_TP1_MR\n",
    "#   - pat1_TP2_MR\n",
    "#   - pat1_TP1_CT\n",
    "# - Patient2\n",
    "#   - pat2_TP1_MR1\n",
    "#   - pat2_TP1_MR2\n",
    "#   - pat2_TP2_MR1\n",
    "#   - pat2_TP1_CT\n",
    "#   - pat2_TP2_CT"
   ]
  },
  {
   "cell_type": "code",
   "execution_count": 2,
   "id": "aefdbbc7-fb1e-4436-93d7-41d8a88d504b",
   "metadata": {},
   "outputs": [],
   "source": [
    "###############################################################################\n",
    "# Imports\n",
    "###############################################################################\n",
    "import os\n",
    "\n",
    "import avid.common.workflow as workflow\n",
    "\n",
    "from avid.selectors import ActionTagSelector as ATS\n",
    "from avid.actions.pythonAction import PythonNaryBatchAction as naryPythonAction, PythonNaryBatchActionV2\n",
    "\n",
    "from avid.linkers import CaseLinker, TimePointLinker, FractionLinker\n",
    "from avid.splitter import SingleSplitter, CaseSplitter, KeyValueSplitter"
   ]
  },
  {
   "cell_type": "code",
   "execution_count": 3,
   "id": "de4b305f-c98e-4bc7-a1da-281ffd1c607f",
   "metadata": {},
   "outputs": [],
   "source": [
    "###############################################################################\n",
    "# Define ActionTagSelectors\n",
    "###############################################################################\n",
    "mr_image_selector = ATS('MR')\n",
    "ct_image_selector = ATS('CT')\n",
    "mask_selector = ATS('Seg')"
   ]
  },
  {
   "cell_type": "code",
   "execution_count": 4,
   "id": "cffbd0f6-20d2-4b2c-a7d7-8bbb9028cc8f",
   "metadata": {},
   "outputs": [],
   "source": [
    "###############################################################################\n",
    "# Define callable\n",
    "###############################################################################\n",
    "def my_function(outputs, **kwargs):\n",
    "    '''\n",
    "        Simple print-callable that outputs the combinations of input artifacts.\n",
    "    '''\n",
    "    keys = kwargs.keys()\n",
    "    print_output = 'output: {'\n",
    "    \n",
    "    for i, key in enumerate(keys):\n",
    "        if i != 0:\n",
    "            print_output += ', '\n",
    "        print_output += '{}:{}'.format(key, [os.path.basename(mr) for mr in kwargs[key]])\n",
    "    print_output += '}'\n",
    "    \n",
    "    print(print_output)\n",
    "    with open(outputs[0], \"w\") as ofile:\n",
    "        ofile.write(str(kwargs))"
   ]
  },
  {
   "cell_type": "code",
   "execution_count": 7,
   "id": "6bce8264-41b6-4469-b515-887c7a9fa28c",
   "metadata": {},
   "outputs": [],
   "source": [
    "###############################################################################\n",
    "# Initialize session\n",
    "###############################################################################\n",
    "session =  workflow.initSession(bootstrapArtefacts=os.path.join(os.getcwd(),'output', 'example.avid'),\n",
    "                                sessionPath=os.path.join(os.getcwd(),'output', 'example'),\n",
    "                                expandPaths=True,\n",
    "                                debug=True)"
   ]
  },
  {
   "cell_type": "code",
   "execution_count": 8,
   "id": "fc4f19d6-0e4a-4464-b970-ec368ad232ef",
   "metadata": {},
   "outputs": [
    {
     "name": "stdout",
     "output_type": "stream",
     "text": [
      "2021-12-06 14:56:25,885 [INFO] Starting action: PythonNaryBatchActionV2_example_1 (UID: 701ea6f7-c9b4-415c-8f87-8a6844a3daae) ...\n",
      "2021-12-06 14:56:25,887 [INFO] Starting action: my_function (UID: e7aeb7b8-aee3-412c-ba4f-c249d93afecf) ...\n",
      "output: {primaryInput:['pat1_TP1_MR.txt']}\n",
      "2021-12-06 14:56:25,891 [INFO] Finished action: my_function (UID: e7aeb7b8-aee3-412c-ba4f-c249d93afecf) -> SUCCESS\n",
      "2021-12-06 14:56:25,891 [INFO] Starting action: my_function (UID: 5981b38a-a63e-4ecb-b65f-2068871bfaa1) ...\n",
      "output: {primaryInput:['pat1_TP2_MR.txt']}\n",
      "2021-12-06 14:56:25,893 [INFO] Finished action: my_function (UID: 5981b38a-a63e-4ecb-b65f-2068871bfaa1) -> SUCCESS\n",
      "2021-12-06 14:56:25,894 [INFO] Starting action: my_function (UID: 501d19b2-5c53-41cf-a21e-e8f7e6218044) ...\n",
      "output: {primaryInput:['pat2_TP1_MR1.txt']}\n",
      "2021-12-06 14:56:25,896 [INFO] Finished action: my_function (UID: 501d19b2-5c53-41cf-a21e-e8f7e6218044) -> SUCCESS\n",
      "2021-12-06 14:56:25,896 [INFO] Starting action: my_function (UID: 498a4ed1-4b94-4ce0-947f-c843056c41aa) ...\n",
      "output: {primaryInput:['pat2_TP1_MR2.txt']}\n",
      "2021-12-06 14:56:25,898 [INFO] Finished action: my_function (UID: 498a4ed1-4b94-4ce0-947f-c843056c41aa) -> SUCCESS\n",
      "2021-12-06 14:56:25,899 [INFO] Starting action: my_function (UID: 38619140-72cd-42d8-b4d3-bee7612c1c42) ...\n",
      "output: {primaryInput:['pat2_TP2_MR1.txt']}\n",
      "2021-12-06 14:56:25,901 [INFO] Finished action: my_function (UID: 38619140-72cd-42d8-b4d3-bee7612c1c42) -> SUCCESS\n",
      "2021-12-06 14:56:25,902 [INFO] Starting action: my_function (UID: ec7b49cd-181f-45de-b3b6-f32b1521252b) ...\n",
      "output: {primaryInput:['pat3_TP1_MR.txt']}\n",
      "2021-12-06 14:56:25,905 [INFO] Finished action: my_function (UID: ec7b49cd-181f-45de-b3b6-f32b1521252b) -> SUCCESS\n",
      "2021-12-06 14:56:25,907 [INFO] Finished action: PythonNaryBatchActionV2_example_1 (UID: 701ea6f7-c9b4-415c-8f87-8a6844a3daae) -> SUCCESS\n",
      "2021-12-06 14:56:25,908 [INFO] Successful actions: 1.\n",
      "2021-12-06 14:56:25,909 [INFO] Skipped actions: 0.\n",
      "2021-12-06 14:56:25,911 [INFO] Failed actions: 0.\n",
      "2021-12-06 14:56:25,912 [INFO] Session finished. Feed me more...\n"
     ]
    }
   ],
   "source": [
    "###############################################################################\n",
    "# Example 1: only select a specific modality (here MR) and make a call per image\n",
    "###############################################################################\n",
    "with session:\n",
    "    PythonNaryBatchActionV2(primaryInputSelector=mr_image_selector, \n",
    "                        actionTag=\"example_1\", \n",
    "                        generateCallable=my_function,\n",
    "                        passOnlyURLs=True).do()"
   ]
  },
  {
   "cell_type": "code",
   "execution_count": 9,
   "id": "b5e54e49-b51d-4f9e-b3e7-aadd7c8f1218",
   "metadata": {},
   "outputs": [
    {
     "name": "stdout",
     "output_type": "stream",
     "text": [
      "2021-12-06 14:56:28,874 [INFO] Starting action: PythonNaryBatchActionV2_example_2 (UID: 98c82a52-293d-4ad6-940e-c0bf242daa11) ...\n",
      "2021-12-06 14:56:28,876 [INFO] Starting action: my_function (UID: 545cb2c5-4673-4454-b7f7-2d619420d91a) ...\n",
      "output: {mr_images:['pat1_TP1_MR.txt']}\n",
      "2021-12-06 14:56:28,879 [INFO] Finished action: my_function (UID: 545cb2c5-4673-4454-b7f7-2d619420d91a) -> SUCCESS\n",
      "2021-12-06 14:56:28,879 [INFO] Starting action: my_function (UID: 4548dc40-6046-4ac8-8bcc-7bd2e30df991) ...\n",
      "output: {mr_images:['pat1_TP2_MR.txt']}\n",
      "2021-12-06 14:56:28,882 [INFO] Finished action: my_function (UID: 4548dc40-6046-4ac8-8bcc-7bd2e30df991) -> SUCCESS\n",
      "2021-12-06 14:56:28,882 [INFO] Starting action: my_function (UID: 8544188e-d1a8-4d30-b1c2-66648c8490f5) ...\n",
      "output: {mr_images:['pat2_TP1_MR1.txt']}\n",
      "2021-12-06 14:56:28,884 [INFO] Finished action: my_function (UID: 8544188e-d1a8-4d30-b1c2-66648c8490f5) -> SUCCESS\n",
      "2021-12-06 14:56:28,885 [INFO] Starting action: my_function (UID: af1e0265-f54c-4200-aa9d-d3686660ee78) ...\n",
      "output: {mr_images:['pat2_TP1_MR2.txt']}\n",
      "2021-12-06 14:56:28,887 [INFO] Finished action: my_function (UID: af1e0265-f54c-4200-aa9d-d3686660ee78) -> SUCCESS\n",
      "2021-12-06 14:56:28,888 [INFO] Starting action: my_function (UID: baacb90b-e731-4f28-b03f-8f0457b0d27c) ...\n",
      "output: {mr_images:['pat2_TP2_MR1.txt']}\n",
      "2021-12-06 14:56:28,890 [INFO] Finished action: my_function (UID: baacb90b-e731-4f28-b03f-8f0457b0d27c) -> SUCCESS\n",
      "2021-12-06 14:56:28,890 [INFO] Starting action: my_function (UID: 2d5e1594-aa85-4d4d-9122-97a3c23c227c) ...\n",
      "output: {mr_images:['pat3_TP1_MR.txt']}\n",
      "2021-12-06 14:56:28,893 [INFO] Finished action: my_function (UID: 2d5e1594-aa85-4d4d-9122-97a3c23c227c) -> SUCCESS\n",
      "2021-12-06 14:56:28,895 [INFO] Finished action: PythonNaryBatchActionV2_example_2 (UID: 98c82a52-293d-4ad6-940e-c0bf242daa11) -> SUCCESS\n",
      "2021-12-06 14:56:28,895 [INFO] Successful actions: 2.\n",
      "2021-12-06 14:56:28,896 [INFO] Skipped actions: 0.\n",
      "2021-12-06 14:56:28,897 [INFO] Failed actions: 0.\n",
      "2021-12-06 14:56:28,898 [INFO] Session finished. Feed me more...\n"
     ]
    }
   ],
   "source": [
    "###############################################################################\n",
    "#Example 2: like example 1 but choose another variable name\n",
    "###############################################################################\n",
    "with session:\n",
    "    PythonNaryBatchActionV2(primaryInputSelector=mr_image_selector,\n",
    "                        primaryAlias='mr_images',\n",
    "                        actionTag=\"example_2\", \n",
    "                        generateCallable=my_function, \n",
    "                        passOnlyURLs=True).do()"
   ]
  },
  {
   "cell_type": "code",
   "execution_count": 11,
   "id": "2c69d1dc-4b68-4cba-8293-75ddae90e077",
   "metadata": {},
   "outputs": [
    {
     "name": "stdout",
     "output_type": "stream",
     "text": [
      "2021-12-06 14:56:42,632 [INFO] Starting action: PythonNaryBatchActionV2_example_3 (UID: 7f36eae0-51cd-42df-874a-429e2f7d5ba3) ...\n",
      "2021-12-06 14:56:42,634 [INFO] Successful actions: 2.\n",
      "2021-12-06 14:56:42,635 [INFO] Skipped actions: 0.\n",
      "2021-12-06 14:56:42,636 [INFO] Failed actions: 0.\n",
      "2021-12-06 14:56:42,637 [INFO] Session finished. Feed me more...\n"
     ]
    },
    {
     "ename": "ValueError",
     "evalue": "Input argument is invalid as it does not contain artefact instances or is None/empty. Input name: masks",
     "output_type": "error",
     "traceback": [
      "\u001b[0;31m---------------------------------------------------------------------------\u001b[0m",
      "\u001b[0;31mValueError\u001b[0m                                Traceback (most recent call last)",
      "\u001b[0;32m/tmp/ipykernel_904502/79194342.py\u001b[0m in \u001b[0;36m<module>\u001b[0;34m\u001b[0m\n\u001b[1;32m      3\u001b[0m \u001b[0;31m###############################################################################\u001b[0m\u001b[0;34m\u001b[0m\u001b[0;34m\u001b[0m\u001b[0;34m\u001b[0m\u001b[0m\n\u001b[1;32m      4\u001b[0m \u001b[0;32mwith\u001b[0m \u001b[0msession\u001b[0m\u001b[0;34m:\u001b[0m\u001b[0;34m\u001b[0m\u001b[0;34m\u001b[0m\u001b[0m\n\u001b[0;32m----> 5\u001b[0;31m     PythonNaryBatchActionV2(primaryInputSelector=mr_image_selector,\n\u001b[0m\u001b[1;32m      6\u001b[0m                         \u001b[0mprimaryAlias\u001b[0m\u001b[0;34m=\u001b[0m\u001b[0;34m'mr_images'\u001b[0m\u001b[0;34m,\u001b[0m\u001b[0;34m\u001b[0m\u001b[0;34m\u001b[0m\u001b[0m\n\u001b[1;32m      7\u001b[0m                         \u001b[0;31m# additionalInputSelectors = {'ct_images': ct_image_selector},\u001b[0m\u001b[0;34m\u001b[0m\u001b[0;34m\u001b[0m\u001b[0;34m\u001b[0m\u001b[0m\n",
      "\u001b[0;32m/media/kleina/Data/Code/avid-examples/avid/actions/__init__.py\u001b[0m in \u001b[0;36mdo\u001b[0;34m(self, autoTokenAdding)\u001b[0m\n\u001b[1;32m    131\u001b[0m         \u001b[0mlogger\u001b[0m\u001b[0;34m.\u001b[0m\u001b[0minfo\u001b[0m\u001b[0;34m(\u001b[0m\u001b[0;34m\"Starting action: \"\u001b[0m \u001b[0;34m+\u001b[0m \u001b[0mself\u001b[0m\u001b[0;34m.\u001b[0m\u001b[0minstanceName\u001b[0m \u001b[0;34m+\u001b[0m \u001b[0;34m\" (UID: \"\u001b[0m \u001b[0;34m+\u001b[0m \u001b[0mself\u001b[0m\u001b[0;34m.\u001b[0m\u001b[0mactionInstanceUID\u001b[0m \u001b[0;34m+\u001b[0m \u001b[0;34m\") ...\"\u001b[0m\u001b[0;34m)\u001b[0m\u001b[0;34m\u001b[0m\u001b[0;34m\u001b[0m\u001b[0m\n\u001b[1;32m    132\u001b[0m \u001b[0;34m\u001b[0m\u001b[0m\n\u001b[0;32m--> 133\u001b[0;31m         \u001b[0mtoken\u001b[0m \u001b[0;34m=\u001b[0m \u001b[0mself\u001b[0m\u001b[0;34m.\u001b[0m\u001b[0m_do\u001b[0m\u001b[0;34m(\u001b[0m\u001b[0;34m)\u001b[0m\u001b[0;34m\u001b[0m\u001b[0;34m\u001b[0m\u001b[0m\n\u001b[0m\u001b[1;32m    134\u001b[0m \u001b[0;34m\u001b[0m\u001b[0m\n\u001b[1;32m    135\u001b[0m         \u001b[0;32mif\u001b[0m \u001b[0mautoTokenAdding\u001b[0m\u001b[0;34m:\u001b[0m\u001b[0;34m\u001b[0m\u001b[0;34m\u001b[0m\u001b[0m\n",
      "\u001b[0;32m/media/kleina/Data/Code/avid-examples/avid/actions/__init__.py\u001b[0m in \u001b[0;36m_do\u001b[0;34m(self)\u001b[0m\n\u001b[1;32m    592\u001b[0m \u001b[0;34m\u001b[0m\u001b[0m\n\u001b[1;32m    593\u001b[0m         \u001b[0;32mif\u001b[0m \u001b[0mself\u001b[0m\u001b[0;34m.\u001b[0m\u001b[0m_actions\u001b[0m \u001b[0;32mis\u001b[0m \u001b[0;32mNone\u001b[0m\u001b[0;34m:\u001b[0m\u001b[0;34m\u001b[0m\u001b[0;34m\u001b[0m\u001b[0m\n\u001b[0;32m--> 594\u001b[0;31m             \u001b[0mself\u001b[0m\u001b[0;34m.\u001b[0m\u001b[0m_actions\u001b[0m \u001b[0;34m=\u001b[0m \u001b[0mself\u001b[0m\u001b[0;34m.\u001b[0m\u001b[0m_generateActions\u001b[0m\u001b[0;34m(\u001b[0m\u001b[0;34m)\u001b[0m\u001b[0;34m\u001b[0m\u001b[0;34m\u001b[0m\u001b[0m\n\u001b[0m\u001b[1;32m    595\u001b[0m \u001b[0;34m\u001b[0m\u001b[0m\n\u001b[1;32m    596\u001b[0m         \u001b[0mtokens\u001b[0m \u001b[0;34m=\u001b[0m \u001b[0mself\u001b[0m\u001b[0;34m.\u001b[0m\u001b[0m_scheduler\u001b[0m\u001b[0;34m.\u001b[0m\u001b[0mexecute\u001b[0m\u001b[0;34m(\u001b[0m\u001b[0mself\u001b[0m\u001b[0;34m.\u001b[0m\u001b[0m_actions\u001b[0m\u001b[0;34m)\u001b[0m\u001b[0;34m\u001b[0m\u001b[0;34m\u001b[0m\u001b[0m\n",
      "\u001b[0;32m/media/kleina/Data/Code/avid-examples/avid/actions/__init__.py\u001b[0m in \u001b[0;36m_generateActions\u001b[0;34m(self)\u001b[0m\n\u001b[1;32m    586\u001b[0m           \u001b[0;34m@\u001b[0m\u001b[0mpostcondition\u001b[0m\u001b[0;34m:\u001b[0m \u001b[0mall\u001b[0m \u001b[0mneeded\u001b[0m \u001b[0msingle\u001b[0m \u001b[0mactions\u001b[0m \u001b[0mare\u001b[0m \u001b[0mcreated\u001b[0m \u001b[0;32mand\u001b[0m \u001b[0mconfigured\u001b[0m \u001b[0mto\u001b[0m \u001b[0mbe\u001b[0m\u001b[0;34m\u001b[0m\u001b[0;34m\u001b[0m\u001b[0m\n\u001b[1;32m    587\u001b[0m           read to be executed.'''\n\u001b[0;32m--> 588\u001b[0;31m         \u001b[0;32mreturn\u001b[0m \u001b[0mself\u001b[0m\u001b[0;34m.\u001b[0m\u001b[0m_generator\u001b[0m\u001b[0;34m.\u001b[0m\u001b[0mgenerateActions\u001b[0m\u001b[0;34m(\u001b[0m\u001b[0;34m)\u001b[0m\u001b[0;34m\u001b[0m\u001b[0;34m\u001b[0m\u001b[0m\n\u001b[0m\u001b[1;32m    589\u001b[0m \u001b[0;34m\u001b[0m\u001b[0m\n\u001b[1;32m    590\u001b[0m     \u001b[0;32mdef\u001b[0m \u001b[0m_do\u001b[0m\u001b[0;34m(\u001b[0m\u001b[0mself\u001b[0m\u001b[0;34m)\u001b[0m\u001b[0;34m:\u001b[0m\u001b[0;34m\u001b[0m\u001b[0;34m\u001b[0m\u001b[0m\n",
      "\u001b[0;32m/media/kleina/Data/Code/avid-examples/avid/actions/actionBatchGenerator.py\u001b[0m in \u001b[0;36mgenerateActions\u001b[0;34m(self)\u001b[0m\n\u001b[1;32m    238\u001b[0m                 linkedAdditionals[additionalKey] = self._linker[additionalKey].getLinkedSelection(pos, primaryInput,\n\u001b[1;32m    239\u001b[0m                                                                               secondSelections)\n\u001b[0;32m--> 240\u001b[0;31m             \u001b[0mactions\u001b[0m\u001b[0;34m.\u001b[0m\u001b[0mextend\u001b[0m\u001b[0;34m(\u001b[0m\u001b[0mself\u001b[0m\u001b[0;34m.\u001b[0m\u001b[0m_generateActions_recursive\u001b[0m\u001b[0;34m(\u001b[0m\u001b[0;34m{\u001b[0m\u001b[0mself\u001b[0m\u001b[0;34m.\u001b[0m\u001b[0m_primaryAlias\u001b[0m\u001b[0;34m:\u001b[0m \u001b[0mprimarySplit\u001b[0m\u001b[0;34m.\u001b[0m\u001b[0mcopy\u001b[0m\u001b[0;34m(\u001b[0m\u001b[0;34m)\u001b[0m\u001b[0;34m}\u001b[0m\u001b[0;34m,\u001b[0m \u001b[0;32mNone\u001b[0m\u001b[0;34m,\u001b[0m \u001b[0mlinkedAdditionals\u001b[0m\u001b[0;34m.\u001b[0m\u001b[0mcopy\u001b[0m\u001b[0;34m(\u001b[0m\u001b[0;34m)\u001b[0m\u001b[0;34m,\u001b[0m \u001b[0mdepSequence\u001b[0m\u001b[0;34m)\u001b[0m\u001b[0;34m)\u001b[0m\u001b[0;34m\u001b[0m\u001b[0;34m\u001b[0m\u001b[0m\n\u001b[0m\u001b[1;32m    241\u001b[0m \u001b[0;34m\u001b[0m\u001b[0m\n\u001b[1;32m    242\u001b[0m         \u001b[0;32mreturn\u001b[0m \u001b[0mactions\u001b[0m\u001b[0;34m\u001b[0m\u001b[0;34m\u001b[0m\u001b[0m\n",
      "\u001b[0;32m/media/kleina/Data/Code/avid-examples/avid/actions/actionBatchGenerator.py\u001b[0m in \u001b[0;36m_generateActions_recursive\u001b[0;34m(self, relevantAdditionalInputs, relevantAdditionalInputPos, additionalInputs, leftInputNames)\u001b[0m\n\u001b[1;32m    276\u001b[0m                 \u001b[0mnewRelPos\u001b[0m\u001b[0;34m[\u001b[0m\u001b[0mcurrentName\u001b[0m\u001b[0;34m]\u001b[0m \u001b[0;34m=\u001b[0m \u001b[0;32mNone\u001b[0m\u001b[0;34m\u001b[0m\u001b[0;34m\u001b[0m\u001b[0m\n\u001b[1;32m    277\u001b[0m                 \u001b[0mnewRelInputs\u001b[0m\u001b[0;34m[\u001b[0m\u001b[0mcurrentName\u001b[0m\u001b[0;34m]\u001b[0m \u001b[0;34m=\u001b[0m \u001b[0mlist\u001b[0m\u001b[0;34m(\u001b[0m\u001b[0;34m)\u001b[0m\u001b[0;34m\u001b[0m\u001b[0;34m\u001b[0m\u001b[0m\n\u001b[0;32m--> 278\u001b[0;31m                 \u001b[0mactions\u001b[0m\u001b[0;34m.\u001b[0m\u001b[0mextend\u001b[0m\u001b[0;34m(\u001b[0m\u001b[0mself\u001b[0m\u001b[0;34m.\u001b[0m\u001b[0m_generateActions_recursive\u001b[0m\u001b[0;34m(\u001b[0m\u001b[0mnewRelInputs\u001b[0m\u001b[0;34m,\u001b[0m \u001b[0mnewRelPos\u001b[0m\u001b[0;34m,\u001b[0m \u001b[0mnewAdditionalInputs\u001b[0m\u001b[0;34m,\u001b[0m \u001b[0mnewLeftNames\u001b[0m\u001b[0;34m)\u001b[0m\u001b[0;34m)\u001b[0m\u001b[0;34m\u001b[0m\u001b[0;34m\u001b[0m\u001b[0m\n\u001b[0m\u001b[1;32m    279\u001b[0m             \u001b[0;32melse\u001b[0m\u001b[0;34m:\u001b[0m\u001b[0;34m\u001b[0m\u001b[0;34m\u001b[0m\u001b[0m\n\u001b[1;32m    280\u001b[0m                 \u001b[0;32mfor\u001b[0m \u001b[0;34m(\u001b[0m\u001b[0mpos\u001b[0m\u001b[0;34m,\u001b[0m\u001b[0maSplit\u001b[0m\u001b[0;34m)\u001b[0m \u001b[0;32min\u001b[0m \u001b[0menumerate\u001b[0m\u001b[0;34m(\u001b[0m\u001b[0mcurrentInputs\u001b[0m\u001b[0;34m)\u001b[0m\u001b[0;34m:\u001b[0m\u001b[0;34m\u001b[0m\u001b[0;34m\u001b[0m\u001b[0m\n",
      "\u001b[0;32m/media/kleina/Data/Code/avid-examples/avid/actions/actionBatchGenerator.py\u001b[0m in \u001b[0;36m_generateActions_recursive\u001b[0;34m(self, relevantAdditionalInputs, relevantAdditionalInputPos, additionalInputs, leftInputNames)\u001b[0m\n\u001b[1;32m    250\u001b[0m             \u001b[0msingleActionParameters\u001b[0m \u001b[0;34m=\u001b[0m \u001b[0;34m{\u001b[0m\u001b[0;34m**\u001b[0m\u001b[0mself\u001b[0m\u001b[0;34m.\u001b[0m\u001b[0m_singleActionParameters\u001b[0m\u001b[0;34m,\u001b[0m \u001b[0;34m**\u001b[0m\u001b[0mrelevantAdditionalInputs\u001b[0m\u001b[0;34m}\u001b[0m\u001b[0;34m\u001b[0m\u001b[0;34m\u001b[0m\u001b[0m\n\u001b[1;32m    251\u001b[0m             \u001b[0;32mif\u001b[0m \u001b[0mself\u001b[0m\u001b[0;34m.\u001b[0m\u001b[0m_actionClass\u001b[0m \u001b[0;32mis\u001b[0m \u001b[0;32mnot\u001b[0m \u001b[0;32mNone\u001b[0m\u001b[0;34m:\u001b[0m\u001b[0;34m\u001b[0m\u001b[0;34m\u001b[0m\u001b[0m\n\u001b[0;32m--> 252\u001b[0;31m                 \u001b[0maction\u001b[0m \u001b[0;34m=\u001b[0m \u001b[0mself\u001b[0m\u001b[0;34m.\u001b[0m\u001b[0m_actionClass\u001b[0m\u001b[0;34m(\u001b[0m\u001b[0;34m**\u001b[0m\u001b[0msingleActionParameters\u001b[0m\u001b[0;34m)\u001b[0m\u001b[0;34m\u001b[0m\u001b[0;34m\u001b[0m\u001b[0m\n\u001b[0m\u001b[1;32m    253\u001b[0m                 \u001b[0mactions\u001b[0m\u001b[0;34m.\u001b[0m\u001b[0mappend\u001b[0m\u001b[0;34m(\u001b[0m\u001b[0maction\u001b[0m\u001b[0;34m)\u001b[0m\u001b[0;34m\u001b[0m\u001b[0;34m\u001b[0m\u001b[0m\n\u001b[1;32m    254\u001b[0m             \u001b[0;32melse\u001b[0m\u001b[0;34m:\u001b[0m\u001b[0;34m\u001b[0m\u001b[0;34m\u001b[0m\u001b[0m\n",
      "\u001b[0;32m/media/kleina/Data/Code/avid-examples/avid/actions/pythonAction.py\u001b[0m in \u001b[0;36m__init__\u001b[0;34m(self, generateCallable, indicateCallable, additionalArgs, passOnlyURLs, defaultoutputextension, outputReferenceArtefactName, actionTag, alwaysDo, session, additionalActionProps, propInheritanceDict, **inputArgs)\u001b[0m\n\u001b[1;32m     85\u001b[0m             \u001b[0minputArtefacts\u001b[0m \u001b[0;34m=\u001b[0m \u001b[0mself\u001b[0m\u001b[0;34m.\u001b[0m\u001b[0m_ensureArtefacts\u001b[0m\u001b[0;34m(\u001b[0m\u001b[0minputArgs\u001b[0m\u001b[0;34m[\u001b[0m\u001b[0mname\u001b[0m\u001b[0;34m]\u001b[0m\u001b[0;34m,\u001b[0m \u001b[0mname\u001b[0m\u001b[0;34m=\u001b[0m\u001b[0mname\u001b[0m\u001b[0;34m)\u001b[0m\u001b[0;34m\u001b[0m\u001b[0;34m\u001b[0m\u001b[0m\n\u001b[1;32m     86\u001b[0m             \u001b[0;32mif\u001b[0m \u001b[0minputArtefacts\u001b[0m \u001b[0;32mis\u001b[0m \u001b[0;32mNone\u001b[0m\u001b[0;34m:\u001b[0m\u001b[0;34m\u001b[0m\u001b[0;34m\u001b[0m\u001b[0m\n\u001b[0;32m---> 87\u001b[0;31m                 raise ValueError(\n\u001b[0m\u001b[1;32m     88\u001b[0m                     'Input argument is invalid as it does not contain artefact instances or is None/empty. Input name: {}'.format(\n\u001b[1;32m     89\u001b[0m                         name))\n",
      "\u001b[0;31mValueError\u001b[0m: Input argument is invalid as it does not contain artefact instances or is None/empty. Input name: masks"
     ]
    }
   ],
   "source": [
    "###############################################################################\n",
    "#Example 3: select MR and CT images and call them pairwise (folding both sets)\n",
    "###############################################################################\n",
    "with session:\n",
    "    PythonNaryBatchActionV2(primaryInputSelector=mr_image_selector,\n",
    "                        primaryAlias='mr_images',\n",
    "                        # additionalInputSelectors = {'ct_images': ct_image_selector},\n",
    "                        additionalInputSelectors = {'masks': mask_selector},\n",
    "                        actionTag=\"example_3\", \n",
    "                        generateCallable=my_function,\n",
    "                        passOnlyURLs=True).do().tagSelector"
   ]
  },
  {
   "cell_type": "code",
   "execution_count": null,
   "id": "38f030d7-35a1-4dac-8744-995a643cca79",
   "metadata": {},
   "outputs": [],
   "source": [
    "###############################################################################\n",
    "#Example 3b:  select MR and CT images and call them pairwise (but only MRs and CTs of same patient and timepoint)\n",
    "###############################################################################\n",
    "with session:\n",
    "    splitProperties=['case']\n",
    "    PythonNaryBatchActionV2(primaryInputSelector=mr_image_selector,\n",
    "                        primaryAlias='mr_images',\n",
    "                        additionalInputSelectors = {'additional': ct_image_selector},\n",
    "                        # additionalInputSelectors = {'additional': mask_selector},\n",
    "                        linker={'additional': CaseLinker(allowOnlyFullLinkage=False)+TimePointLinker(allowOnlyFullLinkage=False)},\n",
    "                        splitter={'mr_images': KeyValueSplitter(*splitProperties), 'additional': CaseSplitter()},\n",
    "                        actionTag=\"example_3b\", \n",
    "                        generateCallable=my_function,\n",
    "                        passOnlyURLs=True).do().tagSelector"
   ]
  },
  {
   "cell_type": "code",
   "execution_count": null,
   "id": "33b7c925-984e-40b5-9bed-e25664747c8d",
   "metadata": {},
   "outputs": [],
   "source": [
    "###############################################################################\n",
    "#Example 4: select MR images and masks and call them casewise\n",
    "###############################################################################\n",
    "with session:\n",
    "    PythonNaryBatchActionV2(primaryInputSelector=mr_image_selector,\n",
    "                        primaryAlias='mr_images',\n",
    "                        # additionalInputSelectors ={'additional': mask_selector},\n",
    "                        additionalInputSelectors = {'additional': ct_image_selector},\n",
    "                        linker={'additional': CaseLinker(allowOnlyFullLinkage=False)+TimePointLinker(allowOnlyFullLinkage=False)},\n",
    "                        splitter={'mr_images': CaseSplitter(), 'additional': CaseSplitter()},\n",
    "                        actionTag=\"example_4\", \n",
    "                        generateCallable=my_function, \n",
    "                        passOnlyURLs=True).do().tagSelector"
   ]
  },
  {
   "cell_type": "code",
   "execution_count": null,
   "id": "5c7cc26d-12e9-454e-853f-fa6be0695f17",
   "metadata": {},
   "outputs": [],
   "source": []
  },
  {
   "cell_type": "code",
   "execution_count": null,
   "id": "4abc0fd9-7a02-46ed-ba1c-8e95c27f6a44",
   "metadata": {},
   "outputs": [],
   "source": []
  }
 ],
 "metadata": {
  "kernelspec": {
   "display_name": "Python 3",
   "language": "python",
   "name": "python3"
  },
  "language_info": {
   "codemirror_mode": {
    "name": "ipython",
    "version": 3
   },
   "file_extension": ".py",
   "mimetype": "text/x-python",
   "name": "python",
   "nbconvert_exporter": "python",
   "pygments_lexer": "ipython3",
   "version": "3.8.6"
  }
 },
 "nbformat": 4,
 "nbformat_minor": 5
}
