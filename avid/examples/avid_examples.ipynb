{
 "cells": [
  {
   "cell_type": "code",
   "execution_count": 20,
   "id": "fe611798-b89c-408d-b6c0-c6ee4fb1e6c2",
   "metadata": {},
   "outputs": [],
   "source": [
    "##########################################\n",
    "#Examples for different configurations:\n",
    "#\n",
    "# Assume example data set:\n",
    "# - Patient1\n",
    "#   - pat1_TP1_MR\n",
    "#   - pat1_TP2_MR\n",
    "#   - pat1_TP1_CT\n",
    "# - Patient2\n",
    "#   - pat2_TP1_MR1\n",
    "#   - pat2_TP1_MR2\n",
    "#   - pat2_TP2_MR1\n",
    "#   - pat2_TP1_CT\n",
    "#   - pat2_TP2_CT"
   ]
  },
  {
   "cell_type": "code",
   "execution_count": 21,
   "id": "aefdbbc7-fb1e-4436-93d7-41d8a88d504b",
   "metadata": {},
   "outputs": [],
   "source": [
    "###############################################################################\n",
    "# Imports\n",
    "###############################################################################\n",
    "import os\n",
    "\n",
    "import avid.common.workflow as workflow\n",
    "import avid.common.artefact.defaultProps as artefactProps\n",
    "\n",
    "from avid.selectors import ActionTagSelector as ATS\n",
    "from avid.actions.pythonAction import PythonNaryBatchAction as naryPythonAction, PythonNaryBatchActionV2\n",
    "\n",
    "from avid.linkers import CaseLinker, TimePointLinker, FractionLinker\n",
    "from avid.splitter import SingleSplitter, CaseSplitter, KeyValueSplitter"
   ]
  },
  {
   "cell_type": "code",
   "execution_count": 22,
   "id": "de4b305f-c98e-4bc7-a1da-281ffd1c607f",
   "metadata": {},
   "outputs": [],
   "source": [
    "###############################################################################\n",
    "# Define ActionTagSelectors\n",
    "###############################################################################\n",
    "mr_image_selector = ATS('MR')\n",
    "ct_image_selector = ATS('CT')\n",
    "mask_selector = ATS('Seg')"
   ]
  },
  {
   "cell_type": "code",
   "execution_count": 23,
   "id": "cffbd0f6-20d2-4b2c-a7d7-8bbb9028cc8f",
   "metadata": {},
   "outputs": [],
   "source": [
    "###############################################################################\n",
    "# Define callable\n",
    "###############################################################################\n",
    "def my_function(outputs, **kwargs):\n",
    "    '''\n",
    "        Simple print-callable that outputs the combinations of input artifacts.\n",
    "    '''\n",
    "    keys = kwargs.keys()\n",
    "    print_output = 'output: {'\n",
    "    \n",
    "    for i, key in enumerate(keys):\n",
    "        if i != 0:\n",
    "            print_output += ', '\n",
    "        print_output += '{}:{}'.format(key, [os.path.basename(mr) for mr in kwargs[key]])\n",
    "    print_output += '}'\n",
    "    \n",
    "    print(print_output)\n",
    "    with open(outputs[0], \"w\") as ofile:\n",
    "        ofile.write(str(kwargs))"
   ]
  },
  {
   "cell_type": "code",
   "execution_count": 24,
   "id": "6bce8264-41b6-4469-b515-887c7a9fa28c",
   "metadata": {},
   "outputs": [],
   "source": [
    "###############################################################################\n",
    "# Initialize session\n",
    "###############################################################################\n",
    "session =  workflow.initSession(bootstrapArtefacts=os.path.join(os.getcwd(),'output', 'example.avid'),\n",
    "                                sessionPath=os.path.join(os.getcwd(),'output', 'example'),\n",
    "                                expandPaths=True,\n",
    "                                debug=True)"
   ]
  },
  {
   "cell_type": "code",
   "execution_count": 25,
   "id": "fc4f19d6-0e4a-4464-b970-ec368ad232ef",
   "metadata": {},
   "outputs": [
    {
     "name": "stdout",
     "output_type": "stream",
     "text": [
      "2021-12-14 11:35:42,042 [INFO] Starting action: PythonNaryBatchActionV2_example_1 (UID: 1f68e2af-76df-4caf-8281-73f0fa70c466) ...\n",
      "2021-12-14 11:35:42,044 [INFO] Starting action: my_function (UID: fa83287b-6cdd-4952-9566-05579e1c0f89) ...\n",
      "output: {primaryInput:['pat1_TP1_MR.txt']}\n",
      "2021-12-14 11:35:42,066 [INFO] Finished action: my_function (UID: fa83287b-6cdd-4952-9566-05579e1c0f89) -> SUCCESS\n",
      "2021-12-14 11:35:42,067 [INFO] Starting action: my_function (UID: e3a95334-9b6e-418a-b66e-65c6a8ece5d5) ...\n",
      "output: {primaryInput:['pat1_TP2_MR.txt']}\n",
      "2021-12-14 11:35:42,072 [INFO] Finished action: my_function (UID: e3a95334-9b6e-418a-b66e-65c6a8ece5d5) -> SUCCESS\n",
      "2021-12-14 11:35:42,073 [INFO] Starting action: my_function (UID: dd2eedd3-3b51-4bd4-a9f0-9e677680d270) ...\n",
      "output: {primaryInput:['pat2_TP1_MR1.txt']}\n",
      "2021-12-14 11:35:42,079 [INFO] Finished action: my_function (UID: dd2eedd3-3b51-4bd4-a9f0-9e677680d270) -> SUCCESS\n",
      "2021-12-14 11:35:42,081 [INFO] Starting action: my_function (UID: 5d5cea5f-bffe-4ddd-a374-12871a915d25) ...\n",
      "output: {primaryInput:['pat2_TP1_MR2.txt']}\n",
      "2021-12-14 11:35:42,085 [INFO] Finished action: my_function (UID: 5d5cea5f-bffe-4ddd-a374-12871a915d25) -> SUCCESS\n",
      "2021-12-14 11:35:42,087 [INFO] Starting action: my_function (UID: 0186d0af-c381-4899-b6f5-9ebb00584a1d) ...\n",
      "output: {primaryInput:['pat2_TP2_MR1.txt']}\n",
      "2021-12-14 11:35:42,094 [INFO] Finished action: my_function (UID: 0186d0af-c381-4899-b6f5-9ebb00584a1d) -> SUCCESS\n",
      "2021-12-14 11:35:42,096 [INFO] Starting action: my_function (UID: 14b5d2c2-84a1-40ea-8561-732224c96cd9) ...\n",
      "output: {primaryInput:['pat3_TP1_MR.txt']}\n",
      "2021-12-14 11:35:42,109 [INFO] Finished action: my_function (UID: 14b5d2c2-84a1-40ea-8561-732224c96cd9) -> SUCCESS\n",
      "2021-12-14 11:35:42,112 [INFO] Finished action: PythonNaryBatchActionV2_example_1 (UID: 1f68e2af-76df-4caf-8281-73f0fa70c466) -> SUCCESS\n",
      "2021-12-14 11:35:42,113 [INFO] Successful actions: 1.\n",
      "2021-12-14 11:35:42,114 [INFO] Skipped actions: 0.\n",
      "2021-12-14 11:35:42,115 [INFO] Failed actions: 0.\n",
      "2021-12-14 11:35:42,118 [INFO] Session finished. Feed me more...\n"
     ]
    }
   ],
   "source": [
    "###############################################################################\n",
    "# Example 1: only select a specific modality (here MR) and make a call per image\n",
    "###############################################################################\n",
    "with session:\n",
    "    PythonNaryBatchActionV2(primaryInputSelector=mr_image_selector, \n",
    "                        actionTag=\"example_1\", \n",
    "                        generateCallable=my_function,\n",
    "                        passOnlyURLs=True).do()"
   ]
  },
  {
   "cell_type": "code",
   "execution_count": 26,
   "id": "b5e54e49-b51d-4f9e-b3e7-aadd7c8f1218",
   "metadata": {},
   "outputs": [
    {
     "name": "stdout",
     "output_type": "stream",
     "text": [
      "2021-12-14 11:35:42,237 [INFO] Starting action: PythonNaryBatchActionV2_example_2 (UID: 5615130f-50a4-4b18-9523-4579b83600ee) ...\n",
      "2021-12-14 11:35:42,239 [INFO] Starting action: my_function (UID: 37f211f0-cf0a-40d2-9285-1625dd113384) ...\n",
      "output: {mr_images:['pat1_TP1_MR.txt']}\n",
      "2021-12-14 11:35:42,249 [INFO] Finished action: my_function (UID: 37f211f0-cf0a-40d2-9285-1625dd113384) -> SUCCESS\n",
      "2021-12-14 11:35:42,250 [INFO] Starting action: my_function (UID: 6830282b-f1bf-43f3-bad1-264aa8449319) ...\n",
      "output: {mr_images:['pat1_TP2_MR.txt']}\n",
      "2021-12-14 11:35:42,252 [INFO] Finished action: my_function (UID: 6830282b-f1bf-43f3-bad1-264aa8449319) -> SUCCESS\n",
      "2021-12-14 11:35:42,253 [INFO] Starting action: my_function (UID: 84d4e713-8f25-44ff-8d48-69c1528dbf9f) ...\n",
      "output: {mr_images:['pat2_TP1_MR1.txt']}\n",
      "2021-12-14 11:35:42,261 [INFO] Finished action: my_function (UID: 84d4e713-8f25-44ff-8d48-69c1528dbf9f) -> SUCCESS\n",
      "2021-12-14 11:35:42,262 [INFO] Starting action: my_function (UID: 7f53a5c1-3caa-410a-90ea-5a9f41b245b5) ...\n",
      "output: {mr_images:['pat2_TP1_MR2.txt']}\n",
      "2021-12-14 11:35:42,265 [INFO] Finished action: my_function (UID: 7f53a5c1-3caa-410a-90ea-5a9f41b245b5) -> SUCCESS\n",
      "2021-12-14 11:35:42,265 [INFO] Starting action: my_function (UID: c69287be-347b-4828-bc3e-d0ea1ea0a482) ...\n",
      "output: {mr_images:['pat2_TP2_MR1.txt']}\n",
      "2021-12-14 11:35:42,269 [INFO] Finished action: my_function (UID: c69287be-347b-4828-bc3e-d0ea1ea0a482) -> SUCCESS\n",
      "2021-12-14 11:35:42,271 [INFO] Starting action: my_function (UID: fc5b69fe-e3ad-48c0-939e-fc8f3f74ef99) ...\n",
      "output: {mr_images:['pat3_TP1_MR.txt']}\n",
      "2021-12-14 11:35:42,286 [INFO] Finished action: my_function (UID: fc5b69fe-e3ad-48c0-939e-fc8f3f74ef99) -> SUCCESS\n",
      "2021-12-14 11:35:42,287 [INFO] Finished action: PythonNaryBatchActionV2_example_2 (UID: 5615130f-50a4-4b18-9523-4579b83600ee) -> SUCCESS\n",
      "2021-12-14 11:35:42,287 [INFO] Successful actions: 2.\n",
      "2021-12-14 11:35:42,288 [INFO] Skipped actions: 0.\n",
      "2021-12-14 11:35:42,289 [INFO] Failed actions: 0.\n",
      "2021-12-14 11:35:42,290 [INFO] Session finished. Feed me more...\n"
     ]
    }
   ],
   "source": [
    "###############################################################################\n",
    "#Example 2: like example 1 but choose another variable name\n",
    "###############################################################################\n",
    "with session:\n",
    "    PythonNaryBatchActionV2(primaryInputSelector=mr_image_selector,\n",
    "                        primaryAlias='mr_images',\n",
    "                        actionTag=\"example_2\", \n",
    "                        generateCallable=my_function, \n",
    "                        passOnlyURLs=True).do()"
   ]
  },
  {
   "cell_type": "code",
   "execution_count": 27,
   "id": "2c69d1dc-4b68-4cba-8293-75ddae90e077",
   "metadata": {},
   "outputs": [
    {
     "name": "stdout",
     "output_type": "stream",
     "text": [
      "2021-12-14 11:35:42,427 [INFO] Starting action: PythonNaryBatchActionV2_example_3 (UID: eb332fdd-1083-4fe7-bbd0-c2f4a41e4a53) ...\n",
      "2021-12-14 11:35:42,430 [INFO] Starting action: my_function (UID: dba55d6e-f199-4059-8b8a-436cdf134e03) ...\n",
      "output: {mr_images:['pat1_TP1_MR.txt'], ct_images:['pat1_TP1_CT.txt']}\n",
      "2021-12-14 11:35:42,455 [INFO] Finished action: my_function (UID: dba55d6e-f199-4059-8b8a-436cdf134e03) -> SUCCESS\n",
      "2021-12-14 11:35:42,456 [INFO] Starting action: my_function (UID: 439f4c14-0268-4312-b870-70519f65bb83) ...\n",
      "output: {mr_images:['pat1_TP2_MR.txt'], ct_images:['pat1_TP1_CT.txt']}\n",
      "2021-12-14 11:35:42,458 [INFO] Finished action: my_function (UID: 439f4c14-0268-4312-b870-70519f65bb83) -> SUCCESS\n",
      "2021-12-14 11:35:42,459 [INFO] Starting action: my_function (UID: 212da937-7535-4b79-9b10-5ad4b48fc29a) ...\n",
      "output: {mr_images:['pat2_TP1_MR1.txt'], ct_images:['pat2_TP1_CT.txt']}\n",
      "2021-12-14 11:35:42,463 [INFO] Finished action: my_function (UID: 212da937-7535-4b79-9b10-5ad4b48fc29a) -> SUCCESS\n",
      "2021-12-14 11:35:42,464 [INFO] Starting action: my_function (UID: 5ae7c59a-e429-4449-9bd6-f554fdc29298) ...\n",
      "output: {mr_images:['pat2_TP1_MR1.txt'], ct_images:['pat2_TP2_CT.txt']}\n",
      "2021-12-14 11:35:42,468 [INFO] Finished action: my_function (UID: 5ae7c59a-e429-4449-9bd6-f554fdc29298) -> SUCCESS\n",
      "2021-12-14 11:35:42,469 [INFO] Starting action: my_function (UID: 910334c7-e7e1-4c1f-9c30-27eabe51e2b0) ...\n",
      "output: {mr_images:['pat2_TP1_MR2.txt'], ct_images:['pat2_TP1_CT.txt']}\n",
      "2021-12-14 11:35:42,474 [INFO] Finished action: my_function (UID: 910334c7-e7e1-4c1f-9c30-27eabe51e2b0) -> SUCCESS\n",
      "2021-12-14 11:35:42,474 [INFO] Starting action: my_function (UID: c8acefba-0706-4b53-9f65-557c37d5d6ba) ...\n",
      "output: {mr_images:['pat2_TP1_MR2.txt'], ct_images:['pat2_TP2_CT.txt']}\n",
      "2021-12-14 11:35:42,477 [INFO] Finished action: my_function (UID: c8acefba-0706-4b53-9f65-557c37d5d6ba) -> SUCCESS\n",
      "2021-12-14 11:35:42,478 [INFO] Starting action: my_function (UID: 78672128-6cd2-439b-9be2-c0c9e36e07b9) ...\n",
      "output: {mr_images:['pat2_TP2_MR1.txt'], ct_images:['pat2_TP1_CT.txt']}\n",
      "2021-12-14 11:35:42,482 [INFO] Finished action: my_function (UID: 78672128-6cd2-439b-9be2-c0c9e36e07b9) -> SUCCESS\n",
      "2021-12-14 11:35:42,483 [INFO] Starting action: my_function (UID: d4f023bc-c34e-4a1c-977b-2058056a990b) ...\n",
      "output: {mr_images:['pat2_TP2_MR1.txt'], ct_images:['pat2_TP2_CT.txt']}\n",
      "2021-12-14 11:35:42,485 [INFO] Finished action: my_function (UID: d4f023bc-c34e-4a1c-977b-2058056a990b) -> SUCCESS\n",
      "2021-12-14 11:35:42,486 [INFO] Finished action: PythonNaryBatchActionV2_example_3 (UID: eb332fdd-1083-4fe7-bbd0-c2f4a41e4a53) -> SUCCESS\n",
      "2021-12-14 11:35:42,487 [INFO] Successful actions: 3.\n",
      "2021-12-14 11:35:42,488 [INFO] Skipped actions: 0.\n",
      "2021-12-14 11:35:42,488 [INFO] Failed actions: 0.\n",
      "2021-12-14 11:35:42,489 [INFO] Session finished. Feed me more...\n"
     ]
    }
   ],
   "source": [
    "###############################################################################\n",
    "#Example 3: select MR and CT images and call them pairwise (folding both sets per case)\n",
    "###############################################################################\n",
    "with session:\n",
    "    PythonNaryBatchActionV2(primaryInputSelector=mr_image_selector,\n",
    "                        primaryAlias='mr_images',\n",
    "                        additionalInputSelectors = {'ct_images': ct_image_selector},\n",
    "                        actionTag=\"example_3\",\n",
    "                        generateCallable=my_function,\n",
    "                        passOnlyURLs=True).do().tagSelector"
   ]
  },
  {
   "cell_type": "code",
   "execution_count": 28,
   "id": "38f030d7-35a1-4dac-8744-995a643cca79",
   "metadata": {},
   "outputs": [
    {
     "name": "stdout",
     "output_type": "stream",
     "text": [
      "2021-12-14 11:35:42,963 [INFO] Starting action: PythonNaryBatchActionV2_example_3b (UID: 03c58b69-bbc9-4f58-a97e-de3edc0da99d) ...\n",
      "2021-12-14 11:35:42,966 [INFO] Starting action: my_function (UID: 27e0b15e-805e-4ac1-aa8b-b5d5cbddd0cc) ...\n",
      "output: {mr_images:['pat1_TP1_MR.txt'], additional:['pat1_TP1_CT.txt']}\n",
      "2021-12-14 11:35:42,985 [INFO] Finished action: my_function (UID: 27e0b15e-805e-4ac1-aa8b-b5d5cbddd0cc) -> SUCCESS\n",
      "2021-12-14 11:35:42,986 [INFO] Starting action: my_function (UID: 72ebd0e6-5d5c-4fa3-b44b-7fecae8e14a4) ...\n",
      "output: {mr_images:['pat2_TP1_MR1.txt'], additional:['pat2_TP1_CT.txt']}\n",
      "2021-12-14 11:35:42,991 [INFO] Finished action: my_function (UID: 72ebd0e6-5d5c-4fa3-b44b-7fecae8e14a4) -> SUCCESS\n",
      "2021-12-14 11:35:42,992 [INFO] Starting action: my_function (UID: 9ecee410-5c29-4e51-9b90-3e540667db9a) ...\n",
      "output: {mr_images:['pat2_TP1_MR2.txt'], additional:['pat2_TP1_CT.txt']}\n",
      "2021-12-14 11:35:42,994 [INFO] Finished action: my_function (UID: 9ecee410-5c29-4e51-9b90-3e540667db9a) -> SUCCESS\n",
      "2021-12-14 11:35:42,995 [INFO] Starting action: my_function (UID: 5671d79a-9629-4daf-9891-aad9fb4ba939) ...\n",
      "output: {mr_images:['pat2_TP2_MR1.txt'], additional:['pat2_TP2_CT.txt']}\n",
      "2021-12-14 11:35:42,998 [INFO] Finished action: my_function (UID: 5671d79a-9629-4daf-9891-aad9fb4ba939) -> SUCCESS\n",
      "2021-12-14 11:35:42,999 [INFO] Finished action: PythonNaryBatchActionV2_example_3b (UID: 03c58b69-bbc9-4f58-a97e-de3edc0da99d) -> SUCCESS\n",
      "2021-12-14 11:35:42,999 [INFO] Successful actions: 4.\n",
      "2021-12-14 11:35:43,000 [INFO] Skipped actions: 0.\n",
      "2021-12-14 11:35:43,001 [INFO] Failed actions: 0.\n",
      "2021-12-14 11:35:43,002 [INFO] Session finished. Feed me more...\n"
     ]
    }
   ],
   "source": [
    "###############################################################################\n",
    "#Example 3b:  select MR and CT images and call them pairwise (but only MRs and CTs of same patient and timepoint)\n",
    "###############################################################################\n",
    "with session:\n",
    "    splitProperties=[artefactProps.CASE]\n",
    "    PythonNaryBatchActionV2(primaryInputSelector=mr_image_selector,\n",
    "                            primaryAlias='mr_images',\n",
    "                            additionalInputSelectors = {'additional': ct_image_selector},\n",
    "                            linker={'additional': CaseLinker()+TimePointLinker()},\n",
    "                            actionTag=\"example_3b\",\n",
    "                            generateCallable=my_function,\n",
    "                            passOnlyURLs=True).do().tagSelector"
   ]
  },
  {
   "cell_type": "code",
   "execution_count": 29,
   "id": "372795ab",
   "metadata": {
    "collapsed": false,
    "jupyter": {
     "outputs_hidden": false
    },
    "pycharm": {
     "name": "#%%\n"
    }
   },
   "outputs": [
    {
     "name": "stdout",
     "output_type": "stream",
     "text": [
      "2021-12-14 11:35:43,556 [INFO] Starting action: PythonNaryBatchActionV2_example_3b (UID: f7f266a6-de27-4995-a791-68bbea2509c2) ...\n",
      "2021-12-14 11:35:43,559 [INFO] Starting action: my_function (UID: ecbc8858-c972-4989-988d-2bd7d2d13560) ...\n",
      "output: {mr_images:['pat1_TP1_MR.txt', 'pat1_TP2_MR.txt'], additional:['pat1_TP1_CT.txt']}\n",
      "2021-12-14 11:35:43,562 [INFO] Finished action: my_function (UID: ecbc8858-c972-4989-988d-2bd7d2d13560) -> SUCCESS\n",
      "2021-12-14 11:35:43,563 [INFO] Starting action: my_function (UID: 6b59ac53-a111-4701-985e-f02128016c57) ...\n",
      "output: {mr_images:['pat2_TP1_MR1.txt', 'pat2_TP1_MR2.txt', 'pat2_TP2_MR1.txt'], additional:['pat2_TP1_CT.txt', 'pat2_TP2_CT.txt']}\n",
      "2021-12-14 11:35:43,566 [INFO] Finished action: my_function (UID: 6b59ac53-a111-4701-985e-f02128016c57) -> SUCCESS\n",
      "2021-12-14 11:35:43,567 [INFO] Finished action: PythonNaryBatchActionV2_example_3b (UID: f7f266a6-de27-4995-a791-68bbea2509c2) -> SUCCESS\n",
      "2021-12-14 11:35:43,568 [INFO] Successful actions: 4.\n",
      "2021-12-14 11:35:43,569 [INFO] Skipped actions: 0.\n",
      "2021-12-14 11:35:43,570 [INFO] Failed actions: 0.\n",
      "2021-12-14 11:35:43,571 [INFO] Session finished. Feed me more...\n"
     ]
    }
   ],
   "source": [
    "###############################################################################\n",
    "#Example 3c:  select MR and CT images and call them blockwise (but only MRs and CTs of same patient)\n",
    "###############################################################################\n",
    "with session:\n",
    "    splitProperties=[artefactProps.CASE]\n",
    "    PythonNaryBatchActionV2(primaryInputSelector=mr_image_selector,\n",
    "                        primaryAlias='mr_images',\n",
    "                        additionalInputSelectors = {'additional': ct_image_selector},\n",
    "                        linker={'additional': CaseLinker(allowOnlyFullLinkage=False)+TimePointLinker(allowOnlyFullLinkage=False)},\n",
    "                        splitter={'mr_images': KeyValueSplitter(*splitProperties), 'additional': CaseSplitter()},\n",
    "                        actionTag=\"example_3b\", \n",
    "                        generateCallable=my_function,\n",
    "                        passOnlyURLs=True).do().tagSelector"
   ]
  },
  {
   "cell_type": "code",
   "execution_count": 32,
   "id": "33b7c925-984e-40b5-9bed-e25664747c8d",
   "metadata": {},
   "outputs": [
    {
     "name": "stdout",
     "output_type": "stream",
     "text": [
      "2021-12-14 11:36:00,586 [INFO] Starting action: PythonNaryBatchActionV2_example_4 (UID: e6a9806c-41ed-48e7-81a5-b7502dddd5b4) ...\n",
      "2021-12-14 11:36:00,587 [INFO] Starting action: my_function (UID: ca34eb3f-bbdd-47ee-bd37-eeb99005f4ce) ...\n",
      "output: {mr_images:['pat1_TP1_MR.txt', 'pat1_TP2_MR.txt'], additional:['pat1_TP1_Seg1.txt', 'pat1_TP1_Seg2.txt', 'pat1_TP2_Seg1.txt']}\n",
      "2021-12-14 11:36:00,591 [INFO] Finished action: my_function (UID: ca34eb3f-bbdd-47ee-bd37-eeb99005f4ce) -> SUCCESS\n",
      "2021-12-14 11:36:00,592 [INFO] Starting action: my_function (UID: 77ca6407-8bd0-41c4-a1f2-4f0a54f6f48c) ...\n",
      "output: {mr_images:['pat2_TP1_MR1.txt', 'pat2_TP1_MR2.txt', 'pat2_TP2_MR1.txt'], additional:['pat2_TP1_Seg1.txt', 'pat2_TP2_Seg1.txt']}\n",
      "2021-12-14 11:36:00,595 [INFO] Finished action: my_function (UID: 77ca6407-8bd0-41c4-a1f2-4f0a54f6f48c) -> SUCCESS\n",
      "2021-12-14 11:36:00,595 [INFO] Starting action: my_function (UID: a81bd569-4c4d-4db7-b807-52b344715427) ...\n",
      "output: {mr_images:['pat3_TP1_MR.txt'], additional:['pat3_TP1_Seg1.txt']}\n",
      "2021-12-14 11:36:00,598 [INFO] Finished action: my_function (UID: a81bd569-4c4d-4db7-b807-52b344715427) -> SUCCESS\n",
      "2021-12-14 11:36:00,599 [INFO] Finished action: PythonNaryBatchActionV2_example_4 (UID: e6a9806c-41ed-48e7-81a5-b7502dddd5b4) -> SUCCESS\n",
      "2021-12-14 11:36:00,600 [INFO] Successful actions: 5.\n",
      "2021-12-14 11:36:00,601 [INFO] Skipped actions: 0.\n",
      "2021-12-14 11:36:00,601 [INFO] Failed actions: 0.\n",
      "2021-12-14 11:36:00,602 [INFO] Session finished. Feed me more...\n"
     ]
    }
   ],
   "source": [
    "###############################################################################\n",
    "#Example 4: select MR images and masks and call them block wise per case\n",
    "###############################################################################\n",
    "with session:\n",
    "    PythonNaryBatchActionV2(primaryInputSelector=mr_image_selector,\n",
    "                        primaryAlias='mr_images',\n",
    "                        additionalInputSelectors ={'additional': mask_selector},\n",
    "                        linker={'additional': CaseLinker(allowOnlyFullLinkage=False)+TimePointLinker(allowOnlyFullLinkage=False)},\n",
    "                        splitter={'mr_images': CaseSplitter(), 'additional': CaseSplitter()},\n",
    "                        actionTag=\"example_4\", \n",
    "                        generateCallable=my_function, \n",
    "                        passOnlyURLs=True).do().tagSelector"
   ]
  },
  {
   "cell_type": "code",
   "execution_count": null,
   "id": "5c7cc26d-12e9-454e-853f-fa6be0695f17",
   "metadata": {},
   "outputs": [],
   "source": []
  },
  {
   "cell_type": "code",
   "execution_count": null,
   "id": "4abc0fd9-7a02-46ed-ba1c-8e95c27f6a44",
   "metadata": {},
   "outputs": [],
   "source": []
  },
  {
   "cell_type": "code",
   "execution_count": null,
   "id": "838f33cc",
   "metadata": {
    "collapsed": false,
    "jupyter": {
     "outputs_hidden": false
    },
    "pycharm": {
     "name": "#%%\n"
    }
   },
   "outputs": [],
   "source": []
  }
 ],
 "metadata": {
  "kernelspec": {
   "display_name": "Python 3",
   "language": "python",
   "name": "python3"
  },
  "language_info": {
   "codemirror_mode": {
    "name": "ipython",
    "version": 3
   },
   "file_extension": ".py",
   "mimetype": "text/x-python",
   "name": "python",
   "nbconvert_exporter": "python",
   "pygments_lexer": "ipython3",
   "version": "3.8.6"
  }
 },
 "nbformat": 4,
 "nbformat_minor": 5
}
