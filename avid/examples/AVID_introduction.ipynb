{
 "cells": [
  {
   "cell_type": "markdown",
   "id": "a2059845-f4f9-49c4-84fb-b720d530b504",
   "metadata": {},
   "source": [
    "# AVID (Analysis of Variation in Interfractional Dose) in a nutshell:\n",
    "\n",
    "### Purpose\n",
    "\n",
    "AVID is a **data processing tool for automated image analysis** which for example allows for \n",
    "- batch-processing of a large bunch of data\n",
    "- repeatedly running a workflow to update results (e.g. when new datasets arrive)\n",
    "- running a processing pipeline with as little manual user interaction as possible in order to avoid tedious, error prone manual analysis workflows\n",
    "- parallel analyses of many different alternatives: \"multiverse\"-support\n",
    "\n",
    "### Advantages\n",
    "\n",
    "- **simple**: AVID is a light-weight application in the sense of compact and flexible workflows.\n",
    "- **portable**: The AVID workflows are operating system independent and can be easily deployed as Python script or as executable.\n",
    "- **data-driven & scalable**: The data-driven approach enables AVID to automatically scale to the data from single cases to cohorts.\n",
    "- **extendable**: New tools can be easily added.\n",
    "\n",
    "### Technical note\n",
    "\n",
    "AVID is written in Python.\n",
    "\n"
   ]
  },
  {
   "cell_type": "markdown",
   "id": "708cfe9f-874c-43cc-a60e-5163ff94edaa",
   "metadata": {},
   "source": [
    "# Basic concepts\n",
    "\n",
    "AVID is a tool that facilitates the composition of workflows for data analysis. A variety of processing steps can be combined to obtain the overall workflow.\n",
    "\n",
    "The concrete flow of the data through the workflow and how the data is combined as input for the execution of individual processing steps is primarily determined by the properties of the data itself, rather than being defined by a fixed set of algorithms. \n",
    "This makes AVID automatically scalable to a variety of processing scenarios. It doesn't matter if a single case or a cohort is being processed, or if the image modalities, or the number of sequences or timepoints vary. This makes AVID very flexible in regard to the varying demands of medical image processing.      \n",
    "<br>\n",
    "This is realized by the following design:\n",
    "\n",
    "\n",
    "<img src=\"AVIDDesign.PNG\" width=\"681\" height=\"342\" />\n",
    "\n",
    "\n",
    "\n",
    "### Data \n",
    "This is the dataset which is being processed in the workflow. It contains the \"raw\" input data to the workflow and the output data of each processing step. The data can be located for example in a data folder or a database such as a PACS system. Each data item within the dataset has a URL pointing to where it is located.\n",
    "\n",
    "### Session \n",
    "The session is the central data repository of AVID. It contains all the relevant metadata about the *data* and the processing pipeline in the form of *artefacts*. The session can be read from and written to by the *actions*. The user can directly feed information about the initial input data to the session in the form of an xml file. It is also possible to gain insights into the current session by writing out the artefacts as items of an xml-file.\n",
    "\n",
    "### Artefacts \n",
    "In AVID data is handled in the form of artefacts. Each artefact is stored as an item of the session and refers to a specific data entry, e.g. a data folder. It contains relavant metadata referred to as *properties* such as the patient case, time point, data format as well as the URL to where the data entry is located.<br>\n",
    "The artefacts of a session can be written out in an xml-file. An exemplary artefact looks like this:<br>\n",
    "```xml\n",
    "<avid:artefact>\n",
    "    <avid:property key=\"case\">pat1</avid:property>\n",
    "    <avid:property key=\"timePoint\">TP1</avid:property>\n",
    "    <avid:property key=\"actionTag\">CT</avid:property>\n",
    "    <avid:property key=\"type\">result</avid:property>\n",
    "    <avid:property key=\"format\">itk</avid:property>\n",
    "    <avid:property key=\"url\">../data/img/pat1_TP1_CT.txt</avid:property>\n",
    "    <avid:property key=\"objective\">CT</avid:property>\n",
    "    <avid:property key=\"invalid\">False</avid:property>\n",
    "    <avid:property key=\"id\">bbe232b8-5740-11ec-85a6-e9d058c65a83</avid:property>\n",
    "    <avid:property key=\"timestamp\">1638869608.3330662</avid:property>\n",
    "</avid:artefact>\n",
    "```\n",
    "\n",
    "### Actions\n",
    "Actions make things happen in AVID. Each action corresponds to a specific independent step of the data processing pipeline. <br>\n",
    "Various actions are available in AVID in the form of Python sripts and command line interface (CLI) applications. A variety of CLI application is provided in the form of the so-called *Mini-Apps*. Mini-Apps are CLI applications (implemented in C++) imported from MITK. \n",
    "Actions can do all sorts of things, including fitting, registration, resampling. The available actions implemented as Python scripts are located in the folder `AVID\\avid\\actions`. AVID can be straightforwardly extended to new actions if a required action is not available.<br>\n",
    "Once an action has been called, the backboard will be updated and in case new data have been generated by the action, new artefacts will be added. In this context, the artefact property *actionTag* exists which describes the action that has created a data entry. If *action_1* has created new processed data, the default actionTag of the corresponding artefact will look like this:\n",
    "```xml\n",
    "<avid:property key=\"actionTag\">action_1</avid:property>\n",
    "```\n",
    "\n",
    "\n",
    "### Workflow script\n",
    "The workflow script is a Python script which orchestrates the interaction between the session and the actions. It determines which actions to activate and in which order activate them. The workflow script can be triggered by the data, e.g. it can be called when new data arrive in a database. All currently available workflow scripts can be found in the folder `AVIDWorkflows`. AVID can be easily extended to new workflow scripts.\n",
    "\n",
    "### Selector \n",
    "Data are not explicitly handed to actions. Instead, *selectors* and *linkers* used. They allow us to specify which artefacts should be used as input to an action. This way, instead of using all currently available artefacts from the session we can choose only a selection. A selector selects artefacts based on properties. For example, we can tell the selector of `action_2` to perform the action only on artefacts with the property `ActionTag`=`action_1`. Then action_2 is performed only on artefacts which have been generated by action_1. All available selectors are located in the folder `AVID\\avid\\selectors`. \n",
    "\n",
    "### Linker\n",
    "Actions can also be given more than a single input, meaning they don't have to work on individual artefacts, but can also work on pairs of artefacts (or even more). For example we could wish to perform a registration of MR and CT images, which takes both images as input. We can use a selector to select the desired images, but there is a problem. How do we clarify which artefacts belong together in a pair? Theoretically, each MR image could be paired with each CT image, across patients and time points. To get exactly what we want, we use *linkers*. All available linkers are located in the folder `AVID\\avid\\linkers`. \n",
    "\n",
    "### Splitter\n",
    "*Splitters* can be used to split an artefact list by certain criteria and return the splitted artefact lists. For example an artefact list can be split by a *splitter* in such a way that all artefacts of same case are in one split. \n",
    "\n",
    "### Sorter\n",
    "*Sorters* can be used to sort an artefact list by certain criteria and pass back the sorted list. For example an artefact list can be sorted using a *sorter* such that the artefacts in the list are sorted by the time point property of the artefacts.\n",
    "\n",
    "\n",
    "### Datacrawler\n",
    "To start the data-driven workflow, there needs to be an initial *bootstrap session* which contains artefacts of the input data to the processing pipeline. This is generated by a Python script typically called ```datacrawler.py```. The datacrawler generates an xml-file which can be read in by the session during the initialization of a workflow. Typically a datacrawler script can be found along with a workflow script. Usually, the datacrawler assumes a certain pre-defined naming convention of the data folders in order to set the properties.\n",
    "Remark: Using the datacrawler is a design choice here. The bootstrap artefacts could also be provided to the session in a different way.\n"
   ]
  },
  {
   "cell_type": "markdown",
   "id": "319cc332-a042-4938-8e64-79ef4f32c29f",
   "metadata": {
    "tags": []
   },
   "source": [
    "# Basic example:\n",
    "\n",
    "In this easy example we will go over the above described basic concepts with a concrete example.<br>\n",
    "<br>\n",
    "Assume the following example data set found at ```examples\\data```. For the purpose of this exercise each of these files consist of an empty text file. But the same concepts apply to actual patient data.\n",
    "\n",
    "The folder ```img``` contains the data:\n",
    " - Patient1\n",
    "   - pat1_TP1_MR\n",
    "   - pat1_TP2_MR\n",
    "   - pat1_TP1_CT\n",
    " - Patient2\n",
    "   - pat2_TP1_MR1\n",
    "   - pat2_TP1_MR2\n",
    "   - pat2_TP2_MR1\n",
    "   - pat2_TP1_CT\n",
    "   - pat2_TP2_CT\n",
    " - Patient3\n",
    "   - pat3_TP1_MR\n",
    "   \n",
    "with the following segmentations located the ```mask``` folder:\n",
    " - Patient1\n",
    "   - pat1_TP1_Seg1\n",
    "   - pat1_TP1_Seg2\n",
    "   - pat1_TP2_Seg1\n",
    " - Patient2\n",
    "   - pat2_TP1_Seg1\n",
    "   - pat2_TP2_Seg1\n",
    " - Patient3\n",
    "   - pat3_TP1_Seg1\n",
    " \n",
    "The naming convention `[case]_[timepoint]_[actiontag]` encodes properties that are used in this example.\n",
    "\n",
    "We will assume the bootstrap artefacts for our input data set to have already been generated. You can find them in a .xml-like format under ```examples/output/example.avid```.<br> \n",
    "If you are interested how that was done, take a look at the ```datacrawler.py```.\n",
    "Comment: Maybe better to do this yourself?"
   ]
  },
  {
   "cell_type": "markdown",
   "id": "c2ee8d5a-67b1-4a04-abc4-91a8e5fd1d7b",
   "metadata": {},
   "source": [
    "Ok, now that we have the bootstrap artefacts, we are ready to run our workflow step-by-step.\n",
    "First, we import all the libraries we need. Specifically, we import the actions, selectors and linkers we need for this example. <br>\n",
    "We also initialize the workflow, which e.g. loads the bootstrap artefact xml-file, defines the workflow name and sets the output path for the resulting output data."
   ]
  },
  {
   "cell_type": "code",
   "execution_count": 3,
   "id": "779b0029-1754-41dc-a90c-afeb59ab427c",
   "metadata": {
    "tags": []
   },
   "outputs": [],
   "source": [
    "###############################################################################\n",
    "# Imports\n",
    "###############################################################################\n",
    "import os\n",
    "import avid.common.workflow as workflow\n",
    "\n",
    "from avid.actions.pythonAction import PythonUnaryBatchAction, PythonBinaryBatchAction\n",
    "from avid.selectors import ActionTagSelector, CaseSelector\n",
    "from avid.linkers import CaseLinker, TimePointLinker, FractionLinker"
   ]
  },
  {
   "cell_type": "code",
   "execution_count": 4,
   "id": "7a8ef3b4-53cd-47ab-a1ee-2c4a4c803c2f",
   "metadata": {},
   "outputs": [],
   "source": [
    "###############################################################################\n",
    "# Initialize session with existing Artefacts\n",
    "###############################################################################\n",
    "session =  workflow.initSession(bootstrapArtefacts=os.path.join(os.getcwd(),'output', 'example.avid'),\n",
    "                                sessionPath=os.path.join(os.getcwd(),'output', 'example'),\n",
    "                                name = \"example_session\",\n",
    "                                expandPaths=True,\n",
    "                                debug=True,\n",
    "                                autoSave = True)"
   ]
  },
  {
   "cell_type": "markdown",
   "id": "3f320a92-5ee2-4ef6-9522-ae61828b0d30",
   "metadata": {},
   "source": [
    "Now we want to do something with the initial artefacts. Remeber from the basic concepts: What makes things happen in AVID are *actions*.<br>  \n",
    "As a start, we will define a simple action that calls a specified Python-function `my_function` for each input-artefact and writes into a text file \"Result for file (name of file)\".<br> \n",
    "Instead of using all artefacts of the bootstrap xml file we select only a selection of artefacts using the *Selector*. For example, let's call the function `my_function` for each data entry of patient 1 based on the `case` property."
   ]
  },
  {
   "cell_type": "code",
   "execution_count": 5,
   "id": "c20c3057-af50-442f-9a1a-98c7285c4535",
   "metadata": {},
   "outputs": [],
   "source": [
    "def my_function(outputs, inputs, **kwargs):\n",
    "    \"\"\"\n",
    "        Simple callable that outputs a sentence including the filename of the input\n",
    "    \"\"\"\n",
    "    inputName = os.path.basename(inputs[0])\n",
    "    \n",
    "    with open(outputs[0], \"w\") as ofile:\n",
    "        ofile.write(f\"Result for file '{inputName}'\")"
   ]
  },
  {
   "cell_type": "code",
   "execution_count": 6,
   "id": "ea113484-2b50-4026-9772-79804cb9d288",
   "metadata": {},
   "outputs": [
    {
     "name": "stdout",
     "output_type": "stream",
     "text": [
      "2023-10-05 10:37:36,006 [INFO] Starting action: PythonUnaryBatchAction_basic_example1 (UID: 5af958a3-1439-4586-b45f-556d91e57c21) ...\n",
      "2023-10-05 10:37:36,008 [INFO] Starting action: my_function (UID: 73a9c564-7083-4a68-bb47-6c5e4e6e640a) ...\n",
      "2023-10-05 10:37:36,010 [INFO] Finished action: my_function (UID: 73a9c564-7083-4a68-bb47-6c5e4e6e640a) -> SUCCESS\n",
      "2023-10-05 10:37:36,011 [INFO] Starting action: my_function (UID: 40d0fdc3-6595-4a92-ab91-73cfb60ed7a1) ...\n",
      "2023-10-05 10:37:36,014 [INFO] Finished action: my_function (UID: 40d0fdc3-6595-4a92-ab91-73cfb60ed7a1) -> SUCCESS\n",
      "2023-10-05 10:37:36,015 [INFO] Starting action: my_function (UID: 72fdb7fb-ef70-4330-b24f-f1fc416b4365) ...\n",
      "2023-10-05 10:37:36,018 [INFO] Finished action: my_function (UID: 72fdb7fb-ef70-4330-b24f-f1fc416b4365) -> SUCCESS\n",
      "2023-10-05 10:37:36,019 [INFO] Starting action: my_function (UID: a8e00334-5871-47c2-9b4a-97f49b480efd) ...\n",
      "2023-10-05 10:37:36,022 [INFO] Finished action: my_function (UID: a8e00334-5871-47c2-9b4a-97f49b480efd) -> SUCCESS\n",
      "2023-10-05 10:37:36,024 [INFO] Starting action: my_function (UID: 6ca60330-28c6-44cf-9cad-ef672985bebf) ...\n",
      "2023-10-05 10:37:36,029 [INFO] Finished action: my_function (UID: 6ca60330-28c6-44cf-9cad-ef672985bebf) -> SUCCESS\n",
      "2023-10-05 10:37:36,029 [INFO] Starting action: my_function (UID: 4b20f1ff-0a61-46ad-a71a-a4852864b7b1) ...\n",
      "2023-10-05 10:37:36,033 [INFO] Finished action: my_function (UID: 4b20f1ff-0a61-46ad-a71a-a4852864b7b1) -> SUCCESS\n",
      "2023-10-05 10:37:36,033 [INFO] Starting action: my_function (UID: 6e0df0db-6999-4d6e-84ba-433351aa57da) ...\n",
      "2023-10-05 10:37:36,036 [INFO] Finished action: my_function (UID: 6e0df0db-6999-4d6e-84ba-433351aa57da) -> SUCCESS\n",
      "2023-10-05 10:37:36,037 [INFO] Starting action: my_function (UID: 5197ca23-c53c-435b-aec2-ada9320cf545) ...\n",
      "2023-10-05 10:37:36,042 [INFO] Finished action: my_function (UID: 5197ca23-c53c-435b-aec2-ada9320cf545) -> SUCCESS\n",
      "2023-10-05 10:37:36,042 [INFO] Starting action: my_function (UID: d501a4cb-d5fd-41f1-ae7f-0a1b5b26e6c3) ...\n",
      "2023-10-05 10:37:36,045 [INFO] Finished action: my_function (UID: d501a4cb-d5fd-41f1-ae7f-0a1b5b26e6c3) -> SUCCESS\n",
      "2023-10-05 10:37:36,046 [INFO] Starting action: my_function (UID: 48a49696-0989-4f91-9efc-587b1b9cb2b6) ...\n",
      "2023-10-05 10:37:36,050 [INFO] Finished action: my_function (UID: 48a49696-0989-4f91-9efc-587b1b9cb2b6) -> SUCCESS\n",
      "2023-10-05 10:37:36,050 [INFO] Starting action: my_function (UID: e0286f8b-5e83-48db-ad69-c7b20f256333) ...\n",
      "2023-10-05 10:37:36,055 [INFO] Finished action: my_function (UID: e0286f8b-5e83-48db-ad69-c7b20f256333) -> SUCCESS\n",
      "2023-10-05 10:37:36,056 [INFO] Starting action: my_function (UID: 56ad8999-e506-42d1-a209-3b94dbebf71e) ...\n",
      "2023-10-05 10:37:36,059 [INFO] Finished action: my_function (UID: 56ad8999-e506-42d1-a209-3b94dbebf71e) -> SUCCESS\n",
      "2023-10-05 10:37:36,060 [INFO] Starting action: my_function (UID: 68d24cc2-65ce-4d3e-a0a0-db59360dfe6b) ...\n",
      "2023-10-05 10:37:36,063 [INFO] Finished action: my_function (UID: 68d24cc2-65ce-4d3e-a0a0-db59360dfe6b) -> SUCCESS\n",
      "2023-10-05 10:37:36,064 [INFO] Starting action: my_function (UID: 5ea600cd-3959-485f-949a-f3e22a47af0c) ...\n",
      "2023-10-05 10:37:36,067 [INFO] Finished action: my_function (UID: 5ea600cd-3959-485f-949a-f3e22a47af0c) -> SUCCESS\n",
      "2023-10-05 10:37:36,069 [INFO] Starting action: my_function (UID: ef33cf74-3fc3-48ae-95ae-3d855708eff9) ...\n",
      "2023-10-05 10:37:36,073 [INFO] Finished action: my_function (UID: ef33cf74-3fc3-48ae-95ae-3d855708eff9) -> SUCCESS\n",
      "2023-10-05 10:37:36,074 [INFO] Starting action: my_function (UID: 3c840c35-35c3-461d-89ac-d311587eff9b) ...\n",
      "2023-10-05 10:37:36,077 [INFO] Finished action: my_function (UID: 3c840c35-35c3-461d-89ac-d311587eff9b) -> SUCCESS\n",
      "2023-10-05 10:37:36,078 [INFO] Starting action: my_function (UID: eb9fca42-3a0c-4d81-a688-b145a6f548ed) ...\n",
      "2023-10-05 10:37:36,081 [INFO] Finished action: my_function (UID: eb9fca42-3a0c-4d81-a688-b145a6f548ed) -> SUCCESS\n",
      "2023-10-05 10:37:36,081 [INFO] Starting action: my_function (UID: 433cdf16-688a-4a62-97a6-a212d8d04f2f) ...\n",
      "2023-10-05 10:37:36,084 [INFO] Finished action: my_function (UID: 433cdf16-688a-4a62-97a6-a212d8d04f2f) -> SUCCESS\n",
      "2023-10-05 10:37:36,085 [INFO] Starting action: my_function (UID: 1112fc32-523b-49ba-8961-35adae1dac41) ...\n",
      "2023-10-05 10:37:36,089 [INFO] Finished action: my_function (UID: 1112fc32-523b-49ba-8961-35adae1dac41) -> SUCCESS\n",
      "2023-10-05 10:37:36,090 [INFO] Starting action: my_function (UID: 90216491-cfb7-43bd-aee2-f5684f17010c) ...\n",
      "2023-10-05 10:37:36,093 [INFO] Finished action: my_function (UID: 90216491-cfb7-43bd-aee2-f5684f17010c) -> SUCCESS\n",
      "2023-10-05 10:37:36,094 [INFO] Starting action: my_function (UID: 9c678395-36d7-4d40-9325-53002598d579) ...\n",
      "2023-10-05 10:37:36,096 [INFO] Finished action: my_function (UID: 9c678395-36d7-4d40-9325-53002598d579) -> SUCCESS\n",
      "2023-10-05 10:37:36,098 [INFO] Finished action: PythonUnaryBatchAction_basic_example1 (UID: 5af958a3-1439-4586-b45f-556d91e57c21) -> SUCCESS\n",
      "2023-10-05 10:37:36,111 [INFO] Successful actions: 1.\n",
      "2023-10-05 10:37:36,112 [INFO] Skipped actions: 0.\n",
      "2023-10-05 10:37:36,113 [INFO] Failed actions: 0.\n",
      "2023-10-05 10:37:36,113 [INFO] Session finished. Feed me more...\n"
     ]
    }
   ],
   "source": [
    "pat1_selector = CaseSelector('pat1')\n",
    "\n",
    "with session:\n",
    "    PythonUnaryBatchAction(\n",
    "        inputSelector=pat1_selector,\n",
    "        actionTag=\"basic_example1\",\n",
    "        generateCallable=my_function,\n",
    "        defaultoutputextension=\"txt\"\n",
    "    ).do()"
   ]
  },
  {
   "cell_type": "markdown",
   "id": "0913590e-16c6-4afb-82cb-9282c14c6fd4",
   "metadata": {},
   "source": [
    "The results can be found in ```examples/output/example_session/basic_example1/result```. Typically, a new folder will be created for the results of each action.  \n",
    "For each output-file there is now also an artefact we can use in further actions.  \n",
    "To easily chain actions together, the *Action Tag* is useful. In our previous action, every resulting artefact has its action tag set to *basic_example1*. If no name is specified, by default it will just be the name of the action (here: *PythonUnaryBatchAction*). For the initial artefacts it can make sense to set the action tag based on a certain role the data entry entails, such as *CT* or *MR* here.\n",
    "\n",
    "Let's use the output we produced in the previous step and use it in a different action."
   ]
  },
  {
   "cell_type": "code",
   "execution_count": 6,
   "id": "29c4793a-680f-4bbf-a3ce-246242db1a7b",
   "metadata": {},
   "outputs": [],
   "source": [
    "def extend_content(outputs, inputs):\n",
    "    \"\"\"\n",
    "        Simple callable that reads the content of an input file and writes a new file, including the previous content\n",
    "    \"\"\"\n",
    "    inputName = os.path.basename(inputs[0])\n",
    "    \n",
    "    with open(inputs[0], \"r\") as ifile:\n",
    "        content = ifile.read()\n",
    "    with open(outputs[0], \"w\") as ofile:\n",
    "        ofile.write(f\"New content based on '{inputName}'\\nOriginal content: '{content}'\")"
   ]
  },
  {
   "cell_type": "code",
   "execution_count": 7,
   "id": "5b80c0a0-1cd0-4995-a3b5-e1a1b4836e68",
   "metadata": {},
   "outputs": [
    {
     "name": "stdout",
     "output_type": "stream",
     "text": [
      "2023-09-29 10:01:10,405 [INFO] Starting action: PythonUnaryBatchAction_basic_example2 (UID: 0393a45b-8801-44ae-a2c9-6665aea27bff) ...\n",
      "2023-09-29 10:01:10,406 [INFO] Starting action: extend_content (UID: ff2a1554-d8b0-49d1-b835-9c74b8f6b3ef) ...\n",
      "2023-09-29 10:01:10,410 [INFO] Finished action: extend_content (UID: ff2a1554-d8b0-49d1-b835-9c74b8f6b3ef) -> SUCCESS\n",
      "2023-09-29 10:01:10,411 [INFO] Starting action: extend_content (UID: f179c65d-5eda-4b27-8e11-89ee86def2ef) ...\n",
      "2023-09-29 10:01:10,414 [INFO] Finished action: extend_content (UID: f179c65d-5eda-4b27-8e11-89ee86def2ef) -> SUCCESS\n",
      "2023-09-29 10:01:10,414 [INFO] Starting action: extend_content (UID: a4c4b4a5-a524-4e17-af01-84bd0f79bda2) ...\n",
      "2023-09-29 10:01:10,418 [INFO] Finished action: extend_content (UID: a4c4b4a5-a524-4e17-af01-84bd0f79bda2) -> SUCCESS\n",
      "2023-09-29 10:01:10,419 [INFO] Starting action: extend_content (UID: 963d0443-3515-4bdc-b452-5fe156bd6f3f) ...\n",
      "2023-09-29 10:01:10,422 [INFO] Finished action: extend_content (UID: 963d0443-3515-4bdc-b452-5fe156bd6f3f) -> SUCCESS\n",
      "2023-09-29 10:01:10,423 [INFO] Starting action: extend_content (UID: c938264e-1414-4aed-a738-877558c3714e) ...\n",
      "2023-09-29 10:01:10,425 [INFO] Finished action: extend_content (UID: c938264e-1414-4aed-a738-877558c3714e) -> SUCCESS\n",
      "2023-09-29 10:01:10,426 [INFO] Starting action: extend_content (UID: a492befa-72bd-4c03-84a2-90a866c233de) ...\n",
      "2023-09-29 10:01:10,428 [INFO] Finished action: extend_content (UID: a492befa-72bd-4c03-84a2-90a866c233de) -> SUCCESS\n",
      "2023-09-29 10:01:10,429 [INFO] Finished action: PythonUnaryBatchAction_basic_example2 (UID: 0393a45b-8801-44ae-a2c9-6665aea27bff) -> SUCCESS\n",
      "2023-09-29 10:01:10,438 [INFO] Successful actions: 2.\n",
      "2023-09-29 10:01:10,439 [INFO] Skipped actions: 0.\n",
      "2023-09-29 10:01:10,440 [INFO] Failed actions: 0.\n",
      "2023-09-29 10:01:10,441 [INFO] Session finished. Feed me more...\n"
     ]
    }
   ],
   "source": [
    "example1_selector = ActionTagSelector('basic_example1')\n",
    "\n",
    "with session:\n",
    "    PythonUnaryBatchAction(inputSelector=example1_selector, \n",
    "                        actionTag=\"basic_example2\", \n",
    "                        generateCallable=extend_content,\n",
    "                        defaultoutputextension=\"txt\"\n",
    "                        ).do()"
   ]
  },
  {
   "cell_type": "markdown",
   "id": "299dc493-a7df-4ce3-9605-141593bda8d0",
   "metadata": {},
   "source": [
    "**comment: Das kommt alles schon oben in der Erklärung vor. Soll dieser Absatz dann einfach weg? Oder stark gekürzt werden?**\n",
    "Actions can also be given more than a single input, meaning they don't have to work on individual artefacts, but can also work on pairs of artefacts (or even more).  \n",
    "For example, we could wish to pair up MR images with CT images. We can use ActionTagSelectors to select the desired images, but there is a problem. How do we clarify which artefacts belong together in a pair? Theoretically, each MR image could be paired with each CT image, across patients and time points. To get exactly what we want, there are *Linkers*. In our case, the *CaseLinker* will ensure pairs will only be created between artefacts that share the same case."
   ]
  },
  {
   "cell_type": "code",
   "execution_count": 8,
   "id": "12a9e9f6-9618-4be9-a404-92542ba4e1f5",
   "metadata": {},
   "outputs": [],
   "source": [
    "def pair_two_images(inputs1, inputs2, outputs):\n",
    "    \"\"\"\n",
    "        Simple callable that outputs the names of the two inputs\n",
    "    \"\"\"\n",
    "    text = f\"Matched up two images.  Input 1: {os.path.basename(inputs1[0])}  Input 2: {os.path.basename(inputs2[0])}\"\n",
    "    \n",
    "    with open(outputs[0], \"w\") as ofile:\n",
    "        ofile.write(text)"
   ]
  },
  {
   "cell_type": "code",
   "execution_count": 9,
   "id": "4508f6e0-58de-450e-9c5b-d40218582b9a",
   "metadata": {},
   "outputs": [
    {
     "name": "stdout",
     "output_type": "stream",
     "text": [
      "2023-09-29 10:01:58,598 [INFO] Starting action: PythonBinaryBatchAction_basic_example3 (UID: 4d72bb73-6005-499d-b364-cfb79a38d5e1) ...\n",
      "2023-09-29 10:01:58,600 [INFO] Starting action: pair_two_images (UID: 0e4f7978-c48a-4bf7-a7c5-716789a7e8e1) ...\n",
      "2023-09-29 10:01:58,605 [INFO] Finished action: pair_two_images (UID: 0e4f7978-c48a-4bf7-a7c5-716789a7e8e1) -> SUCCESS\n",
      "2023-09-29 10:01:58,606 [INFO] Starting action: pair_two_images (UID: 6a5de30a-3794-4128-8e92-9b900145c1a2) ...\n",
      "2023-09-29 10:01:58,609 [INFO] Finished action: pair_two_images (UID: 6a5de30a-3794-4128-8e92-9b900145c1a2) -> SUCCESS\n",
      "2023-09-29 10:01:58,610 [INFO] Starting action: pair_two_images (UID: b8cd7fea-0a0f-460e-9c0a-71810c5d3bcc) ...\n",
      "2023-09-29 10:01:58,612 [INFO] Finished action: pair_two_images (UID: b8cd7fea-0a0f-460e-9c0a-71810c5d3bcc) -> SUCCESS\n",
      "2023-09-29 10:01:58,612 [INFO] Starting action: pair_two_images (UID: f5103194-03e9-46ef-b63a-abc25e1cf398) ...\n",
      "2023-09-29 10:01:58,616 [INFO] Finished action: pair_two_images (UID: f5103194-03e9-46ef-b63a-abc25e1cf398) -> SUCCESS\n",
      "2023-09-29 10:01:58,617 [INFO] Starting action: pair_two_images (UID: 554a244c-6ab5-4602-86c8-11aaf262bbe0) ...\n",
      "2023-09-29 10:01:58,620 [INFO] Finished action: pair_two_images (UID: 554a244c-6ab5-4602-86c8-11aaf262bbe0) -> SUCCESS\n",
      "2023-09-29 10:01:58,621 [INFO] Starting action: pair_two_images (UID: 2e4ff210-db1c-44c9-9c1e-14fe28ef6b6c) ...\n",
      "2023-09-29 10:01:58,624 [INFO] Finished action: pair_two_images (UID: 2e4ff210-db1c-44c9-9c1e-14fe28ef6b6c) -> SUCCESS\n",
      "2023-09-29 10:01:58,625 [INFO] Starting action: pair_two_images (UID: 58e92550-5c27-4d7f-b259-477da4e933b7) ...\n",
      "2023-09-29 10:01:58,627 [INFO] Finished action: pair_two_images (UID: 58e92550-5c27-4d7f-b259-477da4e933b7) -> SUCCESS\n",
      "2023-09-29 10:01:58,628 [INFO] Starting action: pair_two_images (UID: 2c73d01c-ddd6-4219-a700-21ff0a45377d) ...\n",
      "2023-09-29 10:01:58,630 [INFO] Finished action: pair_two_images (UID: 2c73d01c-ddd6-4219-a700-21ff0a45377d) -> SUCCESS\n",
      "2023-09-29 10:01:58,631 [INFO] Finished action: PythonBinaryBatchAction_basic_example3 (UID: 4d72bb73-6005-499d-b364-cfb79a38d5e1) -> SUCCESS\n",
      "2023-09-29 10:01:58,638 [INFO] Successful actions: 3.\n",
      "2023-09-29 10:01:58,639 [INFO] Skipped actions: 0.\n",
      "2023-09-29 10:01:58,640 [INFO] Failed actions: 0.\n",
      "2023-09-29 10:01:58,640 [INFO] Session finished. Feed me more...\n"
     ]
    }
   ],
   "source": [
    "mr_selector = ActionTagSelector('MR')\n",
    "ct_selector = ActionTagSelector('CT')\n",
    "\n",
    "with session:\n",
    "    PythonBinaryBatchAction(\n",
    "        inputs1Selector=mr_selector,\n",
    "        inputs2Selector=ct_selector,\n",
    "        inputLinker=CaseLinker(),\n",
    "        actionTag=\"basic_example3\",\n",
    "        generateCallable=pair_two_images,\n",
    "        defaultoutputextension=\"txt\"\n",
    "    ).do()"
   ]
  },
  {
   "cell_type": "markdown",
   "id": "36a0dbb2-3c39-4fd3-80f7-4efd1cb9fb80",
   "metadata": {},
   "source": [
    "Looking into the output folder of *basic_example3*, we can see the pairs that were matched up.  \n",
    "For pat1, there are two results: pat1_TP1_MR + pat1_TP1_CT and pat1_TP2_MR + pat1_TP1_CT . We can see, that the CT image for timepoint 1 is matched up twice, with the MR images of timepoint 1 and 2. Alternatively, if we wanted to only link pairs with the same case and timepoint, we can combine different linkers like so: `CaseLinker() + TimePointLinker()`"
   ]
  },
  {
   "cell_type": "code",
   "execution_count": 10,
   "id": "64906e8f-d0f6-4c7c-b778-09590ec2d45a",
   "metadata": {},
   "outputs": [
    {
     "name": "stdout",
     "output_type": "stream",
     "text": [
      "2023-09-29 10:03:05,113 [INFO] Starting action: PythonBinaryBatchAction_basic_example4 (UID: cdb152f5-108a-4eef-b3bc-f64c430aa269) ...\n",
      "2023-09-29 10:03:05,115 [INFO] Starting action: pair_two_images (UID: 6fb3d589-2241-41de-841b-2986abc1989c) ...\n",
      "2023-09-29 10:03:05,118 [INFO] Finished action: pair_two_images (UID: 6fb3d589-2241-41de-841b-2986abc1989c) -> SUCCESS\n",
      "2023-09-29 10:03:05,119 [INFO] Starting action: pair_two_images (UID: e892eb0b-b5a1-4b8b-b72d-65e7bebecfd1) ...\n",
      "2023-09-29 10:03:05,122 [INFO] Finished action: pair_two_images (UID: e892eb0b-b5a1-4b8b-b72d-65e7bebecfd1) -> SUCCESS\n",
      "2023-09-29 10:03:05,123 [INFO] Starting action: pair_two_images (UID: 912631b8-7de4-41a7-893e-9af4deb03b5e) ...\n",
      "2023-09-29 10:03:05,126 [INFO] Finished action: pair_two_images (UID: 912631b8-7de4-41a7-893e-9af4deb03b5e) -> SUCCESS\n",
      "2023-09-29 10:03:05,126 [INFO] Starting action: pair_two_images (UID: 8111cf49-e181-45a5-9759-611a2e1e2f57) ...\n",
      "2023-09-29 10:03:05,130 [INFO] Finished action: pair_two_images (UID: 8111cf49-e181-45a5-9759-611a2e1e2f57) -> SUCCESS\n",
      "2023-09-29 10:03:05,132 [INFO] Finished action: PythonBinaryBatchAction_basic_example4 (UID: cdb152f5-108a-4eef-b3bc-f64c430aa269) -> SUCCESS\n",
      "2023-09-29 10:03:05,139 [INFO] Successful actions: 4.\n",
      "2023-09-29 10:03:05,139 [INFO] Skipped actions: 0.\n",
      "2023-09-29 10:03:05,140 [INFO] Failed actions: 0.\n",
      "2023-09-29 10:03:05,141 [INFO] Session finished. Feed me more...\n"
     ]
    }
   ],
   "source": [
    "combined_linker = CaseLinker() + TimePointLinker()\n",
    "\n",
    "with session:\n",
    "    PythonBinaryBatchAction(\n",
    "        inputs1Selector=mr_selector,\n",
    "        inputs2Selector=ct_selector,\n",
    "        inputLinker=combined_linker,\n",
    "        actionTag=\"basic_example4\",\n",
    "        generateCallable=pair_two_images,\n",
    "        defaultoutputextension=\"txt\"\n",
    "    ).do()"
   ]
  }
 ],
 "metadata": {
  "kernelspec": {
   "display_name": "Python 3 (ipykernel)",
   "language": "python",
   "name": "python3"
  },
  "language_info": {
   "codemirror_mode": {
    "name": "ipython",
    "version": 3
   },
   "file_extension": ".py",
   "mimetype": "text/x-python",
   "name": "python",
   "nbconvert_exporter": "python",
   "pygments_lexer": "ipython3",
   "version": "3.11.4"
  }
 },
 "nbformat": 4,
 "nbformat_minor": 5
}
