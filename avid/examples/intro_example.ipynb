{
 "cells": [
  {
   "cell_type": "markdown",
   "id": "f022028f-13d2-4cf1-bcc5-4713824673da",
   "metadata": {},
   "source": [
    "# Introduction to using AVID with a basic example:\n",
    "\n",
    "This example will go over some of the basic concepts to get started with AVID.\n",
    "\n",
    "Assume the following example data set:\n",
    " - Patient1\n",
    "   - pat1_TP1_MR\n",
    "   - pat1_TP2_MR\n",
    "   - pat1_TP1_CT\n",
    " - Patient2\n",
    "   - pat2_TP1_MR1\n",
    "   - pat2_TP1_MR2\n",
    "   - pat2_TP2_MR1\n",
    "   - pat2_TP1_CT\n",
    "   - pat2_TP2_CT\n",
    " - Patient3\n",
    "   - pat3_TP1_MR\n",
    "\n",
    "The naming convention `[case]_[timepoint]_[actiontag]` encodes properties that are used in this example."
   ]
  },
  {
   "cell_type": "markdown",
   "id": "39f3f167-fd52-434a-8b74-9f554f5db484",
   "metadata": {},
   "source": [
    "In AVID, data is usually handled in the form of *Artefacts*. An *Artefact* refers to a specific data entry. It contains relevant metadata such as the patient case, time point, image format, as well as the url to where the corresponding file for this entry is located.<br>\n",
    "We will assume the artefacts for our data set to have already been generated. You can find them in a .xml-like format under ```examples/output/example.avid```. If you are interested how that was done, take a look at the ```datacrawler.py```.<br>\n",
    "An exemplary entry looks like this:<br>\n",
    "```xml\n",
    "<avid:artefact>\n",
    "    <avid:property key=\"case\">pat1</avid:property>\n",
    "    <avid:property key=\"timePoint\">TP1</avid:property>\n",
    "    <avid:property key=\"actionTag\">CT</avid:property>\n",
    "    <avid:property key=\"type\">result</avid:property>\n",
    "    <avid:property key=\"format\">itk</avid:property>\n",
    "    <avid:property key=\"url\">../data/img/pat1_TP1_CT.txt</avid:property>\n",
    "    <avid:property key=\"objective\">CT</avid:property>\n",
    "    <avid:property key=\"invalid\">False</avid:property>\n",
    "    <avid:property key=\"id\">bbe232b8-5740-11ec-85a6-e9d058c65a83</avid:property>\n",
    "    <avid:property key=\"timestamp\">1638869608.3330662</avid:property>\n",
    "</avid:artefact>\n",
    "```"
   ]
  },
  {
   "cell_type": "code",
   "execution_count": 1,
   "id": "779b0029-1754-41dc-a90c-afeb59ab427c",
   "metadata": {},
   "outputs": [],
   "source": [
    "###############################################################################\n",
    "# Imports\n",
    "###############################################################################\n",
    "import os\n",
    "import avid.common.workflow as workflow\n",
    "\n",
    "from avid.actions.pythonAction import PythonUnaryBatchAction, PythonBinaryBatchAction\n",
    "from avid.selectors import ActionTagSelector, CaseSelector\n",
    "from avid.linkers import CaseLinker, TimePointLinker, FractionLinker"
   ]
  },
  {
   "cell_type": "code",
   "execution_count": 2,
   "id": "7a8ef3b4-53cd-47ab-a1ee-2c4a4c803c2f",
   "metadata": {},
   "outputs": [],
   "source": [
    "###############################################################################\n",
    "# Initialize session with existing Artefacts\n",
    "###############################################################################\n",
    "session =  workflow.initSession(bootstrapArtefacts=os.path.join(os.getcwd(),'output', 'example.avid'),\n",
    "                                sessionPath=os.path.join(os.getcwd(),'output', 'example'),\n",
    "                                expandPaths=True,\n",
    "                                debug=True)"
   ]
  },
  {
   "cell_type": "markdown",
   "id": "3f320a92-5ee2-4ef6-9522-ae61828b0d30",
   "metadata": {},
   "source": [
    "Now that we have the initial artefacts ready, we want to do something with them. What makes things happen in AVID are so-called *Actions*.  \n",
    "Actions can do all sorts of things, including fitting, registration, resampling, ...  \n",
    "We will start with a simple action that calls a specified Python-function for each input-artefact. To specify which artefacts should be used as input to an action we use a *Selector*. For example, let's call the below function for each data entry of patient 1, based on the `case` property."
   ]
  },
  {
   "cell_type": "code",
   "execution_count": 3,
   "id": "c20c3057-af50-442f-9a1a-98c7285c4535",
   "metadata": {},
   "outputs": [],
   "source": [
    "def my_function(outputs, inputs, **kwargs):\n",
    "    \"\"\"\n",
    "        Simple callable that outputs a sentence including the filename of the input\n",
    "    \"\"\"\n",
    "    inputName = os.path.basename(inputs[0])\n",
    "    \n",
    "    with open(outputs[0], \"w\") as ofile:\n",
    "        ofile.write(f\"Result for file '{inputName}'\")"
   ]
  },
  {
   "cell_type": "code",
   "execution_count": 4,
   "id": "ea113484-2b50-4026-9772-79804cb9d288",
   "metadata": {},
   "outputs": [
    {
     "name": "stdout",
     "output_type": "stream",
     "text": [
      "2023-09-15 16:11:43,287 [INFO] Starting action: PythonUnaryBatchAction_basic_example1 (UID: 79b67504-9eea-4a2c-b08d-05a5626851fb) ...\n",
      "2023-09-15 16:11:43,291 [INFO] Starting action: my_function (UID: fe55fca8-ecd0-4bd2-a83b-bf71fe8a6bc3) ...\n",
      "2023-09-15 16:11:43,292 [INFO] Finished action: my_function (UID: fe55fca8-ecd0-4bd2-a83b-bf71fe8a6bc3) -> SUCCESS\n",
      "2023-09-15 16:11:43,292 [INFO] Starting action: my_function (UID: dff9431d-af70-4fe9-aa0b-2c6080ec686e) ...\n",
      "2023-09-15 16:11:43,292 [INFO] Finished action: my_function (UID: dff9431d-af70-4fe9-aa0b-2c6080ec686e) -> SUCCESS\n",
      "2023-09-15 16:11:43,292 [INFO] Starting action: my_function (UID: 370bc74a-62c1-437f-a389-4ea0369a672b) ...\n",
      "2023-09-15 16:11:43,292 [INFO] Finished action: my_function (UID: 370bc74a-62c1-437f-a389-4ea0369a672b) -> SUCCESS\n",
      "2023-09-15 16:11:43,292 [INFO] Starting action: my_function (UID: a1b0d37e-c4b9-4fa2-890e-54c71ee4bad3) ...\n",
      "2023-09-15 16:11:43,308 [INFO] Finished action: my_function (UID: a1b0d37e-c4b9-4fa2-890e-54c71ee4bad3) -> SUCCESS\n",
      "2023-09-15 16:11:43,308 [INFO] Starting action: my_function (UID: be26f1d8-fa8b-4625-92bd-81c742b8869d) ...\n",
      "2023-09-15 16:11:43,308 [INFO] Finished action: my_function (UID: be26f1d8-fa8b-4625-92bd-81c742b8869d) -> SUCCESS\n",
      "2023-09-15 16:11:43,308 [INFO] Starting action: my_function (UID: bbcfcd0a-02fb-413a-8e49-fc25164bb95b) ...\n",
      "2023-09-15 16:11:43,308 [INFO] Finished action: my_function (UID: bbcfcd0a-02fb-413a-8e49-fc25164bb95b) -> SUCCESS\n",
      "2023-09-15 16:11:43,308 [INFO] Finished action: PythonUnaryBatchAction_basic_example1 (UID: 79b67504-9eea-4a2c-b08d-05a5626851fb) -> SUCCESS\n",
      "2023-09-15 16:11:43,308 [INFO] Successful actions: 1.\n",
      "2023-09-15 16:11:43,308 [INFO] Skipped actions: 0.\n",
      "2023-09-15 16:11:43,308 [INFO] Failed actions: 0.\n",
      "2023-09-15 16:11:43,308 [INFO] Session finished. Feed me more...\n"
     ]
    }
   ],
   "source": [
    "pat1_selector = CaseSelector('pat1')\n",
    "\n",
    "with session:\n",
    "    PythonUnaryBatchAction(\n",
    "        inputSelector=pat1_selector,\n",
    "        actionTag=\"basic_example1\",\n",
    "        generateCallable=my_function,\n",
    "        defaultoutputextension=\"txt\"\n",
    "    ).do()"
   ]
  },
  {
   "cell_type": "markdown",
   "id": "0913590e-16c6-4afb-82cb-9282c14c6fd4",
   "metadata": {},
   "source": [
    "The results can be found in ```examples/output/example_session/basic_example1/result```. Typically, a new folder will be created for the results of each action.  \n",
    "For each output-file there is now also an artefact we can use in further actions.  \n",
    "To easily chain actions together, the *Action Tag* can often be useful. It is a property that is usually determined by the action an artefact was produced by. In our previous action, every resulting artefact has its action tag set to *basic_example1*. If no name is specified, by default it will just be the name of the action (here: *PythonUnaryBatchAction*). For the initial artefacts it can make sense to set the action tag based on a certain role the data entry entails, such as *CT* or *MR* here.\n",
    "\n",
    "Let's use the output we produced in the previous step and use it in a different action."
   ]
  },
  {
   "cell_type": "code",
   "execution_count": 5,
   "id": "29c4793a-680f-4bbf-a3ce-246242db1a7b",
   "metadata": {},
   "outputs": [],
   "source": [
    "def extend_content(outputs, inputs):\n",
    "    \"\"\"\n",
    "        Simple callable that reads the content of an input file and writes a new file, including the previous content\n",
    "    \"\"\"\n",
    "    inputName = os.path.basename(inputs[0])\n",
    "    \n",
    "    with open(inputs[0], \"r\") as ifile:\n",
    "        content = ifile.read()\n",
    "    with open(outputs[0], \"w\") as ofile:\n",
    "        ofile.write(f\"New content based on '{inputName}'\\nOriginal content: '{content}'\")"
   ]
  },
  {
   "cell_type": "code",
   "execution_count": 6,
   "id": "5b80c0a0-1cd0-4995-a3b5-e1a1b4836e68",
   "metadata": {},
   "outputs": [
    {
     "name": "stdout",
     "output_type": "stream",
     "text": [
      "2023-09-15 16:11:44,073 [INFO] Starting action: PythonUnaryBatchAction_basic_example2 (UID: 6e5ef0e5-c162-48b1-81fc-42a3670eda70) ...\n",
      "2023-09-15 16:11:44,088 [INFO] Starting action: extend_content (UID: a898d282-19cb-4978-89e4-717f7001e0e2) ...\n",
      "2023-09-15 16:11:44,092 [INFO] Finished action: extend_content (UID: a898d282-19cb-4978-89e4-717f7001e0e2) -> SUCCESS\n",
      "2023-09-15 16:11:44,092 [INFO] Starting action: extend_content (UID: c3099589-5b23-4c73-9833-90dc96ca9067) ...\n",
      "2023-09-15 16:11:44,092 [INFO] Finished action: extend_content (UID: c3099589-5b23-4c73-9833-90dc96ca9067) -> SUCCESS\n",
      "2023-09-15 16:11:44,092 [INFO] Starting action: extend_content (UID: 2d75f2ce-a477-4e33-ae57-13f78097c260) ...\n",
      "2023-09-15 16:11:44,092 [INFO] Finished action: extend_content (UID: 2d75f2ce-a477-4e33-ae57-13f78097c260) -> SUCCESS\n",
      "2023-09-15 16:11:44,092 [INFO] Starting action: extend_content (UID: 4829f474-abf6-45b9-9ccc-c5a118aba2b7) ...\n",
      "2023-09-15 16:11:44,092 [INFO] Finished action: extend_content (UID: 4829f474-abf6-45b9-9ccc-c5a118aba2b7) -> SUCCESS\n",
      "2023-09-15 16:11:44,092 [INFO] Starting action: extend_content (UID: 12e0543b-173b-418f-a0dc-52409d6e155a) ...\n",
      "2023-09-15 16:11:44,092 [INFO] Finished action: extend_content (UID: 12e0543b-173b-418f-a0dc-52409d6e155a) -> SUCCESS\n",
      "2023-09-15 16:11:44,108 [INFO] Starting action: extend_content (UID: 93244114-e1a9-424c-a40e-2a0b9095400d) ...\n",
      "2023-09-15 16:11:44,108 [INFO] Finished action: extend_content (UID: 93244114-e1a9-424c-a40e-2a0b9095400d) -> SUCCESS\n",
      "2023-09-15 16:11:44,108 [INFO] Finished action: PythonUnaryBatchAction_basic_example2 (UID: 6e5ef0e5-c162-48b1-81fc-42a3670eda70) -> SUCCESS\n",
      "2023-09-15 16:11:44,108 [INFO] Successful actions: 2.\n",
      "2023-09-15 16:11:44,108 [INFO] Skipped actions: 0.\n",
      "2023-09-15 16:11:44,108 [INFO] Failed actions: 0.\n",
      "2023-09-15 16:11:44,108 [INFO] Session finished. Feed me more...\n"
     ]
    }
   ],
   "source": [
    "example1_selector = ActionTagSelector('basic_example1')\n",
    "\n",
    "with session:\n",
    "    PythonUnaryBatchAction(inputSelector=example1_selector, \n",
    "                        actionTag=\"basic_example2\", \n",
    "                        generateCallable=extend_content,\n",
    "                        defaultoutputextension=\"txt\"\n",
    "                        ).do()"
   ]
  },
  {
   "cell_type": "markdown",
   "id": "299dc493-a7df-4ce3-9605-141593bda8d0",
   "metadata": {},
   "source": [
    "Actions can also be given more than a single input, meaning they don't have to work on individual artefacts, but can also work on pairs of artefacts (or even more).  \n",
    "For example, we could wish to pair up MR images with CT images. We can use ActionTagSelectors to select the desired images, but there is a problem. How do we clarify which artefacts belong together in a pair? Theoretically, each MR image could be paired with each CT image, across patients and time points. To get exactly what we want, there are *Linkers*. In our case, the *CaseLinker* will ensure pairs will only be created between artefacts that share the same case."
   ]
  },
  {
   "cell_type": "code",
   "execution_count": 7,
   "id": "12a9e9f6-9618-4be9-a404-92542ba4e1f5",
   "metadata": {},
   "outputs": [],
   "source": [
    "def pair_two_images(inputs1, inputs2, outputs):\n",
    "    \"\"\"\n",
    "        Simple callable that outputs the names of the two inputs\n",
    "    \"\"\"\n",
    "    text = f\"Matched up two images.  Input 1: {os.path.basename(inputs1[0])}  Input 2: {os.path.basename(inputs2[0])}\"\n",
    "    \n",
    "    with open(outputs[0], \"w\") as ofile:\n",
    "        ofile.write(text)"
   ]
  },
  {
   "cell_type": "code",
   "execution_count": 10,
   "id": "4508f6e0-58de-450e-9c5b-d40218582b9a",
   "metadata": {},
   "outputs": [
    {
     "name": "stdout",
     "output_type": "stream",
     "text": [
      "2023-09-15 16:44:23,217 [INFO] Starting action: PythonBinaryBatchAction_basic_example3 (UID: 289750fd-1e25-4315-ae20-04d6ba920456) ...\n",
      "2023-09-15 16:44:23,217 [INFO] Starting action: pair_two_images (UID: c5242584-ed3e-40b1-89ab-17661f72c826) ...\n",
      "2023-09-15 16:44:23,227 [INFO] Finished action: pair_two_images (UID: c5242584-ed3e-40b1-89ab-17661f72c826) -> SUCCESS\n",
      "2023-09-15 16:44:23,229 [INFO] Starting action: pair_two_images (UID: 5bbce3d6-1155-4e31-aacc-482d807f5294) ...\n",
      "2023-09-15 16:44:23,229 [INFO] Finished action: pair_two_images (UID: 5bbce3d6-1155-4e31-aacc-482d807f5294) -> SUCCESS\n",
      "2023-09-15 16:44:23,229 [INFO] Starting action: pair_two_images (UID: e1520c6d-490b-4933-83bf-9eff33990af3) ...\n",
      "2023-09-15 16:44:23,229 [INFO] Finished action: pair_two_images (UID: e1520c6d-490b-4933-83bf-9eff33990af3) -> SUCCESS\n",
      "2023-09-15 16:44:23,229 [INFO] Starting action: pair_two_images (UID: 55fce868-9df2-4c32-b5b7-985c60dd1492) ...\n",
      "2023-09-15 16:44:23,239 [INFO] Finished action: pair_two_images (UID: 55fce868-9df2-4c32-b5b7-985c60dd1492) -> SUCCESS\n",
      "2023-09-15 16:44:23,239 [INFO] Starting action: pair_two_images (UID: 2af8b558-76eb-4e95-b176-d71a5a7199a0) ...\n",
      "2023-09-15 16:44:23,239 [INFO] Finished action: pair_two_images (UID: 2af8b558-76eb-4e95-b176-d71a5a7199a0) -> SUCCESS\n",
      "2023-09-15 16:44:23,239 [INFO] Starting action: pair_two_images (UID: 65cf1211-063e-4a48-9f9e-5d3617a44833) ...\n",
      "2023-09-15 16:44:23,239 [INFO] Finished action: pair_two_images (UID: 65cf1211-063e-4a48-9f9e-5d3617a44833) -> SUCCESS\n",
      "2023-09-15 16:44:23,239 [INFO] Starting action: pair_two_images (UID: 5ae16716-6205-4172-b582-8fcb962bf528) ...\n",
      "2023-09-15 16:44:23,239 [INFO] Finished action: pair_two_images (UID: 5ae16716-6205-4172-b582-8fcb962bf528) -> SUCCESS\n",
      "2023-09-15 16:44:23,239 [INFO] Starting action: pair_two_images (UID: 648e27be-a6d7-4c58-ad30-f59a3bfe6f00) ...\n",
      "2023-09-15 16:44:23,255 [INFO] Finished action: pair_two_images (UID: 648e27be-a6d7-4c58-ad30-f59a3bfe6f00) -> SUCCESS\n",
      "2023-09-15 16:44:23,255 [INFO] Finished action: PythonBinaryBatchAction_basic_example3 (UID: 289750fd-1e25-4315-ae20-04d6ba920456) -> SUCCESS\n",
      "2023-09-15 16:44:23,255 [INFO] Successful actions: 3.\n",
      "2023-09-15 16:44:23,255 [INFO] Skipped actions: 0.\n",
      "2023-09-15 16:44:23,255 [INFO] Failed actions: 0.\n",
      "2023-09-15 16:44:23,255 [INFO] Session finished. Feed me more...\n"
     ]
    }
   ],
   "source": [
    "mr_selector = ActionTagSelector('MR')\n",
    "ct_selector = ActionTagSelector('CT')\n",
    "\n",
    "with session:\n",
    "    PythonBinaryBatchAction(\n",
    "        inputs1Selector=mr_selector,\n",
    "        inputs2Selector=ct_selector,\n",
    "        inputLinker=CaseLinker(),\n",
    "        actionTag=\"basic_example3\",\n",
    "        generateCallable=pair_two_images,\n",
    "        defaultoutputextension=\"txt\"\n",
    "    ).do()"
   ]
  },
  {
   "cell_type": "markdown",
   "id": "36a0dbb2-3c39-4fd3-80f7-4efd1cb9fb80",
   "metadata": {},
   "source": [
    "Looking into the output folder of *basic_example3*, we can see the pairs that were matched up.  \n",
    "For pat1, there are two results: pat1_TP1_MR + pat1_TP1_CT and pat1_TP2_MR + pat1_TP1_CT . We can see, that the CT image for timepoint 1 is matched up twice, with the MR images of timepoint 1 and 2. Alternatively, if we wanted to only link pairs with the same case and timepoint, we can combine different linkers like so: `CaseLinker() + TimePointLinker()`"
   ]
  },
  {
   "cell_type": "code",
   "execution_count": 11,
   "id": "64906e8f-d0f6-4c7c-b778-09590ec2d45a",
   "metadata": {},
   "outputs": [
    {
     "name": "stdout",
     "output_type": "stream",
     "text": [
      "2023-09-15 16:46:44,930 [INFO] Starting action: PythonBinaryBatchAction_basic_example4 (UID: 5b98881f-f9d3-4672-a8fe-14d27e26fafe) ...\n",
      "2023-09-15 16:46:44,945 [INFO] Starting action: pair_two_images (UID: 0d6890a8-961d-43a8-9683-38947066947a) ...\n",
      "2023-09-15 16:46:44,949 [INFO] Finished action: pair_two_images (UID: 0d6890a8-961d-43a8-9683-38947066947a) -> SUCCESS\n",
      "2023-09-15 16:46:44,950 [INFO] Starting action: pair_two_images (UID: 024bbc9d-bf8c-428f-b9ca-abc3db258061) ...\n",
      "2023-09-15 16:46:44,950 [INFO] Finished action: pair_two_images (UID: 024bbc9d-bf8c-428f-b9ca-abc3db258061) -> SUCCESS\n",
      "2023-09-15 16:46:44,950 [INFO] Starting action: pair_two_images (UID: f78a6a15-ac5a-44c2-aeed-ea29d3ab0fed) ...\n",
      "2023-09-15 16:46:44,950 [INFO] Finished action: pair_two_images (UID: f78a6a15-ac5a-44c2-aeed-ea29d3ab0fed) -> SUCCESS\n",
      "2023-09-15 16:46:44,950 [INFO] Starting action: pair_two_images (UID: 680dab2a-33e9-4205-9cad-73703332877c) ...\n",
      "2023-09-15 16:46:44,950 [INFO] Finished action: pair_two_images (UID: 680dab2a-33e9-4205-9cad-73703332877c) -> SUCCESS\n",
      "2023-09-15 16:46:44,950 [INFO] Finished action: PythonBinaryBatchAction_basic_example4 (UID: 5b98881f-f9d3-4672-a8fe-14d27e26fafe) -> SUCCESS\n",
      "2023-09-15 16:46:44,950 [INFO] Successful actions: 4.\n",
      "2023-09-15 16:46:44,950 [INFO] Skipped actions: 0.\n",
      "2023-09-15 16:46:44,950 [INFO] Failed actions: 0.\n",
      "2023-09-15 16:46:44,950 [INFO] Session finished. Feed me more...\n"
     ]
    }
   ],
   "source": [
    "combined_linker = CaseLinker() + TimePointLinker()\n",
    "\n",
    "with session:\n",
    "    PythonBinaryBatchAction(\n",
    "        inputs1Selector=mr_selector,\n",
    "        inputs2Selector=ct_selector,\n",
    "        inputLinker=combined_linker,\n",
    "        actionTag=\"basic_example4\",\n",
    "        generateCallable=pair_two_images,\n",
    "        defaultoutputextension=\"txt\"\n",
    "    ).do()"
   ]
  },
  {
   "cell_type": "code",
   "execution_count": null,
   "id": "1ee937e9-ed2f-4d19-8484-9e8df1143546",
   "metadata": {},
   "outputs": [],
   "source": []
  }
 ],
 "metadata": {
  "kernelspec": {
   "display_name": "avid-env",
   "language": "python",
   "name": "avid-env"
  },
  "language_info": {
   "codemirror_mode": {
    "name": "ipython",
    "version": 3
   },
   "file_extension": ".py",
   "mimetype": "text/x-python",
   "name": "python",
   "nbconvert_exporter": "python",
   "pygments_lexer": "ipython3",
   "version": "3.9.13"
  }
 },
 "nbformat": 4,
 "nbformat_minor": 5
}
